{
 "cells": [
  {
   "cell_type": "markdown",
   "metadata": {},
   "source": [
    "# Lab 1"
   ]
  },
  {
   "cell_type": "code",
   "execution_count": 1,
   "metadata": {
    "ExecuteTime": {
     "end_time": "2019-08-19T05:00:29.209742Z",
     "start_time": "2019-08-19T05:00:29.104Z"
    }
   },
   "outputs": [],
   "source": [
    "x11(width=5, height=5, pointsize=8)"
   ]
  },
  {
   "cell_type": "code",
   "execution_count": null,
   "metadata": {
    "ExecuteTime": {
     "end_time": "2019-08-19T05:00:34.748799Z",
     "start_time": "2019-08-19T05:00:29.632Z"
    },
    "scrolled": true
   },
   "outputs": [],
   "source": [
    "# Load libraries\n",
    "library(faraway)\n",
    "data(wbca)\n",
    "\n",
    "# Logit Fucntion def\n",
    "ilogit = function(x) exp(x)/(1+exp(x))\n",
    "\n",
    "# Build binomial regression model\n",
    "bn = glm(cbind(Class, 1 - Class) ~ ., family=binomial, wbca)\n",
    "summary(bn)\n",
    "\n",
    "# Stepwise selection using AIC\n",
    "bnReduced = step(bn)\n",
    "\n",
    "# Predict (1, 1, 3, 1, 1, 4, 1)\n",
    "hat = predict.glm(bnReduced, newdata = list(Adhes=1,\n",
    "                                          BNucl=1,\n",
    "                                          Chrom=3,\n",
    "                                          Mitos=1,\n",
    "                                          NNucl=1,\n",
    "                                          Thick=4,\n",
    "                                          UShap=1), type='response')\n",
    "\n",
    "CI = predict.glm(bnReduced, newdata = list(Adhes=1,\n",
    "                                       BNucl=1,\n",
    "                                       Chrom=3,\n",
    "                                       Mitos=1,\n",
    "                                       NNucl=1,\n",
    "                                       Thick=4,\n",
    "                                       UShap=1), type='link', se.fit=TRUE)\n",
    "\n",
    "# 95% CI using N(0,1) and transformed using logit\n",
    "ilogit(hat*CI$fit + c(-1,1)*1.96*CI$se.fit)\n",
    "\n",
    "p = predict(bnReduced, type='response')\n",
    "\n",
    "PROBABILITY = 0.5\n",
    "# FN: Probability > 0.5 and benign / total number of benign\n",
    "FN = sum(p > PROBABILITY & wbca$Class != TRUE)/sum(wbca$Class != TRUE)\n",
    "# FP: Probability < 0.5 and malignant / total number of malignant\n",
    "FP = sum(p < PROBABILITY & wbca$Class == TRUE)/sum(wbca$Class == TRUE)\n",
    "\n",
    "NEW_PROBABILITY = 0.9\n",
    "FNnew = sum(p > NEW_PROBABILITY & wbca$Class != TRUE)/sum(wbca$Class != TRUE)\n",
    "FPnew = sum(p < NEW_PROBABILITY & wbca$Class == TRUE)/sum(wbca$Class == TRUE)\n",
    "# Seems to be a trade off between FN or FP rates. Since this is a medical problem,\n",
    "# we definetely prefer the smaller FN since we don't want to missclassify an indidivual\n",
    "# who truly has malignant cancer.\n",
    "\n",
    "# Load new data\n",
    "data(pima)\n",
    "pairs(pima) # test is obviously T/F, and there are obvious signs of non-linear relationships\n",
    "summary(pima) # seems like some values are missing, let us take a look at the raw data\n",
    "(pima) # as expected, there are several entries with 0 values. we'll remove them for this\n",
    "\n",
    "# find all rows with a 0 entry in any col, and drop those indicies\n",
    "vals = pima[, names(pima) != \"test\"]\n",
    "index = apply(vals, 1, function(row) all (row != 0))\n",
    "df = pima[index,]\n",
    "\n",
    "# Fit a binomial regression model, and use step-wise to find a reduced model\n",
    "bn2 = glm(cbind(test, 1-test) ~., family=binomial, df)\n",
    "bn2Reduced = step(bn2)\n",
    "\n",
    "# Do women who test postiive have higher diastolic blood pressures?\n",
    "cor(df[c(\"test\",\"diastolic\")]) # There seems to be no correlation that links the two\n",
    "summary(bn2) # diastolic seems to not be relevant in the model (in the presence of other variables)\n",
    "# May lead to different results seeing as we have removed all rows with 0's\n",
    "\n",
    "# Predict (1,99,64,22,76,27,0.25,25)\n",
    "hat2 = predict.glm(bn2Reduced, newdata = list(glucose=99,\n",
    "                                           bmi=27,\n",
    "                                           diabetes=0.25,\n",
    "                                           age=25), type='response')\n",
    "\n",
    "CI2 = predict.glm(bn2Reduced, newdata = list(glucose=99,\n",
    "                                             bmi=27,\n",
    "                                             diabetes=0.25,\n",
    "                                             age=25), type='link', se.fit=TRUE)\n",
    "\n",
    "# 95% CI using N(0,1) and transformed using logit\n",
    "ilogit(hat2*CI2$fit + c(-1,1)*1.96*CI2$se.fit)"
   ]
  },
  {
   "cell_type": "markdown",
   "metadata": {},
   "source": [
    "# Lab 2"
   ]
  },
  {
   "cell_type": "code",
   "execution_count": null,
   "metadata": {
    "ExecuteTime": {
     "end_time": "2019-08-19T05:00:35.286865Z",
     "start_time": "2019-08-19T05:00:30.588Z"
    }
   },
   "outputs": [],
   "source": [
    "# Load data\n",
    "data(discoveries)\n",
    "df = data.frame(year=c(1860:1959), discoveries=discoveries)\n",
    "\n",
    "# poisson model (log link function)\n",
    "pm = glm(discoveries ~ year, data=df, family=poisson)\n",
    "summary(pm) # Parameters are relevant\n",
    "\n",
    "# Add the year squared variable\n",
    "df$year_squared = (df$year)^2\n",
    "pm2 = glm(discoveries ~ year + year_squared, data=df, family=poisson)\n",
    "summary(pm2) # Parameters are much more relevant\n",
    "\n",
    "# null model\n",
    "null = glm(discoveries ~ 1, data=df, family=poisson)\n",
    "\n",
    "# compare relevance values (deviance) with 1 parameter difference between models\n",
    "D1 = null$deviance - pm$deviance\n",
    "pchisq(D1, 1, lower.tail=FALSE)\n",
    "\n",
    "D2 = pm$deviance - pm2$deviance\n",
    "pchisq(D2, 1, lower.tail=FALSE)\n",
    "# We can conclude that adding the year variable from the null improves the model, and there is also significant\n",
    "# improvement when adding the year_square variable. Hence, we can say that the discovery rate has changed over time.\n",
    "\n",
    "library(MASS)\n",
    "data(ships)\n",
    "str(ships) # year and period should be timeseries or factors, not int\n",
    "df1 = data.frame(ships) \n",
    "df1$year = factor(df1$year)\n",
    "df1$period = factor(df1$period)\n",
    "\n",
    "pairs(df1) # service may need a transformation. Since there are values that are 0, a log transform wont work\n",
    "df1$sqrt_service = sqrt(df1$service)\n",
    "\n",
    "pm = glm(incidents ~ ., data=df1, family=poisson)\n",
    "summary(pm)\n",
    "\n",
    "new_pm = step(pm)\n",
    "# period, year, type, service, sqrt_service seem to be irrelevant models from stepwise selection\n",
    "summary(new_pm)\n",
    "# Type D, type E seem to not be relevant for this model\n",
    "\n",
    "library(survival)\n",
    "data(infert)\n",
    "str(infert) # we dont use stratum since it confounded\n",
    "df2 = data.frame(infert)\n",
    "\n",
    "br = glm(case ~ education + age + parity + induced + case + spontaneous, data=df2, family=binomial)\n",
    "summary(br)"
   ]
  },
  {
   "cell_type": "markdown",
   "metadata": {},
   "source": [
    "# Lab 3"
   ]
  },
  {
   "cell_type": "code",
   "execution_count": null,
   "metadata": {
    "ExecuteTime": {
     "end_time": "2019-08-19T05:00:35.294855Z",
     "start_time": "2019-08-19T05:00:31.407Z"
    }
   },
   "outputs": [],
   "source": [
    "# Load libraries\n",
    "library(faraway)\n",
    "data(cornnit)"
   ]
  },
  {
   "cell_type": "code",
   "execution_count": null,
   "metadata": {
    "ExecuteTime": {
     "end_time": "2019-08-19T05:00:35.302843Z",
     "start_time": "2019-08-19T05:00:31.674Z"
    }
   },
   "outputs": [],
   "source": [
    "pairs(cornnit)"
   ]
  },
  {
   "cell_type": "markdown",
   "metadata": {},
   "source": [
    "- There seems to be some form of exponential relationship, let us try a log plot\n",
    "- Since there are 0 nitrogen values, we will `+1` to all entries"
   ]
  },
  {
   "cell_type": "code",
   "execution_count": 3,
   "metadata": {
    "ExecuteTime": {
     "end_time": "2019-08-18T05:37:17.572203Z",
     "start_time": "2019-08-18T05:37:17.535Z"
    }
   },
   "outputs": [],
   "source": [
    "cornnit$log_nitrogen = log(cornnit$nitrogen + 1)"
   ]
  },
  {
   "cell_type": "code",
   "execution_count": 4,
   "metadata": {
    "ExecuteTime": {
     "end_time": "2019-08-18T05:37:18.025232Z",
     "start_time": "2019-08-18T05:37:17.887Z"
    }
   },
   "outputs": [
    {
     "data": {
      "image/png": "[encoded data removed]",
      "text/plain": [
       "plot without title"
      ]
     },
     "metadata": {},
     "output_type": "display_data"
    }
   ],
   "source": [
    "pairs(cornnit$yield ~ cornnit$log_nitrogen)"
   ]
  },
  {
   "cell_type": "code",
   "execution_count": 5,
   "metadata": {
    "ExecuteTime": {
     "end_time": "2019-08-18T05:37:18.583289Z",
     "start_time": "2019-08-18T05:37:18.525Z"
    }
   },
   "outputs": [
    {
     "data": {
      "text/html": [
       "<table>\n",
       "<tbody>\n",
       "\t<tr><td>383.7435</td><td>381.7124</td><td>382.4205</td></tr>\n",
       "</tbody>\n",
       "</table>\n"
      ],
      "text/latex": [
       "\\begin{tabular}{lll}\n",
       "\t 383.7435 & 381.7124 & 382.4205\\\\\n",
       "\\end{tabular}\n"
      ],
      "text/markdown": [
       "\n",
       "| 383.7435 | 381.7124 | 382.4205 |\n",
       "\n"
      ],
      "text/plain": [
       "     [,1]     [,2]     [,3]    \n",
       "[1,] 383.7435 381.7124 382.4205"
      ]
     },
     "metadata": {},
     "output_type": "display_data"
    }
   ],
   "source": [
    "# inverse, identity or log link functions using log_nitrogen as the predictor\n",
    "br1 = glm(yield ~ log_nitrogen, data=cornnit, family=Gamma(link='inverse'))\n",
    "br2 = glm(yield ~ log_nitrogen, data=cornnit, family=Gamma(link='identity'))\n",
    "br3 = glm(yield ~ log_nitrogen, data=cornnit, family=Gamma(link='log'))\n",
    "\n",
    "cbind(br1$aic, br2$aic, br3$aic)"
   ]
  },
  {
   "cell_type": "markdown",
   "metadata": {},
   "source": [
    "The `identity` link function seems to have the lowest AIC, so we will use that for the question."
   ]
  },
  {
   "cell_type": "code",
   "execution_count": 6,
   "metadata": {
    "ExecuteTime": {
     "end_time": "2019-08-18T05:37:19.491991Z",
     "start_time": "2019-08-18T05:37:19.432Z"
    }
   },
   "outputs": [
    {
     "data": {
      "text/plain": [
       "\n",
       "Call:\n",
       "glm(formula = yield ~ log_nitrogen, family = Gamma(link = \"identity\"), \n",
       "    data = cornnit)\n",
       "\n",
       "Deviance Residuals: \n",
       "     Min        1Q    Median        3Q       Max  \n",
       "-0.57604  -0.07789   0.02067   0.07948   0.26927  \n",
       "\n",
       "Coefficients:\n",
       "             Estimate Std. Error t value Pr(>|t|)    \n",
       "(Intercept)    88.875      3.571   24.89  < 2e-16 ***\n",
       "log_nitrogen   10.337      1.009   10.24 5.46e-13 ***\n",
       "---\n",
       "Signif. codes:  0 '***' 0.001 '**' 0.01 '*' 0.05 '.' 0.1 ' ' 1\n",
       "\n",
       "(Dispersion parameter for Gamma family taken to be 0.01810187)\n",
       "\n",
       "    Null deviance: 2.40614  on 43  degrees of freedom\n",
       "Residual deviance: 0.87603  on 42  degrees of freedom\n",
       "AIC: 381.71\n",
       "\n",
       "Number of Fisher Scoring iterations: 4\n"
      ]
     },
     "metadata": {},
     "output_type": "display_data"
    },
    {
     "data": {
      "text/html": [
       "<table>\n",
       "<thead><tr><th scope=col>phi.hat</th></tr></thead>\n",
       "<tbody>\n",
       "\t<tr><td>0.01810169</td></tr>\n",
       "</tbody>\n",
       "</table>\n"
      ],
      "text/latex": [
       "\\begin{tabular}{l}\n",
       " phi.hat\\\\\n",
       "\\hline\n",
       "\t 0.01810169\\\\\n",
       "\\end{tabular}\n"
      ],
      "text/markdown": [
       "\n",
       "| phi.hat |\n",
       "|---|\n",
       "| 0.01810169 |\n",
       "\n"
      ],
      "text/plain": [
       "     phi.hat   \n",
       "[1,] 0.01810169"
      ]
     },
     "metadata": {},
     "output_type": "display_data"
    }
   ],
   "source": [
    "br = br2\n",
    "N = length(cornnit$yield)\n",
    "p = 2 # number of params in the fitten model\n",
    "\n",
    "# phi.hat is the dispersion parameter \n",
    "phi.hat = sum(residuals(br, \"pearson\")^2) / (N - p)\n",
    "summary(br)\n",
    "\n",
    "cbind(phi.hat)"
   ]
  },
  {
   "cell_type": "code",
   "execution_count": 7,
   "metadata": {
    "ExecuteTime": {
     "end_time": "2019-08-18T05:37:24.297413Z",
     "start_time": "2019-08-18T05:37:24.226Z"
    }
   },
   "outputs": [
    {
     "data": {
      "text/html": [
       "<table>\n",
       "<thead><tr><th></th><th scope=col>Df</th><th scope=col>Deviance</th><th scope=col>Resid. Df</th><th scope=col>Resid. Dev</th><th scope=col>F</th><th scope=col>Pr(&gt;F)</th></tr></thead>\n",
       "<tbody>\n",
       "\t<tr><th scope=row>NULL</th><td>NA          </td><td>      NA    </td><td>43          </td><td>2.4061369   </td><td>      NA    </td><td>          NA</td></tr>\n",
       "\t<tr><th scope=row>log_nitrogen</th><td> 1          </td><td>1.530108    </td><td>42          </td><td>0.8760292   </td><td>84.52763    </td><td>1.296842e-11</td></tr>\n",
       "</tbody>\n",
       "</table>\n"
      ],
      "text/latex": [
       "\\begin{tabular}{r|llllll}\n",
       "  & Df & Deviance & Resid. Df & Resid. Dev & F & Pr(>F)\\\\\n",
       "\\hline\n",
       "\tNULL & NA           &       NA     & 43           & 2.4061369    &       NA     &           NA\\\\\n",
       "\tlog\\_nitrogen &  1           & 1.530108     & 42           & 0.8760292    & 84.52763     & 1.296842e-11\\\\\n",
       "\\end{tabular}\n"
      ],
      "text/markdown": [
       "\n",
       "| <!--/--> | Df | Deviance | Resid. Df | Resid. Dev | F | Pr(>F) |\n",
       "|---|---|---|---|---|---|---|\n",
       "| NULL | NA           |       NA     | 43           | 2.4061369    |       NA     |           NA |\n",
       "| log_nitrogen |  1           | 1.530108     | 42           | 0.8760292    | 84.52763     | 1.296842e-11 |\n",
       "\n"
      ],
      "text/plain": [
       "             Df Deviance Resid. Df Resid. Dev F        Pr(>F)      \n",
       "NULL         NA       NA 43        2.4061369        NA           NA\n",
       "log_nitrogen  1 1.530108 42        0.8760292  84.52763 1.296842e-11"
      ]
     },
     "metadata": {},
     "output_type": "display_data"
    },
    {
     "data": {
      "text/html": [
       "<table>\n",
       "<thead><tr><th scope=col>F</th></tr></thead>\n",
       "<tbody>\n",
       "\t<tr><td>84.52845</td></tr>\n",
       "</tbody>\n",
       "</table>\n"
      ],
      "text/latex": [
       "\\begin{tabular}{l}\n",
       " F\\\\\n",
       "\\hline\n",
       "\t 84.52845\\\\\n",
       "\\end{tabular}\n"
      ],
      "text/markdown": [
       "\n",
       "| F |\n",
       "|---|\n",
       "| 84.52845 |\n",
       "\n"
      ],
      "text/plain": [
       "     F       \n",
       "[1,] 84.52845"
      ]
     },
     "metadata": {},
     "output_type": "display_data"
    }
   ],
   "source": [
    "null.deviance = anova(br, test=\"F\")[1,4]\n",
    "fitted.deviance = anova(br, test=\"F\")[2,4]\n",
    "\n",
    "F = (null.deviance - fitted.deviance) / phi.hat\n",
    "\n",
    "anova(br, test=\"F\")\n",
    "cbind(F)"
   ]
  },
  {
   "cell_type": "markdown",
   "metadata": {},
   "source": [
    "TODO: COME BACK TO SOLVE DIAGNOSTIC PLOTS AFTER WEEK 5"
   ]
  },
  {
   "cell_type": "code",
   "execution_count": 8,
   "metadata": {
    "ExecuteTime": {
     "end_time": "2019-08-18T05:37:25.008298Z",
     "start_time": "2019-08-18T05:37:24.970Z"
    }
   },
   "outputs": [],
   "source": [
    "lm = lm(yield ~ log_nitrogen, data=cornnit)"
   ]
  },
  {
   "cell_type": "code",
   "execution_count": 1,
   "metadata": {
    "ExecuteTime": {
     "end_time": "2019-08-18T05:51:14.585346Z",
     "start_time": "2019-08-18T05:51:13.460Z"
    }
   },
   "outputs": [],
   "source": [
    "library(faraway)\n",
    "data(dvisits)\n",
    "\n",
    "pr = glm(doctorco ~ sex + age + agesq + income + levyplus + freepoor + \n",
    "         freerepa + illness + actdays + hscore + chcond1 + chcond2, data=dvisits, family=poisson)"
   ]
  },
  {
   "cell_type": "code",
   "execution_count": 2,
   "metadata": {
    "ExecuteTime": {
     "end_time": "2019-08-18T05:51:14.727954Z",
     "start_time": "2019-08-18T05:51:13.813Z"
    }
   },
   "outputs": [
    {
     "data": {
      "text/plain": [
       "\n",
       "Call:\n",
       "glm(formula = doctorco ~ sex + age + agesq + income + levyplus + \n",
       "    freepoor + freerepa + illness + actdays + hscore + chcond1 + \n",
       "    chcond2, family = poisson, data = dvisits)\n",
       "\n",
       "Deviance Residuals: \n",
       "    Min       1Q   Median       3Q      Max  \n",
       "-2.9170  -0.6862  -0.5743  -0.4839   5.7005  \n",
       "\n",
       "Coefficients:\n",
       "             Estimate Std. Error z value Pr(>|z|)    \n",
       "(Intercept) -2.223848   0.189816 -11.716   <2e-16 ***\n",
       "sex          0.156882   0.056137   2.795   0.0052 ** \n",
       "age          1.056299   1.000780   1.055   0.2912    \n",
       "agesq       -0.848704   1.077784  -0.787   0.4310    \n",
       "income      -0.205321   0.088379  -2.323   0.0202 *  \n",
       "levyplus     0.123185   0.071640   1.720   0.0855 .  \n",
       "freepoor    -0.440061   0.179811  -2.447   0.0144 *  \n",
       "freerepa     0.079798   0.092060   0.867   0.3860    \n",
       "illness      0.186948   0.018281  10.227   <2e-16 ***\n",
       "actdays      0.126846   0.005034  25.198   <2e-16 ***\n",
       "hscore       0.030081   0.010099   2.979   0.0029 ** \n",
       "chcond1      0.114085   0.066640   1.712   0.0869 .  \n",
       "chcond2      0.141158   0.083145   1.698   0.0896 .  \n",
       "---\n",
       "Signif. codes:  0 '***' 0.001 '**' 0.01 '*' 0.05 '.' 0.1 ' ' 1\n",
       "\n",
       "(Dispersion parameter for poisson family taken to be 1)\n",
       "\n",
       "    Null deviance: 5634.8  on 5189  degrees of freedom\n",
       "Residual deviance: 4379.5  on 5177  degrees of freedom\n",
       "AIC: 6737.1\n",
       "\n",
       "Number of Fisher Scoring iterations: 6\n"
      ]
     },
     "metadata": {},
     "output_type": "display_data"
    }
   ],
   "source": [
    "summary(pr)"
   ]
  },
  {
   "cell_type": "markdown",
   "metadata": {},
   "source": [
    "Although the fitted deviance is very large (4379.5), we have 5177 dof."
   ]
  },
  {
   "cell_type": "code",
   "execution_count": 3,
   "metadata": {
    "ExecuteTime": {
     "end_time": "2019-08-18T05:51:15.125890Z",
     "start_time": "2019-08-18T05:51:14.662Z"
    }
   },
   "outputs": [
    {
     "data": {
      "image/png": "[encoded data removed]",
      "text/plain": [
       "plot without title"
      ]
     },
     "metadata": {},
     "output_type": "display_data"
    }
   ],
   "source": [
    "# Residual vs Predicted plot\n",
    "plot(predict(pr, type=\"response\"), residuals(pr, type=\"response\"))"
   ]
  },
  {
   "cell_type": "markdown",
   "metadata": {},
   "source": [
    "- The fitted residuals vs predictions have a linear relationship since the response is ($y_i-g(\\eta_i)$), where $y_i$ is a whole number. "
   ]
  },
  {
   "cell_type": "code",
   "execution_count": 6,
   "metadata": {
    "ExecuteTime": {
     "end_time": "2019-08-18T05:55:03.909411Z",
     "start_time": "2019-08-18T05:55:03.523Z"
    }
   },
   "outputs": [
    {
     "data": {
      "text/html": [
       "<table>\n",
       "<thead><tr><th></th><th scope=col>Df</th><th scope=col>Deviance</th><th scope=col>AIC</th><th scope=col>LRT</th><th scope=col>Pr(&gt;Chi)</th></tr></thead>\n",
       "<tbody>\n",
       "\t<tr><th scope=row>&lt;none&gt;</th><td>NA           </td><td>4379.515     </td><td>6737.083     </td><td>         NA  </td><td>           NA</td></tr>\n",
       "\t<tr><th scope=row>sex</th><td> 1           </td><td>4387.402     </td><td>6742.970     </td><td>  7.8869639  </td><td> 4.979238e-03</td></tr>\n",
       "\t<tr><th scope=row>age</th><td> 1           </td><td>4380.624     </td><td>6736.192     </td><td>  1.1091455  </td><td> 2.922678e-01</td></tr>\n",
       "\t<tr><th scope=row>agesq</th><td> 1           </td><td>4380.133     </td><td>6735.701     </td><td>  0.6180113  </td><td> 4.317873e-01</td></tr>\n",
       "\t<tr><th scope=row>income</th><td> 1           </td><td>4384.972     </td><td>6740.539     </td><td>  5.4564065  </td><td> 1.949670e-02</td></tr>\n",
       "\t<tr><th scope=row>levyplus</th><td> 1           </td><td>4382.496     </td><td>6738.063     </td><td>  2.9805067  </td><td> 8.427288e-02</td></tr>\n",
       "\t<tr><th scope=row>freepoor</th><td> 1           </td><td>4386.221     </td><td>6741.789     </td><td>  6.7060877  </td><td> 9.608430e-03</td></tr>\n",
       "\t<tr><th scope=row>freerepa</th><td> 1           </td><td>4380.269     </td><td>6735.836     </td><td>  0.7537957  </td><td> 3.852771e-01</td></tr>\n",
       "\t<tr><th scope=row>illness</th><td> 1           </td><td>4481.833     </td><td>6837.401     </td><td>102.3181081  </td><td> 4.728500e-24</td></tr>\n",
       "\t<tr><th scope=row>actdays</th><td> 1           </td><td>4917.102     </td><td>7272.670     </td><td>537.5869621  </td><td>6.315183e-119</td></tr>\n",
       "\t<tr><th scope=row>hscore</th><td> 1           </td><td>4388.145     </td><td>6743.713     </td><td>  8.6300678  </td><td> 3.306593e-03</td></tr>\n",
       "\t<tr><th scope=row>chcond1</th><td> 1           </td><td>4382.454     </td><td>6738.022     </td><td>  2.9393065  </td><td> 8.644784e-02</td></tr>\n",
       "\t<tr><th scope=row>chcond2</th><td> 1           </td><td>4382.383     </td><td>6737.951     </td><td>  2.8681829  </td><td> 9.034682e-02</td></tr>\n",
       "</tbody>\n",
       "</table>\n"
      ],
      "text/latex": [
       "\\begin{tabular}{r|lllll}\n",
       "  & Df & Deviance & AIC & LRT & Pr(>Chi)\\\\\n",
       "\\hline\n",
       "\t<none> & NA            & 4379.515      & 6737.083      &          NA   &            NA\\\\\n",
       "\tsex &  1            & 4387.402      & 6742.970      &   7.8869639   &  4.979238e-03\\\\\n",
       "\tage &  1            & 4380.624      & 6736.192      &   1.1091455   &  2.922678e-01\\\\\n",
       "\tagesq &  1            & 4380.133      & 6735.701      &   0.6180113   &  4.317873e-01\\\\\n",
       "\tincome &  1            & 4384.972      & 6740.539      &   5.4564065   &  1.949670e-02\\\\\n",
       "\tlevyplus &  1            & 4382.496      & 6738.063      &   2.9805067   &  8.427288e-02\\\\\n",
       "\tfreepoor &  1            & 4386.221      & 6741.789      &   6.7060877   &  9.608430e-03\\\\\n",
       "\tfreerepa &  1            & 4380.269      & 6735.836      &   0.7537957   &  3.852771e-01\\\\\n",
       "\tillness &  1            & 4481.833      & 6837.401      & 102.3181081   &  4.728500e-24\\\\\n",
       "\tactdays &  1            & 4917.102      & 7272.670      & 537.5869621   & 6.315183e-119\\\\\n",
       "\thscore &  1            & 4388.145      & 6743.713      &   8.6300678   &  3.306593e-03\\\\\n",
       "\tchcond1 &  1            & 4382.454      & 6738.022      &   2.9393065   &  8.644784e-02\\\\\n",
       "\tchcond2 &  1            & 4382.383      & 6737.951      &   2.8681829   &  9.034682e-02\\\\\n",
       "\\end{tabular}\n"
      ],
      "text/markdown": [
       "\n",
       "| <!--/--> | Df | Deviance | AIC | LRT | Pr(>Chi) |\n",
       "|---|---|---|---|---|---|\n",
       "| <none> | NA            | 4379.515      | 6737.083      |          NA   |            NA |\n",
       "| sex |  1            | 4387.402      | 6742.970      |   7.8869639   |  4.979238e-03 |\n",
       "| age |  1            | 4380.624      | 6736.192      |   1.1091455   |  2.922678e-01 |\n",
       "| agesq |  1            | 4380.133      | 6735.701      |   0.6180113   |  4.317873e-01 |\n",
       "| income |  1            | 4384.972      | 6740.539      |   5.4564065   |  1.949670e-02 |\n",
       "| levyplus |  1            | 4382.496      | 6738.063      |   2.9805067   |  8.427288e-02 |\n",
       "| freepoor |  1            | 4386.221      | 6741.789      |   6.7060877   |  9.608430e-03 |\n",
       "| freerepa |  1            | 4380.269      | 6735.836      |   0.7537957   |  3.852771e-01 |\n",
       "| illness |  1            | 4481.833      | 6837.401      | 102.3181081   |  4.728500e-24 |\n",
       "| actdays |  1            | 4917.102      | 7272.670      | 537.5869621   | 6.315183e-119 |\n",
       "| hscore |  1            | 4388.145      | 6743.713      |   8.6300678   |  3.306593e-03 |\n",
       "| chcond1 |  1            | 4382.454      | 6738.022      |   2.9393065   |  8.644784e-02 |\n",
       "| chcond2 |  1            | 4382.383      | 6737.951      |   2.8681829   |  9.034682e-02 |\n",
       "\n"
      ],
      "text/plain": [
       "         Df Deviance AIC      LRT         Pr(>Chi)     \n",
       "<none>   NA 4379.515 6737.083          NA            NA\n",
       "sex       1 4387.402 6742.970   7.8869639  4.979238e-03\n",
       "age       1 4380.624 6736.192   1.1091455  2.922678e-01\n",
       "agesq     1 4380.133 6735.701   0.6180113  4.317873e-01\n",
       "income    1 4384.972 6740.539   5.4564065  1.949670e-02\n",
       "levyplus  1 4382.496 6738.063   2.9805067  8.427288e-02\n",
       "freepoor  1 4386.221 6741.789   6.7060877  9.608430e-03\n",
       "freerepa  1 4380.269 6735.836   0.7537957  3.852771e-01\n",
       "illness   1 4481.833 6837.401 102.3181081  4.728500e-24\n",
       "actdays   1 4917.102 7272.670 537.5869621 6.315183e-119\n",
       "hscore    1 4388.145 6743.713   8.6300678  3.306593e-03\n",
       "chcond1   1 4382.454 6738.022   2.9393065  8.644784e-02\n",
       "chcond2   1 4382.383 6737.951   2.8681829  9.034682e-02"
      ]
     },
     "metadata": {},
     "output_type": "display_data"
    }
   ],
   "source": [
    "pr2 = drop1(pr, scope=~., test=\"Chisq\")\n",
    "pr2"
   ]
  },
  {
   "cell_type": "markdown",
   "metadata": {},
   "source": [
    "# Lab 4"
   ]
  },
  {
   "cell_type": "code",
   "execution_count": 1,
   "metadata": {
    "ExecuteTime": {
     "end_time": "2019-08-26T02:03:05.253384Z",
     "start_time": "2019-08-26T02:03:04.074Z"
    }
   },
   "outputs": [],
   "source": [
    "library(faraway)\n",
    "data(turtle)"
   ]
  },
  {
   "cell_type": "code",
   "execution_count": 2,
   "metadata": {
    "ExecuteTime": {
     "end_time": "2019-08-26T02:03:07.667867Z",
     "start_time": "2019-08-26T02:03:07.575Z"
    }
   },
   "outputs": [
    {
     "data": {
      "text/plain": [
       "\n",
       "Call:\n",
       "glm(formula = cbind(male, female) ~ ., family = binomial, data = turtle)\n",
       "\n",
       "Deviance Residuals: \n",
       "    Min       1Q   Median       3Q      Max  \n",
       "-2.0721  -1.0292  -0.2714   0.8087   2.5550  \n",
       "\n",
       "Coefficients:\n",
       "            Estimate Std. Error z value Pr(>|z|)    \n",
       "(Intercept) -61.3183    12.0224  -5.100 3.39e-07 ***\n",
       "temp          2.2110     0.4309   5.132 2.87e-07 ***\n",
       "---\n",
       "Signif. codes:  0 '***' 0.001 '**' 0.01 '*' 0.05 '.' 0.1 ' ' 1\n",
       "\n",
       "(Dispersion parameter for binomial family taken to be 1)\n",
       "\n",
       "    Null deviance: 74.508  on 14  degrees of freedom\n",
       "Residual deviance: 24.942  on 13  degrees of freedom\n",
       "AIC: 53.836\n",
       "\n",
       "Number of Fisher Scoring iterations: 5\n"
      ]
     },
     "metadata": {},
     "output_type": "display_data"
    }
   ],
   "source": [
    "# Set the binomial model\n",
    "br = glm(cbind(male, female) ~ ., data=turtle, family=binomial)\n",
    "summary(br)"
   ]
  },
  {
   "cell_type": "code",
   "execution_count": 3,
   "metadata": {
    "ExecuteTime": {
     "end_time": "2019-08-26T02:03:09.829894Z",
     "start_time": "2019-08-26T02:03:09.790Z"
    }
   },
   "outputs": [
    {
     "data": {
      "text/html": [
       "2.18686147549262"
      ],
      "text/latex": [
       "2.18686147549262"
      ],
      "text/markdown": [
       "2.18686147549262"
      ],
      "text/plain": [
       "[1] 2.186861"
      ]
     },
     "metadata": {},
     "output_type": "display_data"
    }
   ],
   "source": [
    "# We check for phi > 1, where the assumption for no overdispersion is phi = 1, for phi >= 1.\n",
    "pearson.stat = residuals(br, type=\"pearson\")^2\n",
    "n = dim(turtle)[1]\n",
    "p = dim(turtle)[2]\n",
    "\n",
    "phi.hat = sum(pearson.stat / (n - p))\n",
    "\n",
    "phi.hat"
   ]
  },
  {
   "cell_type": "code",
   "execution_count": null,
   "metadata": {},
   "outputs": [],
   "source": []
  },
  {
   "cell_type": "markdown",
   "metadata": {
    "ExecuteTime": {
     "end_time": "2019-08-25T01:08:04.720399Z",
     "start_time": "2019-08-25T01:08:04.621Z"
    }
   },
   "source": [
    "We make the observation that $\\hat{\\phi}\\approx 2.2$, which is greater than 1. There could be some overdispersion.\n",
    "\n",
    "- If we ignore overdispersion, the estimation remains identical, but the inference changes\n",
    "- With overdispersion, the Fstat is reduced which makes it less significant in general wrt model comparision\n",
    "- Our estimate for $\\Sigma$ also increases (since $\\phi \\geq 1$), so naturally our CI is much wider"
   ]
  },
  {
   "cell_type": "code",
   "execution_count": 4,
   "metadata": {
    "ExecuteTime": {
     "end_time": "2019-08-26T02:03:11.864138Z",
     "start_time": "2019-08-26T02:03:11.726Z"
    }
   },
   "outputs": [
    {
     "data": {
      "image/png": "[encoded data removed]",
      "text/plain": [
       "plot without title"
      ]
     },
     "metadata": {},
     "output_type": "display_data"
    }
   ],
   "source": [
    "data(dicentric)\n",
    "with(dicentric, interaction.plot(doseamt, doserate, ca/cells))"
   ]
  },
  {
   "cell_type": "markdown",
   "metadata": {},
   "source": [
    "Rate is define as $\\textrm{log}(\\frac{\\lambda_i}{t_i}) = x_i^T\\beta$, which implies $\\textrm{log}(\\lambda_i) = x_i^T\\beta + \\textrm{log}(t_i)$. \n",
    "\n",
    "Therefore, for this dataset of ca / cells, we have $\\textrm{log(ca)} = x_i^T\\beta + \\textrm{log(cells)}$\n",
    "\n",
    "- We take note that we do `doserate:doseamt` since they will obviously have some interaction (rate of dosage and amount of dosage)"
   ]
  },
  {
   "cell_type": "code",
   "execution_count": 5,
   "metadata": {
    "ExecuteTime": {
     "end_time": "2019-08-26T02:03:14.955024Z",
     "start_time": "2019-08-26T02:03:14.910Z"
    }
   },
   "outputs": [
    {
     "data": {
      "text/plain": [
       "\n",
       "Call:\n",
       "glm(formula = ca ~ offset(log(cells)) + doserate * doseamt, family = poisson, \n",
       "    data = dicentric)\n",
       "\n",
       "Deviance Residuals: \n",
       "    Min       1Q   Median       3Q      Max  \n",
       "-5.7308  -2.2842  -0.6264   3.3487   5.8272  \n",
       "\n",
       "Coefficients:\n",
       "                 Estimate Std. Error z value Pr(>|z|)    \n",
       "(Intercept)      -3.29994    0.06160 -53.567  < 2e-16 ***\n",
       "doserate          0.06401    0.02922   2.191 0.028476 *  \n",
       "doseamt           0.61224    0.01707  35.862  < 2e-16 ***\n",
       "doserate:doseamt  0.02715    0.00765   3.549 0.000387 ***\n",
       "---\n",
       "Signif. codes:  0 '***' 0.001 '**' 0.01 '*' 0.05 '.' 0.1 ' ' 1\n",
       "\n",
       "(Dispersion parameter for poisson family taken to be 1)\n",
       "\n",
       "    Null deviance: 4753.00  on 26  degrees of freedom\n",
       "Residual deviance:  270.26  on 23  degrees of freedom\n",
       "AIC: 453.67\n",
       "\n",
       "Number of Fisher Scoring iterations: 4\n"
      ]
     },
     "metadata": {},
     "output_type": "display_data"
    }
   ],
   "source": [
    "pr = glm(ca ~ offset(log(cells)) + doserate*doseamt, data=dicentric, family=poisson)\n",
    "summary(pr)"
   ]
  },
  {
   "cell_type": "markdown",
   "metadata": {},
   "source": [
    "Wow, the null deviance is very large (4753) with only 26 degrees of freedom."
   ]
  },
  {
   "cell_type": "code",
   "execution_count": 6,
   "metadata": {
    "ExecuteTime": {
     "end_time": "2019-08-26T02:03:17.377188Z",
     "start_time": "2019-08-26T02:03:17.310Z"
    }
   },
   "outputs": [
    {
     "name": "stdout",
     "output_type": "stream",
     "text": [
      "Start:  AIC=453.67\n",
      "ca ~ offset(log(cells)) + doserate * doseamt\n",
      "\n",
      "                   Df Deviance    AIC\n",
      "<none>                  270.26 453.67\n",
      "- doserate:doseamt  1   282.95 464.35\n"
     ]
    },
    {
     "data": {
      "text/plain": [
       "\n",
       "Call:  glm(formula = ca ~ offset(log(cells)) + doserate * doseamt, family = poisson, \n",
       "    data = dicentric)\n",
       "\n",
       "Coefficients:\n",
       "     (Intercept)          doserate           doseamt  doserate:doseamt  \n",
       "        -3.29994           0.06401           0.61224           0.02715  \n",
       "\n",
       "Degrees of Freedom: 26 Total (i.e. Null);  23 Residual\n",
       "Null Deviance:\t    4753 \n",
       "Residual Deviance: 270.3 \tAIC: 453.7"
      ]
     },
     "metadata": {},
     "output_type": "display_data"
    }
   ],
   "source": [
    "step(pr)"
   ]
  },
  {
   "cell_type": "markdown",
   "metadata": {},
   "source": [
    "The model is already quite significant, and removing the interaction increases the AIC. Let's check for some overdispersion."
   ]
  },
  {
   "cell_type": "code",
   "execution_count": 7,
   "metadata": {
    "ExecuteTime": {
     "end_time": "2019-08-26T02:03:20.076515Z",
     "start_time": "2019-08-26T02:03:20.034Z"
    }
   },
   "outputs": [
    {
     "data": {
      "text/html": [
       "12.9722585914553"
      ],
      "text/latex": [
       "12.9722585914553"
      ],
      "text/markdown": [
       "12.9722585914553"
      ],
      "text/plain": [
       "[1] 12.97226"
      ]
     },
     "metadata": {},
     "output_type": "display_data"
    }
   ],
   "source": [
    "pearson.stat = residuals(pr, type=\"pearson\")^2\n",
    "n = dim(dicentric)[1]\n",
    "p = dim(dicentric)[2]\n",
    "\n",
    "phi.hat = sum(pearson.stat / (n - p))\n",
    "\n",
    "phi.hat"
   ]
  },
  {
   "cell_type": "markdown",
   "metadata": {},
   "source": [
    "There seems to be a very strong sign of overdispersion (12.97), which may decrease the model significance Fstat significantly. Let's take this into account by using a `quasipossion` model."
   ]
  },
  {
   "cell_type": "code",
   "execution_count": 8,
   "metadata": {
    "ExecuteTime": {
     "end_time": "2019-08-26T02:03:21.826431Z",
     "start_time": "2019-08-26T02:03:21.746Z"
    }
   },
   "outputs": [
    {
     "data": {
      "text/plain": [
       "\n",
       "Call:\n",
       "glm(formula = ca ~ offset(log(cells)) + doserate * doseamt, family = quasipoisson, \n",
       "    data = dicentric)\n",
       "\n",
       "Deviance Residuals: \n",
       "    Min       1Q   Median       3Q      Max  \n",
       "-5.7308  -2.2842  -0.6264   3.3487   5.8272  \n",
       "\n",
       "Coefficients:\n",
       "                 Estimate Std. Error t value Pr(>|t|)    \n",
       "(Intercept)      -3.29994    0.22188 -14.873 2.73e-13 ***\n",
       "doserate          0.06401    0.10524   0.608    0.549    \n",
       "doseamt           0.61224    0.06149   9.957 8.29e-10 ***\n",
       "doserate:doseamt  0.02715    0.02755   0.985    0.335    \n",
       "---\n",
       "Signif. codes:  0 '***' 0.001 '**' 0.01 '*' 0.05 '.' 0.1 ' ' 1\n",
       "\n",
       "(Dispersion parameter for quasipoisson family taken to be 12.97228)\n",
       "\n",
       "    Null deviance: 4753.00  on 26  degrees of freedom\n",
       "Residual deviance:  270.26  on 23  degrees of freedom\n",
       "AIC: NA\n",
       "\n",
       "Number of Fisher Scoring iterations: 4\n"
      ]
     },
     "metadata": {},
     "output_type": "display_data"
    }
   ],
   "source": [
    "qpr = glm(ca ~ offset(log(cells)) + doserate*doseamt, data=dicentric, family=quasipoisson)\n",
    "summary(qpr)\n",
    "\n",
    "# Note, since we are using quasipoisson, we cannot use the AIC step. We must use ANOVA to see."
   ]
  },
  {
   "cell_type": "code",
   "execution_count": 9,
   "metadata": {
    "ExecuteTime": {
     "end_time": "2019-08-26T02:03:23.802106Z",
     "start_time": "2019-08-26T02:03:23.726Z"
    }
   },
   "outputs": [
    {
     "data": {
      "text/html": [
       "<table>\n",
       "<thead><tr><th></th><th scope=col>Df</th><th scope=col>Deviance</th><th scope=col>Resid. Df</th><th scope=col>Resid. Dev</th><th scope=col>F</th><th scope=col>Pr(&gt;F)</th></tr></thead>\n",
       "<tbody>\n",
       "\t<tr><th scope=row>NULL</th><td>NA          </td><td>        NA  </td><td>26          </td><td>4753.0040   </td><td>         NA </td><td>          NA</td></tr>\n",
       "\t<tr><th scope=row>doserate</th><td> 1          </td><td> 231.32054  </td><td>25          </td><td>4521.6835   </td><td> 17.8319145 </td><td>3.231570e-04</td></tr>\n",
       "\t<tr><th scope=row>doseamt</th><td> 1          </td><td>4238.73645  </td><td>24          </td><td> 282.9471   </td><td>326.7534607 </td><td>4.330318e-15</td></tr>\n",
       "\t<tr><th scope=row>doserate:doseamt</th><td> 1          </td><td>  12.68767  </td><td>23          </td><td> 270.2594   </td><td>  0.9780603 </td><td>3.329689e-01</td></tr>\n",
       "</tbody>\n",
       "</table>\n"
      ],
      "text/latex": [
       "\\begin{tabular}{r|llllll}\n",
       "  & Df & Deviance & Resid. Df & Resid. Dev & F & Pr(>F)\\\\\n",
       "\\hline\n",
       "\tNULL & NA           &         NA   & 26           & 4753.0040    &          NA  &           NA\\\\\n",
       "\tdoserate &  1           &  231.32054   & 25           & 4521.6835    &  17.8319145  & 3.231570e-04\\\\\n",
       "\tdoseamt &  1           & 4238.73645   & 24           &  282.9471    & 326.7534607  & 4.330318e-15\\\\\n",
       "\tdoserate:doseamt &  1           &   12.68767   & 23           &  270.2594    &   0.9780603  & 3.329689e-01\\\\\n",
       "\\end{tabular}\n"
      ],
      "text/markdown": [
       "\n",
       "| <!--/--> | Df | Deviance | Resid. Df | Resid. Dev | F | Pr(>F) |\n",
       "|---|---|---|---|---|---|---|\n",
       "| NULL | NA           |         NA   | 26           | 4753.0040    |          NA  |           NA |\n",
       "| doserate |  1           |  231.32054   | 25           | 4521.6835    |  17.8319145  | 3.231570e-04 |\n",
       "| doseamt |  1           | 4238.73645   | 24           |  282.9471    | 326.7534607  | 4.330318e-15 |\n",
       "| doserate:doseamt |  1           |   12.68767   | 23           |  270.2594    |   0.9780603  | 3.329689e-01 |\n",
       "\n"
      ],
      "text/plain": [
       "                 Df Deviance   Resid. Df Resid. Dev F           Pr(>F)      \n",
       "NULL             NA         NA 26        4753.0040           NA           NA\n",
       "doserate          1  231.32054 25        4521.6835   17.8319145 3.231570e-04\n",
       "doseamt           1 4238.73645 24         282.9471  326.7534607 4.330318e-15\n",
       "doserate:doseamt  1   12.68767 23         270.2594    0.9780603 3.329689e-01"
      ]
     },
     "metadata": {},
     "output_type": "display_data"
    }
   ],
   "source": [
    "anova(qpr, test=\"F\")"
   ]
  },
  {
   "cell_type": "markdown",
   "metadata": {},
   "source": [
    "We see that the interaction term `doserate:doseamt` is not significant (greater than 0.05). We will remove this for the final model."
   ]
  },
  {
   "cell_type": "code",
   "execution_count": 10,
   "metadata": {
    "ExecuteTime": {
     "end_time": "2019-08-26T02:03:24.522267Z",
     "start_time": "2019-08-26T02:03:24.484Z"
    }
   },
   "outputs": [
    {
     "data": {
      "text/plain": [
       "\n",
       "Call:\n",
       "glm(formula = ca ~ offset(log(cells)) + doserate + doseamt, family = quasipoisson, \n",
       "    data = dicentric)\n",
       "\n",
       "Deviance Residuals: \n",
       "   Min      1Q  Median      3Q     Max  \n",
       "-6.761  -1.696  -0.401   3.286   5.798  \n",
       "\n",
       "Coefficients:\n",
       "            Estimate Std. Error t value Pr(>|t|)    \n",
       "(Intercept) -3.46115    0.15430 -22.432  < 2e-16 ***\n",
       "doserate     0.15501    0.04881   3.176  0.00407 ** \n",
       "doseamt      0.66230    0.03456  19.163 4.72e-16 ***\n",
       "---\n",
       "Signif. codes:  0 '***' 0.001 '**' 0.01 '*' 0.05 '.' 0.1 ' ' 1\n",
       "\n",
       "(Dispersion parameter for quasipoisson family taken to be 12.72344)\n",
       "\n",
       "    Null deviance: 4753.00  on 26  degrees of freedom\n",
       "Residual deviance:  282.95  on 24  degrees of freedom\n",
       "AIC: NA\n",
       "\n",
       "Number of Fisher Scoring iterations: 4\n"
      ]
     },
     "metadata": {},
     "output_type": "display_data"
    }
   ],
   "source": [
    "qpr.final = qpr = glm(ca ~ offset(log(cells)) + doserate + doseamt, data=dicentric, family=quasipoisson)\n",
    "summary(qpr.final)"
   ]
  },
  {
   "cell_type": "markdown",
   "metadata": {},
   "source": [
    "The deviance is still very large, but at least we have ruled out the interaction."
   ]
  },
  {
   "cell_type": "markdown",
   "metadata": {},
   "source": [
    "# Lab 5"
   ]
  },
  {
   "cell_type": "code",
   "execution_count": 3,
   "metadata": {
    "ExecuteTime": {
     "end_time": "2019-09-01T23:52:58.568938Z",
     "start_time": "2019-09-01T23:52:58.519Z"
    }
   },
   "outputs": [],
   "source": [
    "library(faraway)\n",
    "data(hsb)\n",
    "library(nnet) # this is the library for multinomial models"
   ]
  },
  {
   "cell_type": "code",
   "execution_count": 7,
   "metadata": {
    "ExecuteTime": {
     "end_time": "2019-09-01T23:54:06.780844Z",
     "start_time": "2019-09-01T23:54:06.673Z"
    }
   },
   "outputs": [
    {
     "data": {
      "text/plain": [
       "Call:\n",
       "multinom(formula = prog ~ ., data = hsb[-1], trace = FALSE)\n",
       "\n",
       "Coefficients:\n",
       "         (Intercept)  gendermale raceasian racehispanic racewhite     seslow\n",
       "general     3.631901 -0.09264717  1.352739   -0.6322019 0.2965156 1.09864111\n",
       "vocation    7.481381 -0.32104341 -0.700070   -0.1993556 0.3358881 0.04747323\n",
       "         sesmiddle schtyppublic        read       write       math    science\n",
       "general  0.7029621    0.5845405 -0.04418353 -0.03627381 -0.1092888 0.10193746\n",
       "vocation 1.1815808    2.0553336 -0.03481202 -0.03166001 -0.1139877 0.05229938\n",
       "               socst\n",
       "general  -0.01976995\n",
       "vocation -0.08040129\n",
       "\n",
       "Std. Errors:\n",
       "         (Intercept) gendermale raceasian racehispanic racewhite    seslow\n",
       "general     1.823452  0.4548778  1.058754    0.8935504 0.7354829 0.6066763\n",
       "vocation    2.104698  0.5021132  1.470176    0.8393676 0.7480573 0.7045772\n",
       "         sesmiddle schtyppublic       read      write       math    science\n",
       "general  0.5045938    0.5642925 0.03103707 0.03381324 0.03522441 0.03274038\n",
       "vocation 0.5700833    0.8348229 0.03422409 0.03585729 0.03885131 0.03424763\n",
       "              socst\n",
       "general  0.02712589\n",
       "vocation 0.02938212\n",
       "\n",
       "Residual Deviance: 305.8705 \n",
       "AIC: 357.8705 "
      ]
     },
     "metadata": {},
     "output_type": "display_data"
    }
   ],
   "source": [
    "mm = multinom(prog ~ ., hsb[-1], trace = FALSE) # prog wrt all attributes except ID\n",
    "summary(mm)"
   ]
  },
  {
   "cell_type": "code",
   "execution_count": 12,
   "metadata": {
    "ExecuteTime": {
     "end_time": "2019-09-01T23:56:13.205522Z",
     "start_time": "2019-09-01T23:56:12.891Z"
    },
    "scrolled": false
   },
   "outputs": [
    {
     "name": "stdout",
     "output_type": "stream",
     "text": [
      "trying - gender \n",
      "trying - race \n",
      "trying - ses \n",
      "trying - schtyp \n",
      "trying - read \n",
      "trying - write \n",
      "trying - math \n",
      "trying - science \n",
      "trying - socst \n",
      "trying - gender \n",
      "trying - ses \n",
      "trying - schtyp \n",
      "trying - read \n",
      "trying - write \n",
      "trying - math \n",
      "trying - science \n",
      "trying - socst \n",
      "trying - ses \n",
      "trying - schtyp \n",
      "trying - read \n",
      "trying - write \n",
      "trying - math \n",
      "trying - science \n",
      "trying - socst \n",
      "trying - ses \n",
      "trying - schtyp \n",
      "trying - read \n",
      "trying - math \n",
      "trying - science \n",
      "trying - socst \n",
      "trying - ses \n",
      "trying - schtyp \n",
      "trying - math \n",
      "trying - science \n",
      "trying - socst \n"
     ]
    }
   ],
   "source": [
    "final_mm = step(mm, trace=FALSE)"
   ]
  },
  {
   "cell_type": "code",
   "execution_count": 13,
   "metadata": {
    "ExecuteTime": {
     "end_time": "2019-09-01T23:56:34.627012Z",
     "start_time": "2019-09-01T23:56:34.579Z"
    }
   },
   "outputs": [
    {
     "data": {
      "text/plain": [
       "Call:\n",
       "multinom(formula = prog ~ ses + schtyp + math + science + socst, \n",
       "    data = hsb[-1], trace = FALSE)\n",
       "\n",
       "Coefficients:\n",
       "         (Intercept)      seslow sesmiddle schtyppublic       math    science\n",
       "general     2.587029  0.87607389 0.6978995    0.6468812 -0.1212242 0.08209791\n",
       "vocation    6.687272 -0.01569301 1.2065000    1.9955504 -0.1369641 0.03941237\n",
       "               socst\n",
       "general  -0.04441228\n",
       "vocation -0.09363417\n",
       "\n",
       "Std. Errors:\n",
       "         (Intercept)    seslow sesmiddle schtyppublic       math    science\n",
       "general     1.686492 0.5758781 0.4930330     0.545598 0.03213345 0.02787694\n",
       "vocation    1.945363 0.6690861 0.5571202     0.812881 0.03591701 0.02864929\n",
       "              socst\n",
       "general  0.02344856\n",
       "vocation 0.02586717\n",
       "\n",
       "Residual Deviance: 315.5511 \n",
       "AIC: 343.5511 "
      ]
     },
     "metadata": {},
     "output_type": "display_data"
    }
   ],
   "source": [
    "summary(final_mm)"
   ]
  },
  {
   "cell_type": "markdown",
   "metadata": {},
   "source": [
    "- Students from high socioeconomic classes will choose general high school programs\n",
    "- Med socioeconomic classes will choose vocational programs\n",
    "- Low socioeconomic classes do not show any interest\n",
    "- Public school students are more likely to choose general programs and vocational programs compared to Private school students\n",
    "- High results in maths and social sciences is highly correlated with academic programs, whilst high results in science yields a lower chance"
   ]
  },
  {
   "cell_type": "code",
   "execution_count": 17,
   "metadata": {
    "ExecuteTime": {
     "end_time": "2019-09-02T00:02:08.124020Z",
     "start_time": "2019-09-02T00:02:08.088Z"
    }
   },
   "outputs": [
    {
     "data": {
      "text/html": [
       "<table>\n",
       "<thead><tr><th></th><th scope=col>id</th><th scope=col>gender</th><th scope=col>race</th><th scope=col>ses</th><th scope=col>schtyp</th><th scope=col>prog</th><th scope=col>read</th><th scope=col>write</th><th scope=col>math</th><th scope=col>science</th><th scope=col>socst</th></tr></thead>\n",
       "<tbody>\n",
       "\t<tr><th scope=row>102</th><td>99     </td><td>female </td><td>white  </td><td>high   </td><td>public </td><td>general</td><td>47     </td><td>59     </td><td>56     </td><td>66     </td><td>61     </td></tr>\n",
       "</tbody>\n",
       "</table>\n"
      ],
      "text/latex": [
       "\\begin{tabular}{r|lllllllllll}\n",
       "  & id & gender & race & ses & schtyp & prog & read & write & math & science & socst\\\\\n",
       "\\hline\n",
       "\t102 & 99      & female  & white   & high    & public  & general & 47      & 59      & 56      & 66      & 61     \\\\\n",
       "\\end{tabular}\n"
      ],
      "text/markdown": [
       "\n",
       "| <!--/--> | id | gender | race | ses | schtyp | prog | read | write | math | science | socst |\n",
       "|---|---|---|---|---|---|---|---|---|---|---|---|\n",
       "| 102 | 99      | female  | white   | high    | public  | general | 47      | 59      | 56      | 66      | 61      |\n",
       "\n"
      ],
      "text/plain": [
       "    id gender race  ses  schtyp prog    read write math science socst\n",
       "102 99 female white high public general 47   59    56   66      61   "
      ]
     },
     "metadata": {},
     "output_type": "display_data"
    }
   ],
   "source": [
    "t = hsb[hsb$id == 99,]\n",
    "t"
   ]
  },
  {
   "cell_type": "code",
   "execution_count": 19,
   "metadata": {
    "ExecuteTime": {
     "end_time": "2019-09-02T00:02:23.110099Z",
     "start_time": "2019-09-02T00:02:23.079Z"
    }
   },
   "outputs": [
    {
     "data": {
      "text/html": [
       "<dl class=dl-horizontal>\n",
       "\t<dt>academic</dt>\n",
       "\t\t<dd>0.644263087774945</dd>\n",
       "\t<dt>general</dt>\n",
       "\t\t<dd>0.276656088073914</dd>\n",
       "\t<dt>vocation</dt>\n",
       "\t\t<dd>0.079080824151142</dd>\n",
       "</dl>\n"
      ],
      "text/latex": [
       "\\begin{description*}\n",
       "\\item[academic] 0.644263087774945\n",
       "\\item[general] 0.276656088073914\n",
       "\\item[vocation] 0.079080824151142\n",
       "\\end{description*}\n"
      ],
      "text/markdown": [
       "academic\n",
       ":   0.644263087774945general\n",
       ":   0.276656088073914vocation\n",
       ":   0.079080824151142\n",
       "\n"
      ],
      "text/plain": [
       "  academic    general   vocation \n",
       "0.64426309 0.27665609 0.07908082 "
      ]
     },
     "metadata": {},
     "output_type": "display_data"
    }
   ],
   "source": [
    "predict(final_mm, newdata=t , type=\"probs\")"
   ]
  },
  {
   "cell_type": "markdown",
   "metadata": {},
   "source": [
    "ID 99 will most likely enroll into an academic program ($p = 0.64$), and not likely to enroll into a general or vocational program."
   ]
  },
  {
   "cell_type": "markdown",
   "metadata": {},
   "source": [
    "predicting the frequency of the three outcomes in terms of\n",
    "length of service and use it to predict the outcome for a miner with 25 years of service"
   ]
  },
  {
   "cell_type": "code",
   "execution_count": 22,
   "metadata": {
    "ExecuteTime": {
     "end_time": "2019-09-02T02:00:24.498147Z",
     "start_time": "2019-09-02T02:00:24.459Z"
    }
   },
   "outputs": [],
   "source": [
    "data(pneumo)"
   ]
  },
  {
   "cell_type": "code",
   "execution_count": 25,
   "metadata": {
    "ExecuteTime": {
     "end_time": "2019-09-02T02:02:29.614920Z",
     "start_time": "2019-09-02T02:02:29.569Z"
    }
   },
   "outputs": [
    {
     "data": {
      "text/html": [
       "<table>\n",
       "<thead><tr><th scope=col>Freq</th><th scope=col>status</th><th scope=col>year</th></tr></thead>\n",
       "<tbody>\n",
       "\t<tr><td>98    </td><td>normal</td><td> 5.8  </td></tr>\n",
       "\t<tr><td>51    </td><td>normal</td><td>15.0  </td></tr>\n",
       "\t<tr><td>34    </td><td>normal</td><td>21.5  </td></tr>\n",
       "\t<tr><td>35    </td><td>normal</td><td>27.5  </td></tr>\n",
       "\t<tr><td>32    </td><td>normal</td><td>33.5  </td></tr>\n",
       "\t<tr><td>23    </td><td>normal</td><td>39.5  </td></tr>\n",
       "\t<tr><td>12    </td><td>normal</td><td>46.0  </td></tr>\n",
       "\t<tr><td> 4    </td><td>normal</td><td>51.5  </td></tr>\n",
       "\t<tr><td> 0    </td><td>mild  </td><td> 5.8  </td></tr>\n",
       "\t<tr><td> 2    </td><td>mild  </td><td>15.0  </td></tr>\n",
       "\t<tr><td> 6    </td><td>mild  </td><td>21.5  </td></tr>\n",
       "\t<tr><td> 5    </td><td>mild  </td><td>27.5  </td></tr>\n",
       "\t<tr><td>10    </td><td>mild  </td><td>33.5  </td></tr>\n",
       "\t<tr><td> 7    </td><td>mild  </td><td>39.5  </td></tr>\n",
       "\t<tr><td> 6    </td><td>mild  </td><td>46.0  </td></tr>\n",
       "\t<tr><td> 2    </td><td>mild  </td><td>51.5  </td></tr>\n",
       "\t<tr><td> 0    </td><td>severe</td><td> 5.8  </td></tr>\n",
       "\t<tr><td> 1    </td><td>severe</td><td>15.0  </td></tr>\n",
       "\t<tr><td> 3    </td><td>severe</td><td>21.5  </td></tr>\n",
       "\t<tr><td> 8    </td><td>severe</td><td>27.5  </td></tr>\n",
       "\t<tr><td> 9    </td><td>severe</td><td>33.5  </td></tr>\n",
       "\t<tr><td> 8    </td><td>severe</td><td>39.5  </td></tr>\n",
       "\t<tr><td>10    </td><td>severe</td><td>46.0  </td></tr>\n",
       "\t<tr><td> 5    </td><td>severe</td><td>51.5  </td></tr>\n",
       "</tbody>\n",
       "</table>\n"
      ],
      "text/latex": [
       "\\begin{tabular}{r|lll}\n",
       " Freq & status & year\\\\\n",
       "\\hline\n",
       "\t 98     & normal &  5.8  \\\\\n",
       "\t 51     & normal & 15.0  \\\\\n",
       "\t 34     & normal & 21.5  \\\\\n",
       "\t 35     & normal & 27.5  \\\\\n",
       "\t 32     & normal & 33.5  \\\\\n",
       "\t 23     & normal & 39.5  \\\\\n",
       "\t 12     & normal & 46.0  \\\\\n",
       "\t  4     & normal & 51.5  \\\\\n",
       "\t  0     & mild   &  5.8  \\\\\n",
       "\t  2     & mild   & 15.0  \\\\\n",
       "\t  6     & mild   & 21.5  \\\\\n",
       "\t  5     & mild   & 27.5  \\\\\n",
       "\t 10     & mild   & 33.5  \\\\\n",
       "\t  7     & mild   & 39.5  \\\\\n",
       "\t  6     & mild   & 46.0  \\\\\n",
       "\t  2     & mild   & 51.5  \\\\\n",
       "\t  0     & severe &  5.8  \\\\\n",
       "\t  1     & severe & 15.0  \\\\\n",
       "\t  3     & severe & 21.5  \\\\\n",
       "\t  8     & severe & 27.5  \\\\\n",
       "\t  9     & severe & 33.5  \\\\\n",
       "\t  8     & severe & 39.5  \\\\\n",
       "\t 10     & severe & 46.0  \\\\\n",
       "\t  5     & severe & 51.5  \\\\\n",
       "\\end{tabular}\n"
      ],
      "text/markdown": [
       "\n",
       "| Freq | status | year |\n",
       "|---|---|---|\n",
       "| 98     | normal |  5.8   |\n",
       "| 51     | normal | 15.0   |\n",
       "| 34     | normal | 21.5   |\n",
       "| 35     | normal | 27.5   |\n",
       "| 32     | normal | 33.5   |\n",
       "| 23     | normal | 39.5   |\n",
       "| 12     | normal | 46.0   |\n",
       "|  4     | normal | 51.5   |\n",
       "|  0     | mild   |  5.8   |\n",
       "|  2     | mild   | 15.0   |\n",
       "|  6     | mild   | 21.5   |\n",
       "|  5     | mild   | 27.5   |\n",
       "| 10     | mild   | 33.5   |\n",
       "|  7     | mild   | 39.5   |\n",
       "|  6     | mild   | 46.0   |\n",
       "|  2     | mild   | 51.5   |\n",
       "|  0     | severe |  5.8   |\n",
       "|  1     | severe | 15.0   |\n",
       "|  3     | severe | 21.5   |\n",
       "|  8     | severe | 27.5   |\n",
       "|  9     | severe | 33.5   |\n",
       "|  8     | severe | 39.5   |\n",
       "| 10     | severe | 46.0   |\n",
       "|  5     | severe | 51.5   |\n",
       "\n"
      ],
      "text/plain": [
       "   Freq status year\n",
       "1  98   normal  5.8\n",
       "2  51   normal 15.0\n",
       "3  34   normal 21.5\n",
       "4  35   normal 27.5\n",
       "5  32   normal 33.5\n",
       "6  23   normal 39.5\n",
       "7  12   normal 46.0\n",
       "8   4   normal 51.5\n",
       "9   0   mild    5.8\n",
       "10  2   mild   15.0\n",
       "11  6   mild   21.5\n",
       "12  5   mild   27.5\n",
       "13 10   mild   33.5\n",
       "14  7   mild   39.5\n",
       "15  6   mild   46.0\n",
       "16  2   mild   51.5\n",
       "17  0   severe  5.8\n",
       "18  1   severe 15.0\n",
       "19  3   severe 21.5\n",
       "20  8   severe 27.5\n",
       "21  9   severe 33.5\n",
       "22  8   severe 39.5\n",
       "23 10   severe 46.0\n",
       "24  5   severe 51.5"
      ]
     },
     "metadata": {},
     "output_type": "display_data"
    }
   ],
   "source": [
    "pneumo"
   ]
  },
  {
   "cell_type": "code",
   "execution_count": null,
   "metadata": {},
   "outputs": [],
   "source": []
  },
  {
   "cell_type": "code",
   "execution_count": null,
   "metadata": {},
   "outputs": [],
   "source": []
  },
  {
   "cell_type": "code",
   "execution_count": null,
   "metadata": {},
   "outputs": [],
   "source": []
  },
  {
   "cell_type": "code",
   "execution_count": null,
   "metadata": {},
   "outputs": [],
   "source": []
  },
  {
   "cell_type": "code",
   "execution_count": null,
   "metadata": {},
   "outputs": [],
   "source": []
  },
  {
   "cell_type": "code",
   "execution_count": null,
   "metadata": {},
   "outputs": [],
   "source": []
  },
  {
   "cell_type": "code",
   "execution_count": null,
   "metadata": {},
   "outputs": [],
   "source": []
  },
  {
   "cell_type": "code",
   "execution_count": null,
   "metadata": {},
   "outputs": [],
   "source": []
  },
  {
   "cell_type": "code",
   "execution_count": null,
   "metadata": {},
   "outputs": [],
   "source": []
  },
  {
   "cell_type": "code",
   "execution_count": null,
   "metadata": {},
   "outputs": [],
   "source": []
  },
  {
   "cell_type": "code",
   "execution_count": null,
   "metadata": {},
   "outputs": [],
   "source": []
  },
  {
   "cell_type": "code",
   "execution_count": null,
   "metadata": {},
   "outputs": [],
   "source": []
  },
  {
   "cell_type": "code",
   "execution_count": null,
   "metadata": {},
   "outputs": [],
   "source": []
  },
  {
   "cell_type": "code",
   "execution_count": null,
   "metadata": {},
   "outputs": [],
   "source": []
  },
  {
   "cell_type": "code",
   "execution_count": null,
   "metadata": {},
   "outputs": [],
   "source": []
  },
  {
   "cell_type": "code",
   "execution_count": null,
   "metadata": {},
   "outputs": [],
   "source": []
  },
  {
   "cell_type": "code",
   "execution_count": null,
   "metadata": {},
   "outputs": [],
   "source": []
  },
  {
   "cell_type": "code",
   "execution_count": null,
   "metadata": {},
   "outputs": [],
   "source": []
  },
  {
   "cell_type": "code",
   "execution_count": null,
   "metadata": {},
   "outputs": [],
   "source": []
  },
  {
   "cell_type": "code",
   "execution_count": null,
   "metadata": {},
   "outputs": [],
   "source": []
  },
  {
   "cell_type": "code",
   "execution_count": null,
   "metadata": {},
   "outputs": [],
   "source": []
  },
  {
   "cell_type": "code",
   "execution_count": null,
   "metadata": {},
   "outputs": [],
   "source": []
  },
  {
   "cell_type": "code",
   "execution_count": null,
   "metadata": {},
   "outputs": [],
   "source": []
  },
  {
   "cell_type": "code",
   "execution_count": null,
   "metadata": {},
   "outputs": [],
   "source": []
  },
  {
   "cell_type": "code",
   "execution_count": null,
   "metadata": {},
   "outputs": [],
   "source": []
  },
  {
   "cell_type": "code",
   "execution_count": null,
   "metadata": {},
   "outputs": [],
   "source": []
  }
 ],
 "metadata": {
  "kernelspec": {
   "display_name": "R",
   "language": "R",
   "name": "ir"
  },
  "language_info": {
   "codemirror_mode": "r",
   "file_extension": ".r",
   "mimetype": "text/x-r-source",
   "name": "R",
   "pygments_lexer": "r",
   "version": "3.6.1"
  },
  "latex_envs": {
   "LaTeX_envs_menu_present": true,
   "autoclose": true,
   "autocomplete": true,
   "bibliofile": "biblio.bib",
   "cite_by": "apalike",
   "current_citInitial": 1,
   "eqLabelWithNumbers": true,
   "eqNumInitial": 1,
   "hotkeys": {
    "equation": "Ctrl-E",
    "itemize": "Ctrl-I"
   },
   "labels_anchors": false,
   "latex_user_defs": false,
   "report_style_numbering": false,
   "user_envs_cfg": false
  }
 },
 "nbformat": 4,
 "nbformat_minor": 2
}
