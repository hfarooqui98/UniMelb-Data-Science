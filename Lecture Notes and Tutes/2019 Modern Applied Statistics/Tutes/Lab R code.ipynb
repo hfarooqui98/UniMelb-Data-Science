{
 "cells": [
  {
   "cell_type": "markdown",
   "metadata": {},
   "source": [
    "# Lab 1"
   ]
  },
  {
   "cell_type": "code",
   "execution_count": 1,
   "metadata": {
    "ExecuteTime": {
     "end_time": "2019-08-19T05:00:29.209742Z",
     "start_time": "2019-08-19T05:00:29.104Z"
    }
   },
   "outputs": [],
   "source": [
    "x11(width=5, height=5, pointsize=8)"
   ]
  },
  {
   "cell_type": "code",
   "execution_count": 1,
   "metadata": {
    "ExecuteTime": {
     "end_time": "2019-09-08T03:12:13.426339Z",
     "start_time": "2019-09-08T03:12:07.741Z"
    },
    "scrolled": false
   },
   "outputs": [
    {
     "data": {
      "text/plain": [
       "\n",
       "Call:\n",
       "glm(formula = cbind(Class, 1 - Class) ~ ., family = binomial, \n",
       "    data = wbca)\n",
       "\n",
       "Deviance Residuals: \n",
       "     Min        1Q    Median        3Q       Max  \n",
       "-2.48282  -0.01179   0.04739   0.09678   3.06425  \n",
       "\n",
       "Coefficients:\n",
       "            Estimate Std. Error z value Pr(>|z|)    \n",
       "(Intercept) 11.16678    1.41491   7.892 2.97e-15 ***\n",
       "Adhes       -0.39681    0.13384  -2.965  0.00303 ** \n",
       "BNucl       -0.41478    0.10230  -4.055 5.02e-05 ***\n",
       "Chrom       -0.56456    0.18728  -3.014  0.00257 ** \n",
       "Epith       -0.06440    0.16595  -0.388  0.69795    \n",
       "Mitos       -0.65713    0.36764  -1.787  0.07387 .  \n",
       "NNucl       -0.28659    0.12620  -2.271  0.02315 *  \n",
       "Thick       -0.62675    0.15890  -3.944 8.01e-05 ***\n",
       "UShap       -0.28011    0.25235  -1.110  0.26699    \n",
       "USize        0.05718    0.23271   0.246  0.80589    \n",
       "---\n",
       "Signif. codes:  0 '***' 0.001 '**' 0.01 '*' 0.05 '.' 0.1 ' ' 1\n",
       "\n",
       "(Dispersion parameter for binomial family taken to be 1)\n",
       "\n",
       "    Null deviance: 881.388  on 680  degrees of freedom\n",
       "Residual deviance:  89.464  on 671  degrees of freedom\n",
       "AIC: 109.46\n",
       "\n",
       "Number of Fisher Scoring iterations: 8\n"
      ]
     },
     "metadata": {},
     "output_type": "display_data"
    },
    {
     "name": "stdout",
     "output_type": "stream",
     "text": [
      "Start:  AIC=109.46\n",
      "cbind(Class, 1 - Class) ~ Adhes + BNucl + Chrom + Epith + Mitos + \n",
      "    NNucl + Thick + UShap + USize\n",
      "\n",
      "        Df Deviance    AIC\n",
      "- USize  1   89.523 107.52\n",
      "- Epith  1   89.613 107.61\n",
      "- UShap  1   90.627 108.63\n",
      "<none>       89.464 109.46\n",
      "- Mitos  1   93.551 111.55\n",
      "- NNucl  1   95.204 113.20\n",
      "- Adhes  1   98.844 116.84\n",
      "- Chrom  1   99.841 117.84\n",
      "- BNucl  1  109.000 127.00\n",
      "- Thick  1  110.239 128.24\n",
      "\n",
      "Step:  AIC=107.52\n",
      "cbind(Class, 1 - Class) ~ Adhes + BNucl + Chrom + Epith + Mitos + \n",
      "    NNucl + Thick + UShap\n",
      "\n",
      "        Df Deviance    AIC\n",
      "- Epith  1   89.662 105.66\n",
      "- UShap  1   91.355 107.36\n",
      "<none>       89.523 107.52\n",
      "- Mitos  1   93.552 109.55\n",
      "- NNucl  1   95.231 111.23\n",
      "- Adhes  1   99.042 115.04\n",
      "- Chrom  1  100.153 116.15\n",
      "- BNucl  1  109.064 125.06\n",
      "- Thick  1  110.465 126.47\n",
      "\n",
      "Step:  AIC=105.66\n",
      "cbind(Class, 1 - Class) ~ Adhes + BNucl + Chrom + Mitos + NNucl + \n",
      "    Thick + UShap\n",
      "\n",
      "        Df Deviance    AIC\n",
      "<none>       89.662 105.66\n",
      "- UShap  1   91.884 105.88\n",
      "- Mitos  1   93.714 107.71\n",
      "- NNucl  1   95.853 109.85\n",
      "- Adhes  1  100.126 114.13\n",
      "- Chrom  1  100.844 114.84\n",
      "- BNucl  1  109.762 123.76\n",
      "- Thick  1  110.632 124.63\n"
     ]
    },
    {
     "data": {
      "text/html": [
       "<ol class=list-inline>\n",
       "\t<li>0.974827667841585</li>\n",
       "\t<li>0.997364564387349</li>\n",
       "</ol>\n"
      ],
      "text/latex": [
       "\\begin{enumerate*}\n",
       "\\item 0.974827667841585\n",
       "\\item 0.997364564387349\n",
       "\\end{enumerate*}\n"
      ],
      "text/markdown": [
       "1. 0.974827667841585\n",
       "2. 0.997364564387349\n",
       "\n",
       "\n"
      ],
      "text/plain": [
       "[1] 0.9748277 0.9973646"
      ]
     },
     "metadata": {},
     "output_type": "display_data"
    },
    {
     "data": {
      "text/plain": [
       "    pregnant         glucose        diastolic         triceps     \n",
       " Min.   : 0.000   Min.   :  0.0   Min.   :  0.00   Min.   : 0.00  \n",
       " 1st Qu.: 1.000   1st Qu.: 99.0   1st Qu.: 62.00   1st Qu.: 0.00  \n",
       " Median : 3.000   Median :117.0   Median : 72.00   Median :23.00  \n",
       " Mean   : 3.845   Mean   :120.9   Mean   : 69.11   Mean   :20.54  \n",
       " 3rd Qu.: 6.000   3rd Qu.:140.2   3rd Qu.: 80.00   3rd Qu.:32.00  \n",
       " Max.   :17.000   Max.   :199.0   Max.   :122.00   Max.   :99.00  \n",
       "    insulin           bmi           diabetes           age       \n",
       " Min.   :  0.0   Min.   : 0.00   Min.   :0.0780   Min.   :21.00  \n",
       " 1st Qu.:  0.0   1st Qu.:27.30   1st Qu.:0.2437   1st Qu.:24.00  \n",
       " Median : 30.5   Median :32.00   Median :0.3725   Median :29.00  \n",
       " Mean   : 79.8   Mean   :31.99   Mean   :0.4719   Mean   :33.24  \n",
       " 3rd Qu.:127.2   3rd Qu.:36.60   3rd Qu.:0.6262   3rd Qu.:41.00  \n",
       " Max.   :846.0   Max.   :67.10   Max.   :2.4200   Max.   :81.00  \n",
       "      test      \n",
       " Min.   :0.000  \n",
       " 1st Qu.:0.000  \n",
       " Median :0.000  \n",
       " Mean   :0.349  \n",
       " 3rd Qu.:1.000  \n",
       " Max.   :1.000  "
      ]
     },
     "metadata": {},
     "output_type": "display_data"
    },
    {
     "data": {
      "text/html": [
       "<table>\n",
       "<thead><tr><th scope=col>pregnant</th><th scope=col>glucose</th><th scope=col>diastolic</th><th scope=col>triceps</th><th scope=col>insulin</th><th scope=col>bmi</th><th scope=col>diabetes</th><th scope=col>age</th><th scope=col>test</th></tr></thead>\n",
       "<tbody>\n",
       "\t<tr><td> 6   </td><td>148  </td><td>72   </td><td>35   </td><td>  0  </td><td>33.6 </td><td>0.627</td><td>50   </td><td>1    </td></tr>\n",
       "\t<tr><td> 1   </td><td> 85  </td><td>66   </td><td>29   </td><td>  0  </td><td>26.6 </td><td>0.351</td><td>31   </td><td>0    </td></tr>\n",
       "\t<tr><td> 8   </td><td>183  </td><td>64   </td><td> 0   </td><td>  0  </td><td>23.3 </td><td>0.672</td><td>32   </td><td>1    </td></tr>\n",
       "\t<tr><td> 1   </td><td> 89  </td><td>66   </td><td>23   </td><td> 94  </td><td>28.1 </td><td>0.167</td><td>21   </td><td>0    </td></tr>\n",
       "\t<tr><td> 0   </td><td>137  </td><td>40   </td><td>35   </td><td>168  </td><td>43.1 </td><td>2.288</td><td>33   </td><td>1    </td></tr>\n",
       "\t<tr><td> 5   </td><td>116  </td><td>74   </td><td> 0   </td><td>  0  </td><td>25.6 </td><td>0.201</td><td>30   </td><td>0    </td></tr>\n",
       "\t<tr><td> 3   </td><td> 78  </td><td>50   </td><td>32   </td><td> 88  </td><td>31.0 </td><td>0.248</td><td>26   </td><td>1    </td></tr>\n",
       "\t<tr><td>10   </td><td>115  </td><td> 0   </td><td> 0   </td><td>  0  </td><td>35.3 </td><td>0.134</td><td>29   </td><td>0    </td></tr>\n",
       "\t<tr><td> 2   </td><td>197  </td><td>70   </td><td>45   </td><td>543  </td><td>30.5 </td><td>0.158</td><td>53   </td><td>1    </td></tr>\n",
       "\t<tr><td> 8   </td><td>125  </td><td>96   </td><td> 0   </td><td>  0  </td><td> 0.0 </td><td>0.232</td><td>54   </td><td>1    </td></tr>\n",
       "\t<tr><td> 4   </td><td>110  </td><td>92   </td><td> 0   </td><td>  0  </td><td>37.6 </td><td>0.191</td><td>30   </td><td>0    </td></tr>\n",
       "\t<tr><td>10   </td><td>168  </td><td>74   </td><td> 0   </td><td>  0  </td><td>38.0 </td><td>0.537</td><td>34   </td><td>1    </td></tr>\n",
       "\t<tr><td>10   </td><td>139  </td><td>80   </td><td> 0   </td><td>  0  </td><td>27.1 </td><td>1.441</td><td>57   </td><td>0    </td></tr>\n",
       "\t<tr><td> 1   </td><td>189  </td><td>60   </td><td>23   </td><td>846  </td><td>30.1 </td><td>0.398</td><td>59   </td><td>1    </td></tr>\n",
       "\t<tr><td> 5   </td><td>166  </td><td>72   </td><td>19   </td><td>175  </td><td>25.8 </td><td>0.587</td><td>51   </td><td>1    </td></tr>\n",
       "\t<tr><td> 7   </td><td>100  </td><td> 0   </td><td> 0   </td><td>  0  </td><td>30.0 </td><td>0.484</td><td>32   </td><td>1    </td></tr>\n",
       "\t<tr><td> 0   </td><td>118  </td><td>84   </td><td>47   </td><td>230  </td><td>45.8 </td><td>0.551</td><td>31   </td><td>1    </td></tr>\n",
       "\t<tr><td> 7   </td><td>107  </td><td>74   </td><td> 0   </td><td>  0  </td><td>29.6 </td><td>0.254</td><td>31   </td><td>1    </td></tr>\n",
       "\t<tr><td> 1   </td><td>103  </td><td>30   </td><td>38   </td><td> 83  </td><td>43.3 </td><td>0.183</td><td>33   </td><td>0    </td></tr>\n",
       "\t<tr><td> 1   </td><td>115  </td><td>70   </td><td>30   </td><td> 96  </td><td>34.6 </td><td>0.529</td><td>32   </td><td>1    </td></tr>\n",
       "\t<tr><td> 3   </td><td>126  </td><td>88   </td><td>41   </td><td>235  </td><td>39.3 </td><td>0.704</td><td>27   </td><td>0    </td></tr>\n",
       "\t<tr><td> 8   </td><td> 99  </td><td>84   </td><td> 0   </td><td>  0  </td><td>35.4 </td><td>0.388</td><td>50   </td><td>0    </td></tr>\n",
       "\t<tr><td> 7   </td><td>196  </td><td>90   </td><td> 0   </td><td>  0  </td><td>39.8 </td><td>0.451</td><td>41   </td><td>1    </td></tr>\n",
       "\t<tr><td> 9   </td><td>119  </td><td>80   </td><td>35   </td><td>  0  </td><td>29.0 </td><td>0.263</td><td>29   </td><td>1    </td></tr>\n",
       "\t<tr><td>11   </td><td>143  </td><td>94   </td><td>33   </td><td>146  </td><td>36.6 </td><td>0.254</td><td>51   </td><td>1    </td></tr>\n",
       "\t<tr><td>10   </td><td>125  </td><td>70   </td><td>26   </td><td>115  </td><td>31.1 </td><td>0.205</td><td>41   </td><td>1    </td></tr>\n",
       "\t<tr><td> 7   </td><td>147  </td><td>76   </td><td> 0   </td><td>  0  </td><td>39.4 </td><td>0.257</td><td>43   </td><td>1    </td></tr>\n",
       "\t<tr><td> 1   </td><td> 97  </td><td>66   </td><td>15   </td><td>140  </td><td>23.2 </td><td>0.487</td><td>22   </td><td>0    </td></tr>\n",
       "\t<tr><td>13   </td><td>145  </td><td>82   </td><td>19   </td><td>110  </td><td>22.2 </td><td>0.245</td><td>57   </td><td>0    </td></tr>\n",
       "\t<tr><td> 5   </td><td>117  </td><td>92   </td><td> 0   </td><td>  0  </td><td>34.1 </td><td>0.337</td><td>38   </td><td>0    </td></tr>\n",
       "\t<tr><td>...</td><td>...</td><td>...</td><td>...</td><td>...</td><td>...</td><td>...</td><td>...</td><td>...</td></tr>\n",
       "\t<tr><td> 2   </td><td> 99  </td><td>60   </td><td>17   </td><td>160  </td><td>36.6 </td><td>0.453</td><td>21   </td><td>0    </td></tr>\n",
       "\t<tr><td> 1   </td><td>102  </td><td>74   </td><td> 0   </td><td>  0  </td><td>39.5 </td><td>0.293</td><td>42   </td><td>1    </td></tr>\n",
       "\t<tr><td>11   </td><td>120  </td><td>80   </td><td>37   </td><td>150  </td><td>42.3 </td><td>0.785</td><td>48   </td><td>1    </td></tr>\n",
       "\t<tr><td> 3   </td><td>102  </td><td>44   </td><td>20   </td><td> 94  </td><td>30.8 </td><td>0.400</td><td>26   </td><td>0    </td></tr>\n",
       "\t<tr><td> 1   </td><td>109  </td><td>58   </td><td>18   </td><td>116  </td><td>28.5 </td><td>0.219</td><td>22   </td><td>0    </td></tr>\n",
       "\t<tr><td> 9   </td><td>140  </td><td>94   </td><td> 0   </td><td>  0  </td><td>32.7 </td><td>0.734</td><td>45   </td><td>1    </td></tr>\n",
       "\t<tr><td>13   </td><td>153  </td><td>88   </td><td>37   </td><td>140  </td><td>40.6 </td><td>1.174</td><td>39   </td><td>0    </td></tr>\n",
       "\t<tr><td>12   </td><td>100  </td><td>84   </td><td>33   </td><td>105  </td><td>30.0 </td><td>0.488</td><td>46   </td><td>0    </td></tr>\n",
       "\t<tr><td> 1   </td><td>147  </td><td>94   </td><td>41   </td><td>  0  </td><td>49.3 </td><td>0.358</td><td>27   </td><td>1    </td></tr>\n",
       "\t<tr><td> 1   </td><td> 81  </td><td>74   </td><td>41   </td><td> 57  </td><td>46.3 </td><td>1.096</td><td>32   </td><td>0    </td></tr>\n",
       "\t<tr><td> 3   </td><td>187  </td><td>70   </td><td>22   </td><td>200  </td><td>36.4 </td><td>0.408</td><td>36   </td><td>1    </td></tr>\n",
       "\t<tr><td> 6   </td><td>162  </td><td>62   </td><td> 0   </td><td>  0  </td><td>24.3 </td><td>0.178</td><td>50   </td><td>1    </td></tr>\n",
       "\t<tr><td> 4   </td><td>136  </td><td>70   </td><td> 0   </td><td>  0  </td><td>31.2 </td><td>1.182</td><td>22   </td><td>1    </td></tr>\n",
       "\t<tr><td> 1   </td><td>121  </td><td>78   </td><td>39   </td><td> 74  </td><td>39.0 </td><td>0.261</td><td>28   </td><td>0    </td></tr>\n",
       "\t<tr><td> 3   </td><td>108  </td><td>62   </td><td>24   </td><td>  0  </td><td>26.0 </td><td>0.223</td><td>25   </td><td>0    </td></tr>\n",
       "\t<tr><td> 0   </td><td>181  </td><td>88   </td><td>44   </td><td>510  </td><td>43.3 </td><td>0.222</td><td>26   </td><td>1    </td></tr>\n",
       "\t<tr><td> 8   </td><td>154  </td><td>78   </td><td>32   </td><td>  0  </td><td>32.4 </td><td>0.443</td><td>45   </td><td>1    </td></tr>\n",
       "\t<tr><td> 1   </td><td>128  </td><td>88   </td><td>39   </td><td>110  </td><td>36.5 </td><td>1.057</td><td>37   </td><td>1    </td></tr>\n",
       "\t<tr><td> 7   </td><td>137  </td><td>90   </td><td>41   </td><td>  0  </td><td>32.0 </td><td>0.391</td><td>39   </td><td>0    </td></tr>\n",
       "\t<tr><td> 0   </td><td>123  </td><td>72   </td><td> 0   </td><td>  0  </td><td>36.3 </td><td>0.258</td><td>52   </td><td>1    </td></tr>\n",
       "\t<tr><td> 1   </td><td>106  </td><td>76   </td><td> 0   </td><td>  0  </td><td>37.5 </td><td>0.197</td><td>26   </td><td>0    </td></tr>\n",
       "\t<tr><td> 6   </td><td>190  </td><td>92   </td><td> 0   </td><td>  0  </td><td>35.5 </td><td>0.278</td><td>66   </td><td>1    </td></tr>\n",
       "\t<tr><td> 2   </td><td> 88  </td><td>58   </td><td>26   </td><td> 16  </td><td>28.4 </td><td>0.766</td><td>22   </td><td>0    </td></tr>\n",
       "\t<tr><td> 9   </td><td>170  </td><td>74   </td><td>31   </td><td>  0  </td><td>44.0 </td><td>0.403</td><td>43   </td><td>1    </td></tr>\n",
       "\t<tr><td> 9   </td><td> 89  </td><td>62   </td><td> 0   </td><td>  0  </td><td>22.5 </td><td>0.142</td><td>33   </td><td>0    </td></tr>\n",
       "\t<tr><td>10   </td><td>101  </td><td>76   </td><td>48   </td><td>180  </td><td>32.9 </td><td>0.171</td><td>63   </td><td>0    </td></tr>\n",
       "\t<tr><td> 2   </td><td>122  </td><td>70   </td><td>27   </td><td>  0  </td><td>36.8 </td><td>0.340</td><td>27   </td><td>0    </td></tr>\n",
       "\t<tr><td> 5   </td><td>121  </td><td>72   </td><td>23   </td><td>112  </td><td>26.2 </td><td>0.245</td><td>30   </td><td>0    </td></tr>\n",
       "\t<tr><td> 1   </td><td>126  </td><td>60   </td><td> 0   </td><td>  0  </td><td>30.1 </td><td>0.349</td><td>47   </td><td>1    </td></tr>\n",
       "\t<tr><td> 1   </td><td> 93  </td><td>70   </td><td>31   </td><td>  0  </td><td>30.4 </td><td>0.315</td><td>23   </td><td>0    </td></tr>\n",
       "</tbody>\n",
       "</table>\n"
      ],
      "text/latex": [
       "\\begin{tabular}{r|lllllllll}\n",
       " pregnant & glucose & diastolic & triceps & insulin & bmi & diabetes & age & test\\\\\n",
       "\\hline\n",
       "\t  6    & 148   & 72    & 35    &   0   & 33.6  & 0.627 & 50    & 1    \\\\\n",
       "\t  1    &  85   & 66    & 29    &   0   & 26.6  & 0.351 & 31    & 0    \\\\\n",
       "\t  8    & 183   & 64    &  0    &   0   & 23.3  & 0.672 & 32    & 1    \\\\\n",
       "\t  1    &  89   & 66    & 23    &  94   & 28.1  & 0.167 & 21    & 0    \\\\\n",
       "\t  0    & 137   & 40    & 35    & 168   & 43.1  & 2.288 & 33    & 1    \\\\\n",
       "\t  5    & 116   & 74    &  0    &   0   & 25.6  & 0.201 & 30    & 0    \\\\\n",
       "\t  3    &  78   & 50    & 32    &  88   & 31.0  & 0.248 & 26    & 1    \\\\\n",
       "\t 10    & 115   &  0    &  0    &   0   & 35.3  & 0.134 & 29    & 0    \\\\\n",
       "\t  2    & 197   & 70    & 45    & 543   & 30.5  & 0.158 & 53    & 1    \\\\\n",
       "\t  8    & 125   & 96    &  0    &   0   &  0.0  & 0.232 & 54    & 1    \\\\\n",
       "\t  4    & 110   & 92    &  0    &   0   & 37.6  & 0.191 & 30    & 0    \\\\\n",
       "\t 10    & 168   & 74    &  0    &   0   & 38.0  & 0.537 & 34    & 1    \\\\\n",
       "\t 10    & 139   & 80    &  0    &   0   & 27.1  & 1.441 & 57    & 0    \\\\\n",
       "\t  1    & 189   & 60    & 23    & 846   & 30.1  & 0.398 & 59    & 1    \\\\\n",
       "\t  5    & 166   & 72    & 19    & 175   & 25.8  & 0.587 & 51    & 1    \\\\\n",
       "\t  7    & 100   &  0    &  0    &   0   & 30.0  & 0.484 & 32    & 1    \\\\\n",
       "\t  0    & 118   & 84    & 47    & 230   & 45.8  & 0.551 & 31    & 1    \\\\\n",
       "\t  7    & 107   & 74    &  0    &   0   & 29.6  & 0.254 & 31    & 1    \\\\\n",
       "\t  1    & 103   & 30    & 38    &  83   & 43.3  & 0.183 & 33    & 0    \\\\\n",
       "\t  1    & 115   & 70    & 30    &  96   & 34.6  & 0.529 & 32    & 1    \\\\\n",
       "\t  3    & 126   & 88    & 41    & 235   & 39.3  & 0.704 & 27    & 0    \\\\\n",
       "\t  8    &  99   & 84    &  0    &   0   & 35.4  & 0.388 & 50    & 0    \\\\\n",
       "\t  7    & 196   & 90    &  0    &   0   & 39.8  & 0.451 & 41    & 1    \\\\\n",
       "\t  9    & 119   & 80    & 35    &   0   & 29.0  & 0.263 & 29    & 1    \\\\\n",
       "\t 11    & 143   & 94    & 33    & 146   & 36.6  & 0.254 & 51    & 1    \\\\\n",
       "\t 10    & 125   & 70    & 26    & 115   & 31.1  & 0.205 & 41    & 1    \\\\\n",
       "\t  7    & 147   & 76    &  0    &   0   & 39.4  & 0.257 & 43    & 1    \\\\\n",
       "\t  1    &  97   & 66    & 15    & 140   & 23.2  & 0.487 & 22    & 0    \\\\\n",
       "\t 13    & 145   & 82    & 19    & 110   & 22.2  & 0.245 & 57    & 0    \\\\\n",
       "\t  5    & 117   & 92    &  0    &   0   & 34.1  & 0.337 & 38    & 0    \\\\\n",
       "\t ... & ... & ... & ... & ... & ... & ... & ... & ...\\\\\n",
       "\t  2    &  99   & 60    & 17    & 160   & 36.6  & 0.453 & 21    & 0    \\\\\n",
       "\t  1    & 102   & 74    &  0    &   0   & 39.5  & 0.293 & 42    & 1    \\\\\n",
       "\t 11    & 120   & 80    & 37    & 150   & 42.3  & 0.785 & 48    & 1    \\\\\n",
       "\t  3    & 102   & 44    & 20    &  94   & 30.8  & 0.400 & 26    & 0    \\\\\n",
       "\t  1    & 109   & 58    & 18    & 116   & 28.5  & 0.219 & 22    & 0    \\\\\n",
       "\t  9    & 140   & 94    &  0    &   0   & 32.7  & 0.734 & 45    & 1    \\\\\n",
       "\t 13    & 153   & 88    & 37    & 140   & 40.6  & 1.174 & 39    & 0    \\\\\n",
       "\t 12    & 100   & 84    & 33    & 105   & 30.0  & 0.488 & 46    & 0    \\\\\n",
       "\t  1    & 147   & 94    & 41    &   0   & 49.3  & 0.358 & 27    & 1    \\\\\n",
       "\t  1    &  81   & 74    & 41    &  57   & 46.3  & 1.096 & 32    & 0    \\\\\n",
       "\t  3    & 187   & 70    & 22    & 200   & 36.4  & 0.408 & 36    & 1    \\\\\n",
       "\t  6    & 162   & 62    &  0    &   0   & 24.3  & 0.178 & 50    & 1    \\\\\n",
       "\t  4    & 136   & 70    &  0    &   0   & 31.2  & 1.182 & 22    & 1    \\\\\n",
       "\t  1    & 121   & 78    & 39    &  74   & 39.0  & 0.261 & 28    & 0    \\\\\n",
       "\t  3    & 108   & 62    & 24    &   0   & 26.0  & 0.223 & 25    & 0    \\\\\n",
       "\t  0    & 181   & 88    & 44    & 510   & 43.3  & 0.222 & 26    & 1    \\\\\n",
       "\t  8    & 154   & 78    & 32    &   0   & 32.4  & 0.443 & 45    & 1    \\\\\n",
       "\t  1    & 128   & 88    & 39    & 110   & 36.5  & 1.057 & 37    & 1    \\\\\n",
       "\t  7    & 137   & 90    & 41    &   0   & 32.0  & 0.391 & 39    & 0    \\\\\n",
       "\t  0    & 123   & 72    &  0    &   0   & 36.3  & 0.258 & 52    & 1    \\\\\n",
       "\t  1    & 106   & 76    &  0    &   0   & 37.5  & 0.197 & 26    & 0    \\\\\n",
       "\t  6    & 190   & 92    &  0    &   0   & 35.5  & 0.278 & 66    & 1    \\\\\n",
       "\t  2    &  88   & 58    & 26    &  16   & 28.4  & 0.766 & 22    & 0    \\\\\n",
       "\t  9    & 170   & 74    & 31    &   0   & 44.0  & 0.403 & 43    & 1    \\\\\n",
       "\t  9    &  89   & 62    &  0    &   0   & 22.5  & 0.142 & 33    & 0    \\\\\n",
       "\t 10    & 101   & 76    & 48    & 180   & 32.9  & 0.171 & 63    & 0    \\\\\n",
       "\t  2    & 122   & 70    & 27    &   0   & 36.8  & 0.340 & 27    & 0    \\\\\n",
       "\t  5    & 121   & 72    & 23    & 112   & 26.2  & 0.245 & 30    & 0    \\\\\n",
       "\t  1    & 126   & 60    &  0    &   0   & 30.1  & 0.349 & 47    & 1    \\\\\n",
       "\t  1    &  93   & 70    & 31    &   0   & 30.4  & 0.315 & 23    & 0    \\\\\n",
       "\\end{tabular}\n"
      ],
      "text/markdown": [
       "\n",
       "| pregnant | glucose | diastolic | triceps | insulin | bmi | diabetes | age | test |\n",
       "|---|---|---|---|---|---|---|---|---|\n",
       "|  6    | 148   | 72    | 35    |   0   | 33.6  | 0.627 | 50    | 1     |\n",
       "|  1    |  85   | 66    | 29    |   0   | 26.6  | 0.351 | 31    | 0     |\n",
       "|  8    | 183   | 64    |  0    |   0   | 23.3  | 0.672 | 32    | 1     |\n",
       "|  1    |  89   | 66    | 23    |  94   | 28.1  | 0.167 | 21    | 0     |\n",
       "|  0    | 137   | 40    | 35    | 168   | 43.1  | 2.288 | 33    | 1     |\n",
       "|  5    | 116   | 74    |  0    |   0   | 25.6  | 0.201 | 30    | 0     |\n",
       "|  3    |  78   | 50    | 32    |  88   | 31.0  | 0.248 | 26    | 1     |\n",
       "| 10    | 115   |  0    |  0    |   0   | 35.3  | 0.134 | 29    | 0     |\n",
       "|  2    | 197   | 70    | 45    | 543   | 30.5  | 0.158 | 53    | 1     |\n",
       "|  8    | 125   | 96    |  0    |   0   |  0.0  | 0.232 | 54    | 1     |\n",
       "|  4    | 110   | 92    |  0    |   0   | 37.6  | 0.191 | 30    | 0     |\n",
       "| 10    | 168   | 74    |  0    |   0   | 38.0  | 0.537 | 34    | 1     |\n",
       "| 10    | 139   | 80    |  0    |   0   | 27.1  | 1.441 | 57    | 0     |\n",
       "|  1    | 189   | 60    | 23    | 846   | 30.1  | 0.398 | 59    | 1     |\n",
       "|  5    | 166   | 72    | 19    | 175   | 25.8  | 0.587 | 51    | 1     |\n",
       "|  7    | 100   |  0    |  0    |   0   | 30.0  | 0.484 | 32    | 1     |\n",
       "|  0    | 118   | 84    | 47    | 230   | 45.8  | 0.551 | 31    | 1     |\n",
       "|  7    | 107   | 74    |  0    |   0   | 29.6  | 0.254 | 31    | 1     |\n",
       "|  1    | 103   | 30    | 38    |  83   | 43.3  | 0.183 | 33    | 0     |\n",
       "|  1    | 115   | 70    | 30    |  96   | 34.6  | 0.529 | 32    | 1     |\n",
       "|  3    | 126   | 88    | 41    | 235   | 39.3  | 0.704 | 27    | 0     |\n",
       "|  8    |  99   | 84    |  0    |   0   | 35.4  | 0.388 | 50    | 0     |\n",
       "|  7    | 196   | 90    |  0    |   0   | 39.8  | 0.451 | 41    | 1     |\n",
       "|  9    | 119   | 80    | 35    |   0   | 29.0  | 0.263 | 29    | 1     |\n",
       "| 11    | 143   | 94    | 33    | 146   | 36.6  | 0.254 | 51    | 1     |\n",
       "| 10    | 125   | 70    | 26    | 115   | 31.1  | 0.205 | 41    | 1     |\n",
       "|  7    | 147   | 76    |  0    |   0   | 39.4  | 0.257 | 43    | 1     |\n",
       "|  1    |  97   | 66    | 15    | 140   | 23.2  | 0.487 | 22    | 0     |\n",
       "| 13    | 145   | 82    | 19    | 110   | 22.2  | 0.245 | 57    | 0     |\n",
       "|  5    | 117   | 92    |  0    |   0   | 34.1  | 0.337 | 38    | 0     |\n",
       "| ... | ... | ... | ... | ... | ... | ... | ... | ... |\n",
       "|  2    |  99   | 60    | 17    | 160   | 36.6  | 0.453 | 21    | 0     |\n",
       "|  1    | 102   | 74    |  0    |   0   | 39.5  | 0.293 | 42    | 1     |\n",
       "| 11    | 120   | 80    | 37    | 150   | 42.3  | 0.785 | 48    | 1     |\n",
       "|  3    | 102   | 44    | 20    |  94   | 30.8  | 0.400 | 26    | 0     |\n",
       "|  1    | 109   | 58    | 18    | 116   | 28.5  | 0.219 | 22    | 0     |\n",
       "|  9    | 140   | 94    |  0    |   0   | 32.7  | 0.734 | 45    | 1     |\n",
       "| 13    | 153   | 88    | 37    | 140   | 40.6  | 1.174 | 39    | 0     |\n",
       "| 12    | 100   | 84    | 33    | 105   | 30.0  | 0.488 | 46    | 0     |\n",
       "|  1    | 147   | 94    | 41    |   0   | 49.3  | 0.358 | 27    | 1     |\n",
       "|  1    |  81   | 74    | 41    |  57   | 46.3  | 1.096 | 32    | 0     |\n",
       "|  3    | 187   | 70    | 22    | 200   | 36.4  | 0.408 | 36    | 1     |\n",
       "|  6    | 162   | 62    |  0    |   0   | 24.3  | 0.178 | 50    | 1     |\n",
       "|  4    | 136   | 70    |  0    |   0   | 31.2  | 1.182 | 22    | 1     |\n",
       "|  1    | 121   | 78    | 39    |  74   | 39.0  | 0.261 | 28    | 0     |\n",
       "|  3    | 108   | 62    | 24    |   0   | 26.0  | 0.223 | 25    | 0     |\n",
       "|  0    | 181   | 88    | 44    | 510   | 43.3  | 0.222 | 26    | 1     |\n",
       "|  8    | 154   | 78    | 32    |   0   | 32.4  | 0.443 | 45    | 1     |\n",
       "|  1    | 128   | 88    | 39    | 110   | 36.5  | 1.057 | 37    | 1     |\n",
       "|  7    | 137   | 90    | 41    |   0   | 32.0  | 0.391 | 39    | 0     |\n",
       "|  0    | 123   | 72    |  0    |   0   | 36.3  | 0.258 | 52    | 1     |\n",
       "|  1    | 106   | 76    |  0    |   0   | 37.5  | 0.197 | 26    | 0     |\n",
       "|  6    | 190   | 92    |  0    |   0   | 35.5  | 0.278 | 66    | 1     |\n",
       "|  2    |  88   | 58    | 26    |  16   | 28.4  | 0.766 | 22    | 0     |\n",
       "|  9    | 170   | 74    | 31    |   0   | 44.0  | 0.403 | 43    | 1     |\n",
       "|  9    |  89   | 62    |  0    |   0   | 22.5  | 0.142 | 33    | 0     |\n",
       "| 10    | 101   | 76    | 48    | 180   | 32.9  | 0.171 | 63    | 0     |\n",
       "|  2    | 122   | 70    | 27    |   0   | 36.8  | 0.340 | 27    | 0     |\n",
       "|  5    | 121   | 72    | 23    | 112   | 26.2  | 0.245 | 30    | 0     |\n",
       "|  1    | 126   | 60    |  0    |   0   | 30.1  | 0.349 | 47    | 1     |\n",
       "|  1    |  93   | 70    | 31    |   0   | 30.4  | 0.315 | 23    | 0     |\n",
       "\n"
      ],
      "text/plain": [
       "    pregnant glucose diastolic triceps insulin bmi  diabetes age test\n",
       "1    6       148     72        35        0     33.6 0.627    50  1   \n",
       "2    1        85     66        29        0     26.6 0.351    31  0   \n",
       "3    8       183     64         0        0     23.3 0.672    32  1   \n",
       "4    1        89     66        23       94     28.1 0.167    21  0   \n",
       "5    0       137     40        35      168     43.1 2.288    33  1   \n",
       "6    5       116     74         0        0     25.6 0.201    30  0   \n",
       "7    3        78     50        32       88     31.0 0.248    26  1   \n",
       "8   10       115      0         0        0     35.3 0.134    29  0   \n",
       "9    2       197     70        45      543     30.5 0.158    53  1   \n",
       "10   8       125     96         0        0      0.0 0.232    54  1   \n",
       "11   4       110     92         0        0     37.6 0.191    30  0   \n",
       "12  10       168     74         0        0     38.0 0.537    34  1   \n",
       "13  10       139     80         0        0     27.1 1.441    57  0   \n",
       "14   1       189     60        23      846     30.1 0.398    59  1   \n",
       "15   5       166     72        19      175     25.8 0.587    51  1   \n",
       "16   7       100      0         0        0     30.0 0.484    32  1   \n",
       "17   0       118     84        47      230     45.8 0.551    31  1   \n",
       "18   7       107     74         0        0     29.6 0.254    31  1   \n",
       "19   1       103     30        38       83     43.3 0.183    33  0   \n",
       "20   1       115     70        30       96     34.6 0.529    32  1   \n",
       "21   3       126     88        41      235     39.3 0.704    27  0   \n",
       "22   8        99     84         0        0     35.4 0.388    50  0   \n",
       "23   7       196     90         0        0     39.8 0.451    41  1   \n",
       "24   9       119     80        35        0     29.0 0.263    29  1   \n",
       "25  11       143     94        33      146     36.6 0.254    51  1   \n",
       "26  10       125     70        26      115     31.1 0.205    41  1   \n",
       "27   7       147     76         0        0     39.4 0.257    43  1   \n",
       "28   1        97     66        15      140     23.2 0.487    22  0   \n",
       "29  13       145     82        19      110     22.2 0.245    57  0   \n",
       "30   5       117     92         0        0     34.1 0.337    38  0   \n",
       "... ...      ...     ...       ...     ...     ...  ...      ... ... \n",
       "739  2        99     60        17      160     36.6 0.453    21  0   \n",
       "740  1       102     74         0        0     39.5 0.293    42  1   \n",
       "741 11       120     80        37      150     42.3 0.785    48  1   \n",
       "742  3       102     44        20       94     30.8 0.400    26  0   \n",
       "743  1       109     58        18      116     28.5 0.219    22  0   \n",
       "744  9       140     94         0        0     32.7 0.734    45  1   \n",
       "745 13       153     88        37      140     40.6 1.174    39  0   \n",
       "746 12       100     84        33      105     30.0 0.488    46  0   \n",
       "747  1       147     94        41        0     49.3 0.358    27  1   \n",
       "748  1        81     74        41       57     46.3 1.096    32  0   \n",
       "749  3       187     70        22      200     36.4 0.408    36  1   \n",
       "750  6       162     62         0        0     24.3 0.178    50  1   \n",
       "751  4       136     70         0        0     31.2 1.182    22  1   \n",
       "752  1       121     78        39       74     39.0 0.261    28  0   \n",
       "753  3       108     62        24        0     26.0 0.223    25  0   \n",
       "754  0       181     88        44      510     43.3 0.222    26  1   \n",
       "755  8       154     78        32        0     32.4 0.443    45  1   \n",
       "756  1       128     88        39      110     36.5 1.057    37  1   \n",
       "757  7       137     90        41        0     32.0 0.391    39  0   \n",
       "758  0       123     72         0        0     36.3 0.258    52  1   \n",
       "759  1       106     76         0        0     37.5 0.197    26  0   \n",
       "760  6       190     92         0        0     35.5 0.278    66  1   \n",
       "761  2        88     58        26       16     28.4 0.766    22  0   \n",
       "762  9       170     74        31        0     44.0 0.403    43  1   \n",
       "763  9        89     62         0        0     22.5 0.142    33  0   \n",
       "764 10       101     76        48      180     32.9 0.171    63  0   \n",
       "765  2       122     70        27        0     36.8 0.340    27  0   \n",
       "766  5       121     72        23      112     26.2 0.245    30  0   \n",
       "767  1       126     60         0        0     30.1 0.349    47  1   \n",
       "768  1        93     70        31        0     30.4 0.315    23  0   "
      ]
     },
     "metadata": {},
     "output_type": "display_data"
    },
    {
     "name": "stdout",
     "output_type": "stream",
     "text": [
      "Start:  AIC=306.92\n",
      "cbind(test, 1 - test) ~ pregnant + glucose + diastolic + triceps + \n",
      "    insulin + bmi + diabetes + age\n",
      "\n",
      "            Df Deviance    AIC\n",
      "- insulin    1   288.92 304.92\n",
      "- diastolic  1   289.13 305.13\n",
      "- triceps    1   289.27 305.27\n",
      "- pregnant   1   290.45 306.45\n",
      "<none>           288.92 306.92\n",
      "- age        1   293.62 309.62\n",
      "- diabetes   1   294.35 310.35\n",
      "- bmi        1   294.81 310.81\n",
      "- glucose    1   327.93 343.93\n",
      "\n",
      "Step:  AIC=304.92\n",
      "cbind(test, 1 - test) ~ pregnant + glucose + diastolic + triceps + \n",
      "    bmi + diabetes + age\n",
      "\n",
      "            Df Deviance    AIC\n",
      "- diastolic  1   289.13 303.13\n",
      "- triceps    1   289.27 303.27\n",
      "- pregnant   1   290.45 304.45\n",
      "<none>           288.92 304.92\n",
      "- age        1   293.68 307.68\n",
      "- diabetes   1   294.38 308.38\n",
      "- bmi        1   295.05 309.05\n",
      "- glucose    1   342.36 356.36\n",
      "\n",
      "Step:  AIC=303.13\n",
      "cbind(test, 1 - test) ~ pregnant + glucose + triceps + bmi + \n",
      "    diabetes + age\n",
      "\n",
      "           Df Deviance    AIC\n",
      "- triceps   1   289.49 301.49\n",
      "- pregnant  1   290.75 302.75\n",
      "<none>          289.13 303.13\n",
      "- age       1   294.37 306.37\n",
      "- diabetes  1   294.59 306.59\n",
      "- bmi       1   296.04 308.04\n",
      "- glucose   1   343.60 355.60\n",
      "\n",
      "Step:  AIC=301.49\n",
      "cbind(test, 1 - test) ~ pregnant + glucose + bmi + diabetes + \n",
      "    age\n",
      "\n",
      "           Df Deviance    AIC\n",
      "- pregnant  1   291.12 301.12\n",
      "<none>          289.49 301.49\n",
      "- age       1   295.20 305.20\n",
      "- diabetes  1   295.29 305.29\n",
      "- bmi       1   303.66 313.66\n",
      "- glucose   1   344.70 354.70\n",
      "\n",
      "Step:  AIC=301.12\n",
      "cbind(test, 1 - test) ~ glucose + bmi + diabetes + age\n",
      "\n",
      "           Df Deviance    AIC\n",
      "<none>          291.12 301.12\n",
      "- diabetes  1   296.43 304.43\n",
      "- bmi       1   305.38 313.38\n",
      "- age       1   309.18 317.18\n",
      "- glucose   1   345.86 353.86\n"
     ]
    },
    {
     "data": {
      "text/html": [
       "<table>\n",
       "<thead><tr><th></th><th scope=col>test</th><th scope=col>diastolic</th></tr></thead>\n",
       "<tbody>\n",
       "\t<tr><th scope=row>test</th><td>1.0000000</td><td>0.2413766</td></tr>\n",
       "\t<tr><th scope=row>diastolic</th><td>0.2413766</td><td>1.0000000</td></tr>\n",
       "</tbody>\n",
       "</table>\n"
      ],
      "text/latex": [
       "\\begin{tabular}{r|ll}\n",
       "  & test & diastolic\\\\\n",
       "\\hline\n",
       "\ttest & 1.0000000 & 0.2413766\\\\\n",
       "\tdiastolic & 0.2413766 & 1.0000000\\\\\n",
       "\\end{tabular}\n"
      ],
      "text/markdown": [
       "\n",
       "| <!--/--> | test | diastolic |\n",
       "|---|---|---|\n",
       "| test | 1.0000000 | 0.2413766 |\n",
       "| diastolic | 0.2413766 | 1.0000000 |\n",
       "\n"
      ],
      "text/plain": [
       "          test      diastolic\n",
       "test      1.0000000 0.2413766\n",
       "diastolic 0.2413766 1.0000000"
      ]
     },
     "metadata": {},
     "output_type": "display_data"
    },
    {
     "data": {
      "text/plain": [
       "\n",
       "Call:\n",
       "glm(formula = cbind(test, 1 - test) ~ ., family = binomial, data = df)\n",
       "\n",
       "Deviance Residuals: \n",
       "    Min       1Q   Median       3Q      Max  \n",
       "-2.8619  -0.6557  -0.3295   0.6158   2.6339  \n",
       "\n",
       "Coefficients:\n",
       "              Estimate Std. Error z value Pr(>|z|)    \n",
       "(Intercept) -1.083e+01  1.423e+00  -7.610 2.73e-14 ***\n",
       "pregnant     7.364e-02  5.973e-02   1.233   0.2176    \n",
       "glucose      3.616e-02  6.249e-03   5.785 7.23e-09 ***\n",
       "diastolic    5.993e-03  1.320e-02   0.454   0.6497    \n",
       "triceps      1.110e-02  1.869e-02   0.594   0.5527    \n",
       "insulin      3.231e-05  1.445e-03   0.022   0.9822    \n",
       "bmi          7.615e-02  3.174e-02   2.399   0.0164 *  \n",
       "diabetes     1.097e+00  4.777e-01   2.297   0.0216 *  \n",
       "age          4.075e-02  1.919e-02   2.123   0.0337 *  \n",
       "---\n",
       "Signif. codes:  0 '***' 0.001 '**' 0.01 '*' 0.05 '.' 0.1 ' ' 1\n",
       "\n",
       "(Dispersion parameter for binomial family taken to be 1)\n",
       "\n",
       "    Null deviance: 426.34  on 335  degrees of freedom\n",
       "Residual deviance: 288.92  on 327  degrees of freedom\n",
       "AIC: 306.92\n",
       "\n",
       "Number of Fisher Scoring iterations: 5\n"
      ]
     },
     "metadata": {},
     "output_type": "display_data"
    },
    {
     "data": {
      "text/html": [
       "<ol class=list-inline>\n",
       "\t<li>0.310335565649277</li>\n",
       "\t<li>0.627822519540887</li>\n",
       "</ol>\n"
      ],
      "text/latex": [
       "\\begin{enumerate*}\n",
       "\\item 0.310335565649277\n",
       "\\item 0.627822519540887\n",
       "\\end{enumerate*}\n"
      ],
      "text/markdown": [
       "1. 0.310335565649277\n",
       "2. 0.627822519540887\n",
       "\n",
       "\n"
      ],
      "text/plain": [
       "[1] 0.3103356 0.6278225"
      ]
     },
     "metadata": {},
     "output_type": "display_data"
    },
    {
     "data": {
      "image/png": "[encoded data removed]",
      "text/plain": [
       "plot without title"
      ]
     },
     "metadata": {},
     "output_type": "display_data"
    }
   ],
   "source": [
    "# Load libraries\n",
    "library(faraway)\n",
    "data(wbca)\n",
    "\n",
    "# Logit Fucntion def\n",
    "ilogit = function(x) exp(x)/(1+exp(x))\n",
    "\n",
    "# Build binomial regression model\n",
    "bn = glm(cbind(Class, 1 - Class) ~ ., family=binomial, wbca)\n",
    "summary(bn)\n",
    "\n",
    "# Stepwise selection using AIC\n",
    "bnReduced = step(bn)\n",
    "\n",
    "# Predict (1, 1, 3, 1, 1, 4, 1)\n",
    "hat = predict.glm(bnReduced, newdata = list(Adhes=1,\n",
    "                                          BNucl=1,\n",
    "                                          Chrom=3,\n",
    "                                          Mitos=1,\n",
    "                                          NNucl=1,\n",
    "                                          Thick=4,\n",
    "                                          UShap=1), type='response')\n",
    "\n",
    "CI = predict.glm(bnReduced, newdata = list(Adhes=1,\n",
    "                                       BNucl=1,\n",
    "                                       Chrom=3,\n",
    "                                       Mitos=1,\n",
    "                                       NNucl=1,\n",
    "                                       Thick=4,\n",
    "                                       UShap=1), type='link', se.fit=TRUE)\n",
    "\n",
    "# 95% CI using N(0,1) and transformed using logit\n",
    "ilogit(hat*CI$fit + c(-1,1)*1.96*CI$se.fit)\n",
    "\n",
    "p = predict(bnReduced, type='response')\n",
    "\n",
    "PROBABILITY = 0.5\n",
    "# FN: Probability > 0.5 and benign / total number of benign\n",
    "FN = sum(p > PROBABILITY & wbca$Class != TRUE)/sum(wbca$Class != TRUE)\n",
    "# FP: Probability < 0.5 and malignant / total number of malignant\n",
    "FP = sum(p < PROBABILITY & wbca$Class == TRUE)/sum(wbca$Class == TRUE)\n",
    "\n",
    "NEW_PROBABILITY = 0.9\n",
    "FNnew = sum(p > NEW_PROBABILITY & wbca$Class != TRUE)/sum(wbca$Class != TRUE)\n",
    "FPnew = sum(p < NEW_PROBABILITY & wbca$Class == TRUE)/sum(wbca$Class == TRUE)\n",
    "# Seems to be a trade off between FN or FP rates. Since this is a medical problem,\n",
    "# we definetely prefer the smaller FN since we don't want to missclassify an indidivual\n",
    "# who truly has malignant cancer.\n",
    "\n",
    "# Load new data\n",
    "data(pima)\n",
    "pairs(pima) # test is obviously T/F, and there are obvious signs of non-linear relationships\n",
    "summary(pima) # seems like some values are missing, let us take a look at the raw data\n",
    "(pima) # as expected, there are several entries with 0 values. we'll remove them for this\n",
    "\n",
    "# find all rows with a 0 entry in any col, and drop those indicies\n",
    "vals = pima[, names(pima) != \"test\"]\n",
    "index = apply(vals, 1, function(row) all (row != 0))\n",
    "df = pima[index,]\n",
    "\n",
    "# Fit a binomial regression model, and use step-wise to find a reduced model\n",
    "bn2 = glm(cbind(test, 1-test) ~., family=binomial, df)\n",
    "bn2Reduced = step(bn2)\n",
    "\n",
    "# Do women who test postiive have higher diastolic blood pressures?\n",
    "cor(df[c(\"test\",\"diastolic\")]) # There seems to be no correlation that links the two\n",
    "summary(bn2) # diastolic seems to not be relevant in the model (in the presence of other variables)\n",
    "# May lead to different results seeing as we have removed all rows with 0's\n",
    "\n",
    "# Predict (1,99,64,22,76,27,0.25,25)\n",
    "hat2 = predict.glm(bn2Reduced, newdata = list(glucose=99,\n",
    "                                           bmi=27,\n",
    "                                           diabetes=0.25,\n",
    "                                           age=25), type='response')\n",
    "\n",
    "CI2 = predict.glm(bn2Reduced, newdata = list(glucose=99,\n",
    "                                             bmi=27,\n",
    "                                             diabetes=0.25,\n",
    "                                             age=25), type='link', se.fit=TRUE)\n",
    "\n",
    "# 95% CI using N(0,1) and transformed using logit\n",
    "ilogit(hat2*CI2$fit + c(-1,1)*1.96*CI2$se.fit)"
   ]
  },
  {
   "cell_type": "markdown",
   "metadata": {},
   "source": [
    "# Lab 2"
   ]
  },
  {
   "cell_type": "code",
   "execution_count": 2,
   "metadata": {
    "ExecuteTime": {
     "end_time": "2019-09-08T03:12:13.843847Z",
     "start_time": "2019-09-08T03:12:08.271Z"
    },
    "scrolled": false
   },
   "outputs": [
    {
     "data": {
      "text/plain": [
       "\n",
       "Call:\n",
       "glm(formula = discoveries ~ year, family = poisson, data = df)\n",
       "\n",
       "Deviance Residuals: \n",
       "    Min       1Q   Median       3Q      Max  \n",
       "-2.8112  -0.9482  -0.3533   0.6637   3.5504  \n",
       "\n",
       "Coefficients:\n",
       "             Estimate Std. Error z value Pr(>|z|)   \n",
       "(Intercept) 11.354807   3.775677   3.007  0.00264 **\n",
       "year        -0.005360   0.001982  -2.705  0.00683 **\n",
       "---\n",
       "Signif. codes:  0 '***' 0.001 '**' 0.01 '*' 0.05 '.' 0.1 ' ' 1\n",
       "\n",
       "(Dispersion parameter for poisson family taken to be 1)\n",
       "\n",
       "    Null deviance: 164.68  on 99  degrees of freedom\n",
       "Residual deviance: 157.32  on 98  degrees of freedom\n",
       "AIC: 430.32\n",
       "\n",
       "Number of Fisher Scoring iterations: 5\n"
      ]
     },
     "metadata": {},
     "output_type": "display_data"
    },
    {
     "data": {
      "text/plain": [
       "\n",
       "Call:\n",
       "glm(formula = discoveries ~ year + year_squared, family = poisson, \n",
       "    data = df)\n",
       "\n",
       "Deviance Residuals: \n",
       "    Min       1Q   Median       3Q      Max  \n",
       "-2.9066  -0.8397  -0.2544   0.4776   3.3303  \n",
       "\n",
       "Coefficients:\n",
       "               Estimate Std. Error z value Pr(>|z|)    \n",
       "(Intercept)  -1.482e+03  3.163e+02  -4.685 2.79e-06 ***\n",
       "year          1.561e+00  3.318e-01   4.705 2.54e-06 ***\n",
       "year_squared -4.106e-04  8.699e-05  -4.720 2.35e-06 ***\n",
       "---\n",
       "Signif. codes:  0 '***' 0.001 '**' 0.01 '*' 0.05 '.' 0.1 ' ' 1\n",
       "\n",
       "(Dispersion parameter for poisson family taken to be 1)\n",
       "\n",
       "    Null deviance: 164.68  on 99  degrees of freedom\n",
       "Residual deviance: 132.84  on 97  degrees of freedom\n",
       "AIC: 407.85\n",
       "\n",
       "Number of Fisher Scoring iterations: 5\n"
      ]
     },
     "metadata": {},
     "output_type": "display_data"
    },
    {
     "data": {
      "text/html": [
       "0.00663660520203098"
      ],
      "text/latex": [
       "0.00663660520203098"
      ],
      "text/markdown": [
       "0.00663660520203098"
      ],
      "text/plain": [
       "[1] 0.006636605"
      ]
     },
     "metadata": {},
     "output_type": "display_data"
    },
    {
     "data": {
      "text/html": [
       "7.51866473983731e-07"
      ],
      "text/latex": [
       "7.51866473983731e-07"
      ],
      "text/markdown": [
       "7.51866473983731e-07"
      ],
      "text/plain": [
       "[1] 7.518665e-07"
      ]
     },
     "metadata": {},
     "output_type": "display_data"
    },
    {
     "name": "stdout",
     "output_type": "stream",
     "text": [
      "'data.frame':\t40 obs. of  5 variables:\n",
      " $ type     : Factor w/ 5 levels \"A\",\"B\",\"C\",\"D\",..: 1 1 1 1 1 1 1 1 2 2 ...\n",
      " $ year     : int  60 60 65 65 70 70 75 75 60 60 ...\n",
      " $ period   : int  60 75 60 75 60 75 60 75 60 75 ...\n",
      " $ service  : int  127 63 1095 1095 1512 3353 0 2244 44882 17176 ...\n",
      " $ incidents: int  0 0 3 4 6 18 0 11 39 29 ...\n"
     ]
    },
    {
     "data": {
      "text/plain": [
       "\n",
       "Call:\n",
       "glm(formula = incidents ~ ., family = poisson, data = df1)\n",
       "\n",
       "Deviance Residuals: \n",
       "    Min       1Q   Median       3Q      Max  \n",
       "-1.5284  -1.0535  -0.4538   0.1656   2.5705  \n",
       "\n",
       "Coefficients:\n",
       "               Estimate Std. Error z value Pr(>|z|)    \n",
       "(Intercept)  -1.275e+00  3.788e-01  -3.365 0.000765 ***\n",
       "typeB        -1.080e+00  3.395e-01  -3.181 0.001467 ** \n",
       "typeC        -6.934e-01  3.409e-01  -2.034 0.041970 *  \n",
       "typeD        -1.951e-01  3.025e-01  -0.645 0.519023    \n",
       "typeE         2.893e-01  2.487e-01   1.163 0.244711    \n",
       "year65        4.952e-01  1.832e-01   2.702 0.006887 ** \n",
       "year70        8.649e-01  2.238e-01   3.864 0.000111 ***\n",
       "year75        5.773e-01  2.630e-01   2.195 0.028172 *  \n",
       "period75      2.585e-01  1.625e-01   1.591 0.111628    \n",
       "service      -1.626e-04  3.691e-05  -4.404 1.06e-05 ***\n",
       "sqrt_service  6.263e-02  9.829e-03   6.372 1.86e-10 ***\n",
       "---\n",
       "Signif. codes:  0 '***' 0.001 '**' 0.01 '*' 0.05 '.' 0.1 ' ' 1\n",
       "\n",
       "(Dispersion parameter for poisson family taken to be 1)\n",
       "\n",
       "    Null deviance: 730.253  on 39  degrees of freedom\n",
       "Residual deviance:  46.516  on 29  degrees of freedom\n",
       "AIC: 166.38\n",
       "\n",
       "Number of Fisher Scoring iterations: 5\n"
      ]
     },
     "metadata": {},
     "output_type": "display_data"
    },
    {
     "name": "stdout",
     "output_type": "stream",
     "text": [
      "Start:  AIC=166.38\n",
      "incidents ~ type + year + period + service + sqrt_service\n",
      "\n",
      "               Df Deviance    AIC\n",
      "<none>              46.516 166.38\n",
      "- period        1   49.065 166.93\n",
      "- year          3   63.176 177.04\n",
      "- type          4   66.891 178.76\n",
      "- service       1   67.035 184.90\n",
      "- sqrt_service  1   94.464 212.33\n"
     ]
    },
    {
     "data": {
      "text/plain": [
       "\n",
       "Call:\n",
       "glm(formula = incidents ~ type + year + period + service + sqrt_service, \n",
       "    family = poisson, data = df1)\n",
       "\n",
       "Deviance Residuals: \n",
       "    Min       1Q   Median       3Q      Max  \n",
       "-1.5284  -1.0535  -0.4538   0.1656   2.5705  \n",
       "\n",
       "Coefficients:\n",
       "               Estimate Std. Error z value Pr(>|z|)    \n",
       "(Intercept)  -1.275e+00  3.788e-01  -3.365 0.000765 ***\n",
       "typeB        -1.080e+00  3.395e-01  -3.181 0.001467 ** \n",
       "typeC        -6.934e-01  3.409e-01  -2.034 0.041970 *  \n",
       "typeD        -1.951e-01  3.025e-01  -0.645 0.519023    \n",
       "typeE         2.893e-01  2.487e-01   1.163 0.244711    \n",
       "year65        4.952e-01  1.832e-01   2.702 0.006887 ** \n",
       "year70        8.649e-01  2.238e-01   3.864 0.000111 ***\n",
       "year75        5.773e-01  2.630e-01   2.195 0.028172 *  \n",
       "period75      2.585e-01  1.625e-01   1.591 0.111628    \n",
       "service      -1.626e-04  3.691e-05  -4.404 1.06e-05 ***\n",
       "sqrt_service  6.263e-02  9.829e-03   6.372 1.86e-10 ***\n",
       "---\n",
       "Signif. codes:  0 '***' 0.001 '**' 0.01 '*' 0.05 '.' 0.1 ' ' 1\n",
       "\n",
       "(Dispersion parameter for poisson family taken to be 1)\n",
       "\n",
       "    Null deviance: 730.253  on 39  degrees of freedom\n",
       "Residual deviance:  46.516  on 29  degrees of freedom\n",
       "AIC: 166.38\n",
       "\n",
       "Number of Fisher Scoring iterations: 5\n"
      ]
     },
     "metadata": {},
     "output_type": "display_data"
    },
    {
     "ename": "ERROR",
     "evalue": "Error in library(survival): there is no package called 'survival'\n",
     "output_type": "error",
     "traceback": [
      "Error in library(survival): there is no package called 'survival'\nTraceback:\n",
      "1. library(survival)"
     ]
    },
    {
     "data": {
      "image/png": "[encoded data removed]",
      "text/plain": [
       "plot without title"
      ]
     },
     "metadata": {},
     "output_type": "display_data"
    }
   ],
   "source": [
    "# Load data\n",
    "data(discoveries)\n",
    "df = data.frame(year=c(1860:1959), discoveries=discoveries)\n",
    "\n",
    "# poisson model (log link function)\n",
    "pm = glm(discoveries ~ year, data=df, family=poisson)\n",
    "summary(pm) # Parameters are relevant\n",
    "\n",
    "# Add the year squared variable\n",
    "df$year_squared = (df$year)^2\n",
    "pm2 = glm(discoveries ~ year + year_squared, data=df, family=poisson)\n",
    "summary(pm2) # Parameters are much more relevant\n",
    "\n",
    "# null model\n",
    "null = glm(discoveries ~ 1, data=df, family=poisson)\n",
    "\n",
    "# compare relevance values (deviance) with 1 parameter difference between models\n",
    "D1 = null$deviance - pm$deviance\n",
    "pchisq(D1, 1, lower.tail=FALSE)\n",
    "\n",
    "D2 = pm$deviance - pm2$deviance\n",
    "pchisq(D2, 1, lower.tail=FALSE)\n",
    "# We can conclude that adding the year variable from the null improves the model, and there is also significant\n",
    "# improvement when adding the year_square variable. Hence, we can say that the discovery rate has changed over time.\n",
    "\n",
    "library(MASS)\n",
    "data(ships)\n",
    "str(ships) # year and period should be timeseries or factors, not int\n",
    "df1 = data.frame(ships) \n",
    "df1$year = factor(df1$year)\n",
    "df1$period = factor(df1$period)\n",
    "\n",
    "pairs(df1) # service may need a transformation. Since there are values that are 0, a log transform wont work\n",
    "df1$sqrt_service = sqrt(df1$service)\n",
    "\n",
    "pm = glm(incidents ~ ., data=df1, family=poisson)\n",
    "summary(pm)\n",
    "\n",
    "new_pm = step(pm)\n",
    "# period, year, type, service, sqrt_service seem to be irrelevant models from stepwise selection\n",
    "summary(new_pm)\n",
    "# Type D, type E seem to not be relevant for this model\n",
    "\n",
    "library(survival)\n",
    "data(infert)\n",
    "str(infert) # we dont use stratum since it confounded\n",
    "df2 = data.frame(infert)\n",
    "\n",
    "br = glm(case ~ education + age + parity + induced + case + spontaneous, data=df2, family=binomial)\n",
    "summary(br)"
   ]
  },
  {
   "cell_type": "markdown",
   "metadata": {},
   "source": [
    "# Lab 3"
   ]
  },
  {
   "cell_type": "code",
   "execution_count": 14,
   "metadata": {
    "ExecuteTime": {
     "end_time": "2019-09-08T04:05:17.158678Z",
     "start_time": "2019-09-08T04:05:17.108Z"
    }
   },
   "outputs": [],
   "source": [
    "# Load libraries\n",
    "library(faraway)\n",
    "data(cornnit)"
   ]
  },
  {
   "cell_type": "code",
   "execution_count": 15,
   "metadata": {
    "ExecuteTime": {
     "end_time": "2019-09-08T04:05:17.631147Z",
     "start_time": "2019-09-08T04:05:17.492Z"
    }
   },
   "outputs": [
    {
     "data": {
      "image/png": "[encoded data removed]",
      "text/plain": [
       "plot without title"
      ]
     },
     "metadata": {},
     "output_type": "display_data"
    }
   ],
   "source": [
    "pairs(cornnit)"
   ]
  },
  {
   "cell_type": "markdown",
   "metadata": {},
   "source": [
    "- There seems to be some form of exponential relationship, let us try a log plot\n",
    "- Since there are 0 nitrogen values, we will `+1` to all entries"
   ]
  },
  {
   "cell_type": "code",
   "execution_count": 16,
   "metadata": {
    "ExecuteTime": {
     "end_time": "2019-09-08T04:05:17.913147Z",
     "start_time": "2019-09-08T04:05:17.884Z"
    }
   },
   "outputs": [],
   "source": [
    "cornnit$log_nitrogen = log(cornnit$nitrogen + 1)"
   ]
  },
  {
   "cell_type": "code",
   "execution_count": 17,
   "metadata": {
    "ExecuteTime": {
     "end_time": "2019-09-08T04:05:18.553295Z",
     "start_time": "2019-09-08T04:05:18.412Z"
    }
   },
   "outputs": [
    {
     "data": {
      "image/png": "[encoded data removed]",
      "text/plain": [
       "plot without title"
      ]
     },
     "metadata": {},
     "output_type": "display_data"
    }
   ],
   "source": [
    "pairs(cornnit$yield ~ cornnit$log_nitrogen)"
   ]
  },
  {
   "cell_type": "code",
   "execution_count": 18,
   "metadata": {
    "ExecuteTime": {
     "end_time": "2019-09-08T04:05:18.728210Z",
     "start_time": "2019-09-08T04:05:18.640Z"
    }
   },
   "outputs": [
    {
     "data": {
      "text/html": [
       "<table>\n",
       "<tbody>\n",
       "\t<tr><td>383.7435</td><td>381.7124</td><td>382.4205</td></tr>\n",
       "</tbody>\n",
       "</table>\n"
      ],
      "text/latex": [
       "\\begin{tabular}{lll}\n",
       "\t 383.7435 & 381.7124 & 382.4205\\\\\n",
       "\\end{tabular}\n"
      ],
      "text/markdown": [
       "\n",
       "| 383.7435 | 381.7124 | 382.4205 |\n",
       "\n"
      ],
      "text/plain": [
       "     [,1]     [,2]     [,3]    \n",
       "[1,] 383.7435 381.7124 382.4205"
      ]
     },
     "metadata": {},
     "output_type": "display_data"
    }
   ],
   "source": [
    "# inverse, identity or log link functions using log_nitrogen as the predictor\n",
    "br1 = glm(yield ~ log_nitrogen, data=cornnit, family=Gamma(link='inverse'))\n",
    "br2 = glm(yield ~ log_nitrogen, data=cornnit, family=Gamma(link='identity'))\n",
    "br3 = glm(yield ~ log_nitrogen, data=cornnit, family=Gamma(link='log'))\n",
    "\n",
    "cbind(br1$aic, br2$aic, br3$aic)"
   ]
  },
  {
   "cell_type": "markdown",
   "metadata": {},
   "source": [
    "The `identity` link function seems to have the lowest AIC, so we will use that for the question."
   ]
  },
  {
   "cell_type": "code",
   "execution_count": 19,
   "metadata": {
    "ExecuteTime": {
     "end_time": "2019-09-08T04:05:19.355375Z",
     "start_time": "2019-09-08T04:05:19.303Z"
    }
   },
   "outputs": [
    {
     "data": {
      "text/plain": [
       "\n",
       "Call:\n",
       "glm(formula = yield ~ log_nitrogen, family = Gamma(link = \"identity\"), \n",
       "    data = cornnit)\n",
       "\n",
       "Deviance Residuals: \n",
       "     Min        1Q    Median        3Q       Max  \n",
       "-0.57604  -0.07789   0.02067   0.07948   0.26927  \n",
       "\n",
       "Coefficients:\n",
       "             Estimate Std. Error t value Pr(>|t|)    \n",
       "(Intercept)    88.875      3.571   24.89  < 2e-16 ***\n",
       "log_nitrogen   10.337      1.009   10.24 5.46e-13 ***\n",
       "---\n",
       "Signif. codes:  0 '***' 0.001 '**' 0.01 '*' 0.05 '.' 0.1 ' ' 1\n",
       "\n",
       "(Dispersion parameter for Gamma family taken to be 0.01810187)\n",
       "\n",
       "    Null deviance: 2.40614  on 43  degrees of freedom\n",
       "Residual deviance: 0.87603  on 42  degrees of freedom\n",
       "AIC: 381.71\n",
       "\n",
       "Number of Fisher Scoring iterations: 4\n"
      ]
     },
     "metadata": {},
     "output_type": "display_data"
    },
    {
     "data": {
      "text/html": [
       "<table>\n",
       "<thead><tr><th scope=col>phi.hat</th></tr></thead>\n",
       "<tbody>\n",
       "\t<tr><td>0.01810169</td></tr>\n",
       "</tbody>\n",
       "</table>\n"
      ],
      "text/latex": [
       "\\begin{tabular}{l}\n",
       " phi.hat\\\\\n",
       "\\hline\n",
       "\t 0.01810169\\\\\n",
       "\\end{tabular}\n"
      ],
      "text/markdown": [
       "\n",
       "| phi.hat |\n",
       "|---|\n",
       "| 0.01810169 |\n",
       "\n"
      ],
      "text/plain": [
       "     phi.hat   \n",
       "[1,] 0.01810169"
      ]
     },
     "metadata": {},
     "output_type": "display_data"
    }
   ],
   "source": [
    "br = br2\n",
    "N = length(cornnit$yield)\n",
    "p = 2 # number of params in the fitten model\n",
    "\n",
    "# phi.hat is the dispersion parameter \n",
    "phi.hat = sum(residuals(br, \"pearson\")^2) / (N - p)\n",
    "summary(br)\n",
    "\n",
    "cbind(phi.hat)"
   ]
  },
  {
   "cell_type": "code",
   "execution_count": 20,
   "metadata": {
    "ExecuteTime": {
     "end_time": "2019-09-08T04:05:21.417559Z",
     "start_time": "2019-09-08T04:05:21.361Z"
    }
   },
   "outputs": [
    {
     "data": {
      "text/html": [
       "<table>\n",
       "<thead><tr><th></th><th scope=col>Df</th><th scope=col>Deviance</th><th scope=col>Resid. Df</th><th scope=col>Resid. Dev</th><th scope=col>F</th><th scope=col>Pr(&gt;F)</th></tr></thead>\n",
       "<tbody>\n",
       "\t<tr><th scope=row>NULL</th><td>NA          </td><td>      NA    </td><td>43          </td><td>2.4061369   </td><td>      NA    </td><td>          NA</td></tr>\n",
       "\t<tr><th scope=row>log_nitrogen</th><td> 1          </td><td>1.530108    </td><td>42          </td><td>0.8760292   </td><td>84.52763    </td><td>1.296842e-11</td></tr>\n",
       "</tbody>\n",
       "</table>\n"
      ],
      "text/latex": [
       "\\begin{tabular}{r|llllll}\n",
       "  & Df & Deviance & Resid. Df & Resid. Dev & F & Pr(>F)\\\\\n",
       "\\hline\n",
       "\tNULL & NA           &       NA     & 43           & 2.4061369    &       NA     &           NA\\\\\n",
       "\tlog\\_nitrogen &  1           & 1.530108     & 42           & 0.8760292    & 84.52763     & 1.296842e-11\\\\\n",
       "\\end{tabular}\n"
      ],
      "text/markdown": [
       "\n",
       "| <!--/--> | Df | Deviance | Resid. Df | Resid. Dev | F | Pr(>F) |\n",
       "|---|---|---|---|---|---|---|\n",
       "| NULL | NA           |       NA     | 43           | 2.4061369    |       NA     |           NA |\n",
       "| log_nitrogen |  1           | 1.530108     | 42           | 0.8760292    | 84.52763     | 1.296842e-11 |\n",
       "\n"
      ],
      "text/plain": [
       "             Df Deviance Resid. Df Resid. Dev F        Pr(>F)      \n",
       "NULL         NA       NA 43        2.4061369        NA           NA\n",
       "log_nitrogen  1 1.530108 42        0.8760292  84.52763 1.296842e-11"
      ]
     },
     "metadata": {},
     "output_type": "display_data"
    },
    {
     "data": {
      "text/html": [
       "<table>\n",
       "<thead><tr><th scope=col>F</th></tr></thead>\n",
       "<tbody>\n",
       "\t<tr><td>84.52845</td></tr>\n",
       "</tbody>\n",
       "</table>\n"
      ],
      "text/latex": [
       "\\begin{tabular}{l}\n",
       " F\\\\\n",
       "\\hline\n",
       "\t 84.52845\\\\\n",
       "\\end{tabular}\n"
      ],
      "text/markdown": [
       "\n",
       "| F |\n",
       "|---|\n",
       "| 84.52845 |\n",
       "\n"
      ],
      "text/plain": [
       "     F       \n",
       "[1,] 84.52845"
      ]
     },
     "metadata": {},
     "output_type": "display_data"
    }
   ],
   "source": [
    "null.deviance = anova(br, test=\"F\")[1,4]\n",
    "fitted.deviance = anova(br, test=\"F\")[2,4]\n",
    "\n",
    "F = (null.deviance - fitted.deviance) / phi.hat\n",
    "\n",
    "anova(br, test=\"F\")\n",
    "cbind(F)"
   ]
  },
  {
   "cell_type": "markdown",
   "metadata": {},
   "source": [
    "TODO: COME BACK TO SOLVE DIAGNOSTIC PLOTS AFTER WEEK 5"
   ]
  },
  {
   "cell_type": "code",
   "execution_count": 21,
   "metadata": {
    "ExecuteTime": {
     "end_time": "2019-09-08T04:05:28.215381Z",
     "start_time": "2019-09-08T04:05:28.183Z"
    }
   },
   "outputs": [],
   "source": [
    "lm = lm(yield ~ log_nitrogen, data=cornnit)"
   ]
  },
  {
   "cell_type": "code",
   "execution_count": 22,
   "metadata": {
    "ExecuteTime": {
     "end_time": "2019-09-08T04:05:28.459058Z",
     "start_time": "2019-09-08T04:05:28.372Z"
    }
   },
   "outputs": [],
   "source": [
    "library(faraway)\n",
    "data(dvisits)\n",
    "\n",
    "pr = glm(doctorco ~ sex + age + agesq + income + levyplus + freepoor + \n",
    "         freerepa + illness + actdays + hscore + chcond1 + chcond2, data=dvisits, family=poisson)"
   ]
  },
  {
   "cell_type": "code",
   "execution_count": 23,
   "metadata": {
    "ExecuteTime": {
     "end_time": "2019-09-08T04:05:28.610914Z",
     "start_time": "2019-09-08T04:05:28.567Z"
    }
   },
   "outputs": [
    {
     "data": {
      "text/plain": [
       "\n",
       "Call:\n",
       "glm(formula = doctorco ~ sex + age + agesq + income + levyplus + \n",
       "    freepoor + freerepa + illness + actdays + hscore + chcond1 + \n",
       "    chcond2, family = poisson, data = dvisits)\n",
       "\n",
       "Deviance Residuals: \n",
       "    Min       1Q   Median       3Q      Max  \n",
       "-2.9170  -0.6862  -0.5743  -0.4839   5.7005  \n",
       "\n",
       "Coefficients:\n",
       "             Estimate Std. Error z value Pr(>|z|)    \n",
       "(Intercept) -2.223848   0.189816 -11.716   <2e-16 ***\n",
       "sex          0.156882   0.056137   2.795   0.0052 ** \n",
       "age          1.056299   1.000780   1.055   0.2912    \n",
       "agesq       -0.848704   1.077784  -0.787   0.4310    \n",
       "income      -0.205321   0.088379  -2.323   0.0202 *  \n",
       "levyplus     0.123185   0.071640   1.720   0.0855 .  \n",
       "freepoor    -0.440061   0.179811  -2.447   0.0144 *  \n",
       "freerepa     0.079798   0.092060   0.867   0.3860    \n",
       "illness      0.186948   0.018281  10.227   <2e-16 ***\n",
       "actdays      0.126846   0.005034  25.198   <2e-16 ***\n",
       "hscore       0.030081   0.010099   2.979   0.0029 ** \n",
       "chcond1      0.114085   0.066640   1.712   0.0869 .  \n",
       "chcond2      0.141158   0.083145   1.698   0.0896 .  \n",
       "---\n",
       "Signif. codes:  0 '***' 0.001 '**' 0.01 '*' 0.05 '.' 0.1 ' ' 1\n",
       "\n",
       "(Dispersion parameter for poisson family taken to be 1)\n",
       "\n",
       "    Null deviance: 5634.8  on 5189  degrees of freedom\n",
       "Residual deviance: 4379.5  on 5177  degrees of freedom\n",
       "AIC: 6737.1\n",
       "\n",
       "Number of Fisher Scoring iterations: 6\n"
      ]
     },
     "metadata": {},
     "output_type": "display_data"
    }
   ],
   "source": [
    "summary(pr)"
   ]
  },
  {
   "cell_type": "markdown",
   "metadata": {},
   "source": [
    "Although the fitted deviance is very large (4379.5), we have 5177 dof."
   ]
  },
  {
   "cell_type": "code",
   "execution_count": 24,
   "metadata": {
    "ExecuteTime": {
     "end_time": "2019-09-08T04:05:30.888897Z",
     "start_time": "2019-09-08T04:05:30.485Z"
    }
   },
   "outputs": [
    {
     "data": {
      "image/png": "[encoded data removed]",
      "text/plain": [
       "plot without title"
      ]
     },
     "metadata": {},
     "output_type": "display_data"
    }
   ],
   "source": [
    "# Residual vs Predicted plot\n",
    "plot(predict(pr, type=\"response\"), residuals(pr, type=\"response\"))"
   ]
  },
  {
   "cell_type": "markdown",
   "metadata": {},
   "source": [
    "- The fitted residuals vs predictions have a linear relationship since the response is ($y_i-g(\\eta_i)$), where $y_i$ is a whole number. "
   ]
  },
  {
   "cell_type": "code",
   "execution_count": 25,
   "metadata": {
    "ExecuteTime": {
     "end_time": "2019-09-08T04:05:31.292409Z",
     "start_time": "2019-09-08T04:05:30.901Z"
    }
   },
   "outputs": [
    {
     "data": {
      "text/html": [
       "<table>\n",
       "<thead><tr><th></th><th scope=col>Df</th><th scope=col>Deviance</th><th scope=col>AIC</th><th scope=col>LRT</th><th scope=col>Pr(&gt;Chi)</th></tr></thead>\n",
       "<tbody>\n",
       "\t<tr><th scope=row>&lt;none&gt;</th><td>NA           </td><td>4379.515     </td><td>6737.083     </td><td>         NA  </td><td>           NA</td></tr>\n",
       "\t<tr><th scope=row>sex</th><td> 1           </td><td>4387.402     </td><td>6742.970     </td><td>  7.8869639  </td><td> 4.979238e-03</td></tr>\n",
       "\t<tr><th scope=row>age</th><td> 1           </td><td>4380.624     </td><td>6736.192     </td><td>  1.1091455  </td><td> 2.922678e-01</td></tr>\n",
       "\t<tr><th scope=row>agesq</th><td> 1           </td><td>4380.133     </td><td>6735.701     </td><td>  0.6180113  </td><td> 4.317873e-01</td></tr>\n",
       "\t<tr><th scope=row>income</th><td> 1           </td><td>4384.972     </td><td>6740.539     </td><td>  5.4564065  </td><td> 1.949670e-02</td></tr>\n",
       "\t<tr><th scope=row>levyplus</th><td> 1           </td><td>4382.496     </td><td>6738.063     </td><td>  2.9805067  </td><td> 8.427288e-02</td></tr>\n",
       "\t<tr><th scope=row>freepoor</th><td> 1           </td><td>4386.221     </td><td>6741.789     </td><td>  6.7060877  </td><td> 9.608430e-03</td></tr>\n",
       "\t<tr><th scope=row>freerepa</th><td> 1           </td><td>4380.269     </td><td>6735.836     </td><td>  0.7537957  </td><td> 3.852771e-01</td></tr>\n",
       "\t<tr><th scope=row>illness</th><td> 1           </td><td>4481.833     </td><td>6837.401     </td><td>102.3181081  </td><td> 4.728500e-24</td></tr>\n",
       "\t<tr><th scope=row>actdays</th><td> 1           </td><td>4917.102     </td><td>7272.670     </td><td>537.5869621  </td><td>6.315183e-119</td></tr>\n",
       "\t<tr><th scope=row>hscore</th><td> 1           </td><td>4388.145     </td><td>6743.713     </td><td>  8.6300678  </td><td> 3.306593e-03</td></tr>\n",
       "\t<tr><th scope=row>chcond1</th><td> 1           </td><td>4382.454     </td><td>6738.022     </td><td>  2.9393065  </td><td> 8.644784e-02</td></tr>\n",
       "\t<tr><th scope=row>chcond2</th><td> 1           </td><td>4382.383     </td><td>6737.951     </td><td>  2.8681829  </td><td> 9.034682e-02</td></tr>\n",
       "</tbody>\n",
       "</table>\n"
      ],
      "text/latex": [
       "\\begin{tabular}{r|lllll}\n",
       "  & Df & Deviance & AIC & LRT & Pr(>Chi)\\\\\n",
       "\\hline\n",
       "\t<none> & NA            & 4379.515      & 6737.083      &          NA   &            NA\\\\\n",
       "\tsex &  1            & 4387.402      & 6742.970      &   7.8869639   &  4.979238e-03\\\\\n",
       "\tage &  1            & 4380.624      & 6736.192      &   1.1091455   &  2.922678e-01\\\\\n",
       "\tagesq &  1            & 4380.133      & 6735.701      &   0.6180113   &  4.317873e-01\\\\\n",
       "\tincome &  1            & 4384.972      & 6740.539      &   5.4564065   &  1.949670e-02\\\\\n",
       "\tlevyplus &  1            & 4382.496      & 6738.063      &   2.9805067   &  8.427288e-02\\\\\n",
       "\tfreepoor &  1            & 4386.221      & 6741.789      &   6.7060877   &  9.608430e-03\\\\\n",
       "\tfreerepa &  1            & 4380.269      & 6735.836      &   0.7537957   &  3.852771e-01\\\\\n",
       "\tillness &  1            & 4481.833      & 6837.401      & 102.3181081   &  4.728500e-24\\\\\n",
       "\tactdays &  1            & 4917.102      & 7272.670      & 537.5869621   & 6.315183e-119\\\\\n",
       "\thscore &  1            & 4388.145      & 6743.713      &   8.6300678   &  3.306593e-03\\\\\n",
       "\tchcond1 &  1            & 4382.454      & 6738.022      &   2.9393065   &  8.644784e-02\\\\\n",
       "\tchcond2 &  1            & 4382.383      & 6737.951      &   2.8681829   &  9.034682e-02\\\\\n",
       "\\end{tabular}\n"
      ],
      "text/markdown": [
       "\n",
       "| <!--/--> | Df | Deviance | AIC | LRT | Pr(>Chi) |\n",
       "|---|---|---|---|---|---|\n",
       "| <none> | NA            | 4379.515      | 6737.083      |          NA   |            NA |\n",
       "| sex |  1            | 4387.402      | 6742.970      |   7.8869639   |  4.979238e-03 |\n",
       "| age |  1            | 4380.624      | 6736.192      |   1.1091455   |  2.922678e-01 |\n",
       "| agesq |  1            | 4380.133      | 6735.701      |   0.6180113   |  4.317873e-01 |\n",
       "| income |  1            | 4384.972      | 6740.539      |   5.4564065   |  1.949670e-02 |\n",
       "| levyplus |  1            | 4382.496      | 6738.063      |   2.9805067   |  8.427288e-02 |\n",
       "| freepoor |  1            | 4386.221      | 6741.789      |   6.7060877   |  9.608430e-03 |\n",
       "| freerepa |  1            | 4380.269      | 6735.836      |   0.7537957   |  3.852771e-01 |\n",
       "| illness |  1            | 4481.833      | 6837.401      | 102.3181081   |  4.728500e-24 |\n",
       "| actdays |  1            | 4917.102      | 7272.670      | 537.5869621   | 6.315183e-119 |\n",
       "| hscore |  1            | 4388.145      | 6743.713      |   8.6300678   |  3.306593e-03 |\n",
       "| chcond1 |  1            | 4382.454      | 6738.022      |   2.9393065   |  8.644784e-02 |\n",
       "| chcond2 |  1            | 4382.383      | 6737.951      |   2.8681829   |  9.034682e-02 |\n",
       "\n"
      ],
      "text/plain": [
       "         Df Deviance AIC      LRT         Pr(>Chi)     \n",
       "<none>   NA 4379.515 6737.083          NA            NA\n",
       "sex       1 4387.402 6742.970   7.8869639  4.979238e-03\n",
       "age       1 4380.624 6736.192   1.1091455  2.922678e-01\n",
       "agesq     1 4380.133 6735.701   0.6180113  4.317873e-01\n",
       "income    1 4384.972 6740.539   5.4564065  1.949670e-02\n",
       "levyplus  1 4382.496 6738.063   2.9805067  8.427288e-02\n",
       "freepoor  1 4386.221 6741.789   6.7060877  9.608430e-03\n",
       "freerepa  1 4380.269 6735.836   0.7537957  3.852771e-01\n",
       "illness   1 4481.833 6837.401 102.3181081  4.728500e-24\n",
       "actdays   1 4917.102 7272.670 537.5869621 6.315183e-119\n",
       "hscore    1 4388.145 6743.713   8.6300678  3.306593e-03\n",
       "chcond1   1 4382.454 6738.022   2.9393065  8.644784e-02\n",
       "chcond2   1 4382.383 6737.951   2.8681829  9.034682e-02"
      ]
     },
     "metadata": {},
     "output_type": "display_data"
    }
   ],
   "source": [
    "pr2 = drop1(pr, scope=~., test=\"Chisq\")\n",
    "pr2"
   ]
  },
  {
   "cell_type": "markdown",
   "metadata": {},
   "source": [
    "# Lab 4"
   ]
  },
  {
   "cell_type": "code",
   "execution_count": null,
   "metadata": {
    "ExecuteTime": {
     "end_time": "2019-09-08T03:12:13.911818Z",
     "start_time": "2019-09-08T03:12:11.918Z"
    }
   },
   "outputs": [],
   "source": [
    "library(faraway)\n",
    "data(turtle)"
   ]
  },
  {
   "cell_type": "code",
   "execution_count": null,
   "metadata": {
    "ExecuteTime": {
     "end_time": "2019-09-08T03:12:13.915751Z",
     "start_time": "2019-09-08T03:12:12.097Z"
    }
   },
   "outputs": [],
   "source": [
    "# Set the binomial model\n",
    "br = glm(cbind(male, female) ~ ., data=turtle, family=binomial)\n",
    "summary(br)"
   ]
  },
  {
   "cell_type": "code",
   "execution_count": null,
   "metadata": {
    "ExecuteTime": {
     "end_time": "2019-09-08T03:12:13.919745Z",
     "start_time": "2019-09-08T03:12:12.258Z"
    }
   },
   "outputs": [],
   "source": [
    "# We check for phi > 1, where the assumption for no overdispersion is phi = 1, for phi >= 1.\n",
    "pearson.stat = residuals(br, type=\"pearson\")^2\n",
    "n = dim(turtle)[1]\n",
    "p = dim(turtle)[2]\n",
    "\n",
    "phi.hat = sum(pearson.stat / (n - p))\n",
    "\n",
    "phi.hat"
   ]
  },
  {
   "cell_type": "code",
   "execution_count": null,
   "metadata": {},
   "outputs": [],
   "source": []
  },
  {
   "cell_type": "markdown",
   "metadata": {
    "ExecuteTime": {
     "end_time": "2019-08-25T01:08:04.720399Z",
     "start_time": "2019-08-25T01:08:04.621Z"
    }
   },
   "source": [
    "We make the observation that $\\hat{\\phi}\\approx 2.2$, which is greater than 1. There could be some overdispersion.\n",
    "\n",
    "- If we ignore overdispersion, the estimation remains identical, but the inference changes\n",
    "- With overdispersion, the Fstat is reduced which makes it less significant in general wrt model comparision\n",
    "- Our estimate for $\\Sigma$ also increases (since $\\phi \\geq 1$), so naturally our CI is much wider"
   ]
  },
  {
   "cell_type": "code",
   "execution_count": null,
   "metadata": {
    "ExecuteTime": {
     "end_time": "2019-09-08T03:12:13.923800Z",
     "start_time": "2019-09-08T03:12:12.780Z"
    }
   },
   "outputs": [],
   "source": [
    "data(dicentric)\n",
    "with(dicentric, interaction.plot(doseamt, doserate, ca/cells))"
   ]
  },
  {
   "cell_type": "markdown",
   "metadata": {},
   "source": [
    "Rate is define as $\\textrm{log}(\\frac{\\lambda_i}{t_i}) = x_i^T\\beta$, which implies $\\textrm{log}(\\lambda_i) = x_i^T\\beta + \\textrm{log}(t_i)$. \n",
    "\n",
    "Therefore, for this dataset of ca / cells, we have $\\textrm{log(ca)} = x_i^T\\beta + \\textrm{log(cells)}$\n",
    "\n",
    "- We take note that we do `doserate:doseamt` since they will obviously have some interaction (rate of dosage and amount of dosage)"
   ]
  },
  {
   "cell_type": "code",
   "execution_count": null,
   "metadata": {
    "ExecuteTime": {
     "end_time": "2019-09-08T03:12:13.935723Z",
     "start_time": "2019-09-08T03:12:13.143Z"
    }
   },
   "outputs": [],
   "source": [
    "pr = glm(ca ~ offset(log(cells)) + doserate*doseamt, data=dicentric, family=poisson)\n",
    "summary(pr)"
   ]
  },
  {
   "cell_type": "markdown",
   "metadata": {},
   "source": [
    "Wow, the null deviance is very large (4753) with only 26 degrees of freedom."
   ]
  },
  {
   "cell_type": "code",
   "execution_count": null,
   "metadata": {
    "ExecuteTime": {
     "end_time": "2019-09-08T03:12:13.939773Z",
     "start_time": "2019-09-08T03:12:13.538Z"
    }
   },
   "outputs": [],
   "source": [
    "step(pr)"
   ]
  },
  {
   "cell_type": "markdown",
   "metadata": {},
   "source": [
    "The model is already quite significant, and removing the interaction increases the AIC. Let's check for some overdispersion."
   ]
  },
  {
   "cell_type": "code",
   "execution_count": null,
   "metadata": {
    "ExecuteTime": {
     "end_time": "2019-09-08T03:12:13.943715Z",
     "start_time": "2019-09-08T03:12:13.887Z"
    }
   },
   "outputs": [],
   "source": [
    "pearson.stat = residuals(pr, type=\"pearson\")^2\n",
    "n = dim(dicentric)[1]\n",
    "p = dim(dicentric)[2]\n",
    "\n",
    "phi.hat = sum(pearson.stat / (n - p))\n",
    "\n",
    "phi.hat"
   ]
  },
  {
   "cell_type": "markdown",
   "metadata": {},
   "source": [
    "There seems to be a very strong sign of overdispersion (12.97), which may decrease the model significance Fstat significantly. Let's take this into account by using a `quasipossion` model."
   ]
  },
  {
   "cell_type": "code",
   "execution_count": 3,
   "metadata": {
    "ExecuteTime": {
     "end_time": "2019-09-08T03:12:14.323760Z",
     "start_time": "2019-09-08T03:12:14.269Z"
    }
   },
   "outputs": [
    {
     "data": {
      "text/plain": [
       "\n",
       "Call:\n",
       "glm(formula = ca ~ offset(log(cells)) + doserate * doseamt, family = quasipoisson, \n",
       "    data = dicentric)\n",
       "\n",
       "Deviance Residuals: \n",
       "    Min       1Q   Median       3Q      Max  \n",
       "-5.7308  -2.2842  -0.6264   3.3487   5.8272  \n",
       "\n",
       "Coefficients:\n",
       "                 Estimate Std. Error t value Pr(>|t|)    \n",
       "(Intercept)      -3.29994    0.22188 -14.873 2.73e-13 ***\n",
       "doserate          0.06401    0.10524   0.608    0.549    \n",
       "doseamt           0.61224    0.06149   9.957 8.29e-10 ***\n",
       "doserate:doseamt  0.02715    0.02755   0.985    0.335    \n",
       "---\n",
       "Signif. codes:  0 '***' 0.001 '**' 0.01 '*' 0.05 '.' 0.1 ' ' 1\n",
       "\n",
       "(Dispersion parameter for quasipoisson family taken to be 12.97228)\n",
       "\n",
       "    Null deviance: 4753.00  on 26  degrees of freedom\n",
       "Residual deviance:  270.26  on 23  degrees of freedom\n",
       "AIC: NA\n",
       "\n",
       "Number of Fisher Scoring iterations: 4\n"
      ]
     },
     "metadata": {},
     "output_type": "display_data"
    }
   ],
   "source": [
    "qpr = glm(ca ~ offset(log(cells)) + doserate*doseamt, data=dicentric, family=quasipoisson)\n",
    "summary(qpr)\n",
    "\n",
    "# Note, since we are using quasipoisson, we cannot use the AIC step. We must use ANOVA to see."
   ]
  },
  {
   "cell_type": "code",
   "execution_count": 4,
   "metadata": {
    "ExecuteTime": {
     "end_time": "2019-09-08T03:12:14.475312Z",
     "start_time": "2019-09-08T03:12:14.429Z"
    }
   },
   "outputs": [
    {
     "data": {
      "text/html": [
       "<table>\n",
       "<thead><tr><th></th><th scope=col>Df</th><th scope=col>Deviance</th><th scope=col>Resid. Df</th><th scope=col>Resid. Dev</th><th scope=col>F</th><th scope=col>Pr(&gt;F)</th></tr></thead>\n",
       "<tbody>\n",
       "\t<tr><th scope=row>NULL</th><td>NA          </td><td>        NA  </td><td>26          </td><td>4753.0040   </td><td>         NA </td><td>          NA</td></tr>\n",
       "\t<tr><th scope=row>doserate</th><td> 1          </td><td> 231.32054  </td><td>25          </td><td>4521.6835   </td><td> 17.8319145 </td><td>3.231570e-04</td></tr>\n",
       "\t<tr><th scope=row>doseamt</th><td> 1          </td><td>4238.73645  </td><td>24          </td><td> 282.9471   </td><td>326.7534607 </td><td>4.330318e-15</td></tr>\n",
       "\t<tr><th scope=row>doserate:doseamt</th><td> 1          </td><td>  12.68767  </td><td>23          </td><td> 270.2594   </td><td>  0.9780603 </td><td>3.329689e-01</td></tr>\n",
       "</tbody>\n",
       "</table>\n"
      ],
      "text/latex": [
       "\\begin{tabular}{r|llllll}\n",
       "  & Df & Deviance & Resid. Df & Resid. Dev & F & Pr(>F)\\\\\n",
       "\\hline\n",
       "\tNULL & NA           &         NA   & 26           & 4753.0040    &          NA  &           NA\\\\\n",
       "\tdoserate &  1           &  231.32054   & 25           & 4521.6835    &  17.8319145  & 3.231570e-04\\\\\n",
       "\tdoseamt &  1           & 4238.73645   & 24           &  282.9471    & 326.7534607  & 4.330318e-15\\\\\n",
       "\tdoserate:doseamt &  1           &   12.68767   & 23           &  270.2594    &   0.9780603  & 3.329689e-01\\\\\n",
       "\\end{tabular}\n"
      ],
      "text/markdown": [
       "\n",
       "| <!--/--> | Df | Deviance | Resid. Df | Resid. Dev | F | Pr(>F) |\n",
       "|---|---|---|---|---|---|---|\n",
       "| NULL | NA           |         NA   | 26           | 4753.0040    |          NA  |           NA |\n",
       "| doserate |  1           |  231.32054   | 25           | 4521.6835    |  17.8319145  | 3.231570e-04 |\n",
       "| doseamt |  1           | 4238.73645   | 24           |  282.9471    | 326.7534607  | 4.330318e-15 |\n",
       "| doserate:doseamt |  1           |   12.68767   | 23           |  270.2594    |   0.9780603  | 3.329689e-01 |\n",
       "\n"
      ],
      "text/plain": [
       "                 Df Deviance   Resid. Df Resid. Dev F           Pr(>F)      \n",
       "NULL             NA         NA 26        4753.0040           NA           NA\n",
       "doserate          1  231.32054 25        4521.6835   17.8319145 3.231570e-04\n",
       "doseamt           1 4238.73645 24         282.9471  326.7534607 4.330318e-15\n",
       "doserate:doseamt  1   12.68767 23         270.2594    0.9780603 3.329689e-01"
      ]
     },
     "metadata": {},
     "output_type": "display_data"
    }
   ],
   "source": [
    "anova(qpr, test=\"F\")"
   ]
  },
  {
   "cell_type": "markdown",
   "metadata": {},
   "source": [
    "We see that the interaction term `doserate:doseamt` is not significant (greater than 0.05). We will remove this for the final model."
   ]
  },
  {
   "cell_type": "code",
   "execution_count": 5,
   "metadata": {
    "ExecuteTime": {
     "end_time": "2019-09-08T03:12:14.836928Z",
     "start_time": "2019-09-08T03:12:14.804Z"
    }
   },
   "outputs": [
    {
     "data": {
      "text/plain": [
       "\n",
       "Call:\n",
       "glm(formula = ca ~ offset(log(cells)) + doserate + doseamt, family = quasipoisson, \n",
       "    data = dicentric)\n",
       "\n",
       "Deviance Residuals: \n",
       "   Min      1Q  Median      3Q     Max  \n",
       "-6.761  -1.696  -0.401   3.286   5.798  \n",
       "\n",
       "Coefficients:\n",
       "            Estimate Std. Error t value Pr(>|t|)    \n",
       "(Intercept) -3.46115    0.15430 -22.432  < 2e-16 ***\n",
       "doserate     0.15501    0.04881   3.176  0.00407 ** \n",
       "doseamt      0.66230    0.03456  19.163 4.72e-16 ***\n",
       "---\n",
       "Signif. codes:  0 '***' 0.001 '**' 0.01 '*' 0.05 '.' 0.1 ' ' 1\n",
       "\n",
       "(Dispersion parameter for quasipoisson family taken to be 12.72344)\n",
       "\n",
       "    Null deviance: 4753.00  on 26  degrees of freedom\n",
       "Residual deviance:  282.95  on 24  degrees of freedom\n",
       "AIC: NA\n",
       "\n",
       "Number of Fisher Scoring iterations: 4\n"
      ]
     },
     "metadata": {},
     "output_type": "display_data"
    }
   ],
   "source": [
    "qpr.final = qpr = glm(ca ~ offset(log(cells)) + doserate + doseamt, data=dicentric, family=quasipoisson)\n",
    "summary(qpr.final)"
   ]
  },
  {
   "cell_type": "markdown",
   "metadata": {},
   "source": [
    "The deviance is still very large, but at least we have ruled out the interaction."
   ]
  },
  {
   "cell_type": "markdown",
   "metadata": {},
   "source": [
    "# Lab 5"
   ]
  },
  {
   "cell_type": "code",
   "execution_count": 26,
   "metadata": {
    "ExecuteTime": {
     "end_time": "2019-09-08T04:39:42.676973Z",
     "start_time": "2019-09-08T04:39:42.629Z"
    }
   },
   "outputs": [],
   "source": [
    "library(faraway)\n",
    "data(hsb)\n",
    "library(nnet) # this is the library for multinomial models"
   ]
  },
  {
   "cell_type": "code",
   "execution_count": 27,
   "metadata": {
    "ExecuteTime": {
     "end_time": "2019-09-08T04:39:43.380032Z",
     "start_time": "2019-09-08T04:39:43.096Z"
    }
   },
   "outputs": [
    {
     "data": {
      "text/plain": [
       "Call:\n",
       "multinom(formula = prog ~ ., data = hsb[-1], trace = FALSE)\n",
       "\n",
       "Coefficients:\n",
       "         (Intercept)  gendermale raceasian racehispanic racewhite     seslow\n",
       "general     3.631901 -0.09264717  1.352739   -0.6322019 0.2965156 1.09864111\n",
       "vocation    7.481381 -0.32104341 -0.700070   -0.1993556 0.3358881 0.04747323\n",
       "         sesmiddle schtyppublic        read       write       math    science\n",
       "general  0.7029621    0.5845405 -0.04418353 -0.03627381 -0.1092888 0.10193746\n",
       "vocation 1.1815808    2.0553336 -0.03481202 -0.03166001 -0.1139877 0.05229938\n",
       "               socst\n",
       "general  -0.01976995\n",
       "vocation -0.08040129\n",
       "\n",
       "Std. Errors:\n",
       "         (Intercept) gendermale raceasian racehispanic racewhite    seslow\n",
       "general     1.823452  0.4548778  1.058754    0.8935504 0.7354829 0.6066763\n",
       "vocation    2.104698  0.5021132  1.470176    0.8393676 0.7480573 0.7045772\n",
       "         sesmiddle schtyppublic       read      write       math    science\n",
       "general  0.5045938    0.5642925 0.03103707 0.03381324 0.03522441 0.03274038\n",
       "vocation 0.5700833    0.8348229 0.03422409 0.03585729 0.03885131 0.03424763\n",
       "              socst\n",
       "general  0.02712589\n",
       "vocation 0.02938212\n",
       "\n",
       "Residual Deviance: 305.8705 \n",
       "AIC: 357.8705 "
      ]
     },
     "metadata": {},
     "output_type": "display_data"
    }
   ],
   "source": [
    "mm = multinom(prog ~ ., hsb[-1], trace = FALSE) # prog wrt all attributes except ID\n",
    "summary(mm)"
   ]
  },
  {
   "cell_type": "code",
   "execution_count": 28,
   "metadata": {
    "ExecuteTime": {
     "end_time": "2019-09-08T04:39:43.959352Z",
     "start_time": "2019-09-08T04:39:43.625Z"
    },
    "scrolled": false
   },
   "outputs": [
    {
     "name": "stdout",
     "output_type": "stream",
     "text": [
      "trying - gender \n",
      "trying - race \n",
      "trying - ses \n",
      "trying - schtyp \n",
      "trying - read \n",
      "trying - write \n",
      "trying - math \n",
      "trying - science \n",
      "trying - socst \n",
      "trying - gender \n",
      "trying - ses \n",
      "trying - schtyp \n",
      "trying - read \n",
      "trying - write \n",
      "trying - math \n",
      "trying - science \n",
      "trying - socst \n",
      "trying - ses \n",
      "trying - schtyp \n",
      "trying - read \n",
      "trying - write \n",
      "trying - math \n",
      "trying - science \n",
      "trying - socst \n",
      "trying - ses \n",
      "trying - schtyp \n",
      "trying - read \n",
      "trying - math \n",
      "trying - science \n",
      "trying - socst \n",
      "trying - ses \n",
      "trying - schtyp \n",
      "trying - math \n",
      "trying - science \n",
      "trying - socst \n"
     ]
    }
   ],
   "source": [
    "final_mm = step(mm, trace=FALSE)"
   ]
  },
  {
   "cell_type": "code",
   "execution_count": 9,
   "metadata": {
    "ExecuteTime": {
     "end_time": "2019-09-08T03:12:16.155962Z",
     "start_time": "2019-09-08T03:12:15.930Z"
    }
   },
   "outputs": [
    {
     "data": {
      "text/plain": [
       "Call:\n",
       "multinom(formula = prog ~ ses + schtyp + math + science + socst, \n",
       "    data = hsb[-1], trace = FALSE)\n",
       "\n",
       "Coefficients:\n",
       "         (Intercept)      seslow sesmiddle schtyppublic       math    science\n",
       "general     2.587029  0.87607389 0.6978995    0.6468812 -0.1212242 0.08209791\n",
       "vocation    6.687272 -0.01569301 1.2065000    1.9955504 -0.1369641 0.03941237\n",
       "               socst\n",
       "general  -0.04441228\n",
       "vocation -0.09363417\n",
       "\n",
       "Std. Errors:\n",
       "         (Intercept)    seslow sesmiddle schtyppublic       math    science\n",
       "general     1.686492 0.5758781 0.4930330     0.545598 0.03213345 0.02787694\n",
       "vocation    1.945363 0.6690861 0.5571202     0.812881 0.03591701 0.02864929\n",
       "              socst\n",
       "general  0.02344856\n",
       "vocation 0.02586717\n",
       "\n",
       "Residual Deviance: 315.5511 \n",
       "AIC: 343.5511 "
      ]
     },
     "metadata": {},
     "output_type": "display_data"
    }
   ],
   "source": [
    "summary(final_mm)"
   ]
  },
  {
   "cell_type": "markdown",
   "metadata": {},
   "source": [
    "- Students from high socioeconomic classes will choose general high school programs\n",
    "- Med socioeconomic classes will choose vocational programs\n",
    "- Low socioeconomic classes do not show any interest\n",
    "- Public school students are more likely to choose general programs and vocational programs compared to Private school students\n",
    "- High results in maths and social sciences is highly correlated with academic programs, whilst high results in science yields a lower chance"
   ]
  },
  {
   "cell_type": "code",
   "execution_count": 10,
   "metadata": {
    "ExecuteTime": {
     "end_time": "2019-09-08T03:12:16.339094Z",
     "start_time": "2019-09-08T03:12:16.299Z"
    }
   },
   "outputs": [
    {
     "data": {
      "text/html": [
       "<table>\n",
       "<thead><tr><th></th><th scope=col>id</th><th scope=col>gender</th><th scope=col>race</th><th scope=col>ses</th><th scope=col>schtyp</th><th scope=col>prog</th><th scope=col>read</th><th scope=col>write</th><th scope=col>math</th><th scope=col>science</th><th scope=col>socst</th></tr></thead>\n",
       "<tbody>\n",
       "\t<tr><th scope=row>102</th><td>99     </td><td>female </td><td>white  </td><td>high   </td><td>public </td><td>general</td><td>47     </td><td>59     </td><td>56     </td><td>66     </td><td>61     </td></tr>\n",
       "</tbody>\n",
       "</table>\n"
      ],
      "text/latex": [
       "\\begin{tabular}{r|lllllllllll}\n",
       "  & id & gender & race & ses & schtyp & prog & read & write & math & science & socst\\\\\n",
       "\\hline\n",
       "\t102 & 99      & female  & white   & high    & public  & general & 47      & 59      & 56      & 66      & 61     \\\\\n",
       "\\end{tabular}\n"
      ],
      "text/markdown": [
       "\n",
       "| <!--/--> | id | gender | race | ses | schtyp | prog | read | write | math | science | socst |\n",
       "|---|---|---|---|---|---|---|---|---|---|---|---|\n",
       "| 102 | 99      | female  | white   | high    | public  | general | 47      | 59      | 56      | 66      | 61      |\n",
       "\n"
      ],
      "text/plain": [
       "    id gender race  ses  schtyp prog    read write math science socst\n",
       "102 99 female white high public general 47   59    56   66      61   "
      ]
     },
     "metadata": {},
     "output_type": "display_data"
    }
   ],
   "source": [
    "t = hsb[hsb$id == 99,]\n",
    "t"
   ]
  },
  {
   "cell_type": "code",
   "execution_count": 11,
   "metadata": {
    "ExecuteTime": {
     "end_time": "2019-09-08T03:12:16.521211Z",
     "start_time": "2019-09-08T03:12:16.453Z"
    }
   },
   "outputs": [
    {
     "data": {
      "text/html": [
       "<dl class=dl-horizontal>\n",
       "\t<dt>academic</dt>\n",
       "\t\t<dd>0.644263087774945</dd>\n",
       "\t<dt>general</dt>\n",
       "\t\t<dd>0.276656088073914</dd>\n",
       "\t<dt>vocation</dt>\n",
       "\t\t<dd>0.079080824151142</dd>\n",
       "</dl>\n"
      ],
      "text/latex": [
       "\\begin{description*}\n",
       "\\item[academic] 0.644263087774945\n",
       "\\item[general] 0.276656088073914\n",
       "\\item[vocation] 0.079080824151142\n",
       "\\end{description*}\n"
      ],
      "text/markdown": [
       "academic\n",
       ":   0.644263087774945general\n",
       ":   0.276656088073914vocation\n",
       ":   0.079080824151142\n",
       "\n"
      ],
      "text/plain": [
       "  academic    general   vocation \n",
       "0.64426309 0.27665609 0.07908082 "
      ]
     },
     "metadata": {},
     "output_type": "display_data"
    }
   ],
   "source": [
    "predict(final_mm, newdata=t , type=\"probs\")"
   ]
  },
  {
   "cell_type": "markdown",
   "metadata": {},
   "source": [
    "ID 99 will most likely enroll into an academic program ($p = 0.64$), and not likely to enroll into a general or vocational program."
   ]
  },
  {
   "cell_type": "markdown",
   "metadata": {},
   "source": [
    "predicting the frequency of the three outcomes in terms of\n",
    "length of service and use it to predict the outcome for a miner with 25 years of service"
   ]
  },
  {
   "cell_type": "code",
   "execution_count": 12,
   "metadata": {
    "ExecuteTime": {
     "end_time": "2019-09-08T03:12:17.054170Z",
     "start_time": "2019-09-08T03:12:17.022Z"
    }
   },
   "outputs": [],
   "source": [
    "data(pneumo)"
   ]
  },
  {
   "cell_type": "code",
   "execution_count": 13,
   "metadata": {
    "ExecuteTime": {
     "end_time": "2019-09-08T03:12:17.237959Z",
     "start_time": "2019-09-08T03:12:17.190Z"
    }
   },
   "outputs": [
    {
     "data": {
      "text/html": [
       "<table>\n",
       "<thead><tr><th scope=col>Freq</th><th scope=col>status</th><th scope=col>year</th></tr></thead>\n",
       "<tbody>\n",
       "\t<tr><td>98    </td><td>normal</td><td> 5.8  </td></tr>\n",
       "\t<tr><td>51    </td><td>normal</td><td>15.0  </td></tr>\n",
       "\t<tr><td>34    </td><td>normal</td><td>21.5  </td></tr>\n",
       "\t<tr><td>35    </td><td>normal</td><td>27.5  </td></tr>\n",
       "\t<tr><td>32    </td><td>normal</td><td>33.5  </td></tr>\n",
       "\t<tr><td>23    </td><td>normal</td><td>39.5  </td></tr>\n",
       "\t<tr><td>12    </td><td>normal</td><td>46.0  </td></tr>\n",
       "\t<tr><td> 4    </td><td>normal</td><td>51.5  </td></tr>\n",
       "\t<tr><td> 0    </td><td>mild  </td><td> 5.8  </td></tr>\n",
       "\t<tr><td> 2    </td><td>mild  </td><td>15.0  </td></tr>\n",
       "\t<tr><td> 6    </td><td>mild  </td><td>21.5  </td></tr>\n",
       "\t<tr><td> 5    </td><td>mild  </td><td>27.5  </td></tr>\n",
       "\t<tr><td>10    </td><td>mild  </td><td>33.5  </td></tr>\n",
       "\t<tr><td> 7    </td><td>mild  </td><td>39.5  </td></tr>\n",
       "\t<tr><td> 6    </td><td>mild  </td><td>46.0  </td></tr>\n",
       "\t<tr><td> 2    </td><td>mild  </td><td>51.5  </td></tr>\n",
       "\t<tr><td> 0    </td><td>severe</td><td> 5.8  </td></tr>\n",
       "\t<tr><td> 1    </td><td>severe</td><td>15.0  </td></tr>\n",
       "\t<tr><td> 3    </td><td>severe</td><td>21.5  </td></tr>\n",
       "\t<tr><td> 8    </td><td>severe</td><td>27.5  </td></tr>\n",
       "\t<tr><td> 9    </td><td>severe</td><td>33.5  </td></tr>\n",
       "\t<tr><td> 8    </td><td>severe</td><td>39.5  </td></tr>\n",
       "\t<tr><td>10    </td><td>severe</td><td>46.0  </td></tr>\n",
       "\t<tr><td> 5    </td><td>severe</td><td>51.5  </td></tr>\n",
       "</tbody>\n",
       "</table>\n"
      ],
      "text/latex": [
       "\\begin{tabular}{r|lll}\n",
       " Freq & status & year\\\\\n",
       "\\hline\n",
       "\t 98     & normal &  5.8  \\\\\n",
       "\t 51     & normal & 15.0  \\\\\n",
       "\t 34     & normal & 21.5  \\\\\n",
       "\t 35     & normal & 27.5  \\\\\n",
       "\t 32     & normal & 33.5  \\\\\n",
       "\t 23     & normal & 39.5  \\\\\n",
       "\t 12     & normal & 46.0  \\\\\n",
       "\t  4     & normal & 51.5  \\\\\n",
       "\t  0     & mild   &  5.8  \\\\\n",
       "\t  2     & mild   & 15.0  \\\\\n",
       "\t  6     & mild   & 21.5  \\\\\n",
       "\t  5     & mild   & 27.5  \\\\\n",
       "\t 10     & mild   & 33.5  \\\\\n",
       "\t  7     & mild   & 39.5  \\\\\n",
       "\t  6     & mild   & 46.0  \\\\\n",
       "\t  2     & mild   & 51.5  \\\\\n",
       "\t  0     & severe &  5.8  \\\\\n",
       "\t  1     & severe & 15.0  \\\\\n",
       "\t  3     & severe & 21.5  \\\\\n",
       "\t  8     & severe & 27.5  \\\\\n",
       "\t  9     & severe & 33.5  \\\\\n",
       "\t  8     & severe & 39.5  \\\\\n",
       "\t 10     & severe & 46.0  \\\\\n",
       "\t  5     & severe & 51.5  \\\\\n",
       "\\end{tabular}\n"
      ],
      "text/markdown": [
       "\n",
       "| Freq | status | year |\n",
       "|---|---|---|\n",
       "| 98     | normal |  5.8   |\n",
       "| 51     | normal | 15.0   |\n",
       "| 34     | normal | 21.5   |\n",
       "| 35     | normal | 27.5   |\n",
       "| 32     | normal | 33.5   |\n",
       "| 23     | normal | 39.5   |\n",
       "| 12     | normal | 46.0   |\n",
       "|  4     | normal | 51.5   |\n",
       "|  0     | mild   |  5.8   |\n",
       "|  2     | mild   | 15.0   |\n",
       "|  6     | mild   | 21.5   |\n",
       "|  5     | mild   | 27.5   |\n",
       "| 10     | mild   | 33.5   |\n",
       "|  7     | mild   | 39.5   |\n",
       "|  6     | mild   | 46.0   |\n",
       "|  2     | mild   | 51.5   |\n",
       "|  0     | severe |  5.8   |\n",
       "|  1     | severe | 15.0   |\n",
       "|  3     | severe | 21.5   |\n",
       "|  8     | severe | 27.5   |\n",
       "|  9     | severe | 33.5   |\n",
       "|  8     | severe | 39.5   |\n",
       "| 10     | severe | 46.0   |\n",
       "|  5     | severe | 51.5   |\n",
       "\n"
      ],
      "text/plain": [
       "   Freq status year\n",
       "1  98   normal  5.8\n",
       "2  51   normal 15.0\n",
       "3  34   normal 21.5\n",
       "4  35   normal 27.5\n",
       "5  32   normal 33.5\n",
       "6  23   normal 39.5\n",
       "7  12   normal 46.0\n",
       "8   4   normal 51.5\n",
       "9   0   mild    5.8\n",
       "10  2   mild   15.0\n",
       "11  6   mild   21.5\n",
       "12  5   mild   27.5\n",
       "13 10   mild   33.5\n",
       "14  7   mild   39.5\n",
       "15  6   mild   46.0\n",
       "16  2   mild   51.5\n",
       "17  0   severe  5.8\n",
       "18  1   severe 15.0\n",
       "19  3   severe 21.5\n",
       "20  8   severe 27.5\n",
       "21  9   severe 33.5\n",
       "22  8   severe 39.5\n",
       "23 10   severe 46.0\n",
       "24  5   severe 51.5"
      ]
     },
     "metadata": {},
     "output_type": "display_data"
    }
   ],
   "source": [
    "pneumo"
   ]
  },
  {
   "cell_type": "code",
   "execution_count": null,
   "metadata": {},
   "outputs": [],
   "source": []
  },
  {
   "cell_type": "code",
   "execution_count": null,
   "metadata": {},
   "outputs": [],
   "source": []
  },
  {
   "cell_type": "code",
   "execution_count": null,
   "metadata": {},
   "outputs": [],
   "source": []
  },
  {
   "cell_type": "code",
   "execution_count": null,
   "metadata": {},
   "outputs": [],
   "source": []
  },
  {
   "cell_type": "code",
   "execution_count": null,
   "metadata": {},
   "outputs": [],
   "source": []
  },
  {
   "cell_type": "code",
   "execution_count": null,
   "metadata": {},
   "outputs": [],
   "source": []
  },
  {
   "cell_type": "code",
   "execution_count": null,
   "metadata": {},
   "outputs": [],
   "source": []
  },
  {
   "cell_type": "code",
   "execution_count": null,
   "metadata": {},
   "outputs": [],
   "source": []
  },
  {
   "cell_type": "code",
   "execution_count": null,
   "metadata": {},
   "outputs": [],
   "source": []
  },
  {
   "cell_type": "code",
   "execution_count": null,
   "metadata": {},
   "outputs": [],
   "source": []
  },
  {
   "cell_type": "code",
   "execution_count": null,
   "metadata": {},
   "outputs": [],
   "source": []
  },
  {
   "cell_type": "code",
   "execution_count": null,
   "metadata": {},
   "outputs": [],
   "source": []
  },
  {
   "cell_type": "code",
   "execution_count": null,
   "metadata": {},
   "outputs": [],
   "source": []
  },
  {
   "cell_type": "code",
   "execution_count": null,
   "metadata": {},
   "outputs": [],
   "source": []
  },
  {
   "cell_type": "code",
   "execution_count": null,
   "metadata": {},
   "outputs": [],
   "source": []
  },
  {
   "cell_type": "code",
   "execution_count": null,
   "metadata": {},
   "outputs": [],
   "source": []
  },
  {
   "cell_type": "code",
   "execution_count": null,
   "metadata": {},
   "outputs": [],
   "source": []
  },
  {
   "cell_type": "code",
   "execution_count": null,
   "metadata": {},
   "outputs": [],
   "source": []
  },
  {
   "cell_type": "code",
   "execution_count": null,
   "metadata": {},
   "outputs": [],
   "source": []
  },
  {
   "cell_type": "code",
   "execution_count": null,
   "metadata": {},
   "outputs": [],
   "source": []
  },
  {
   "cell_type": "code",
   "execution_count": null,
   "metadata": {},
   "outputs": [],
   "source": []
  },
  {
   "cell_type": "code",
   "execution_count": null,
   "metadata": {},
   "outputs": [],
   "source": []
  },
  {
   "cell_type": "code",
   "execution_count": null,
   "metadata": {},
   "outputs": [],
   "source": []
  },
  {
   "cell_type": "code",
   "execution_count": null,
   "metadata": {},
   "outputs": [],
   "source": []
  },
  {
   "cell_type": "code",
   "execution_count": null,
   "metadata": {},
   "outputs": [],
   "source": []
  },
  {
   "cell_type": "code",
   "execution_count": null,
   "metadata": {},
   "outputs": [],
   "source": []
  }
 ],
 "metadata": {
  "kernelspec": {
   "display_name": "R",
   "language": "R",
   "name": "ir"
  },
  "language_info": {
   "codemirror_mode": "r",
   "file_extension": ".r",
   "mimetype": "text/x-r-source",
   "name": "R",
   "pygments_lexer": "r",
   "version": "3.6.1"
  },
  "latex_envs": {
   "LaTeX_envs_menu_present": true,
   "autoclose": true,
   "autocomplete": true,
   "bibliofile": "biblio.bib",
   "cite_by": "apalike",
   "current_citInitial": 1,
   "eqLabelWithNumbers": true,
   "eqNumInitial": 1,
   "hotkeys": {
    "equation": "Ctrl-E",
    "itemize": "Ctrl-I"
   },
   "labels_anchors": false,
   "latex_user_defs": false,
   "report_style_numbering": false,
   "user_envs_cfg": false
  }
 },
 "nbformat": 4,
 "nbformat_minor": 2
}
