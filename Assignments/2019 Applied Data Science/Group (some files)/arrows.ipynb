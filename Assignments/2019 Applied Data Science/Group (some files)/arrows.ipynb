{
 "cells": [
  {
   "cell_type": "markdown",
   "metadata": {},
   "source": [
    "- We want to plot arrow destinations between each timeframe depending on the start shift. "
   ]
  },
  {
   "cell_type": "code",
   "execution_count": 1,
   "metadata": {
    "ExecuteTime": {
     "end_time": "2019-10-15T03:55:33.419921Z",
     "start_time": "2019-10-15T03:55:30.845704Z"
    }
   },
   "outputs": [
    {
     "data": {
      "text/plain": [
       "'\\nThe length of dest, avail and reward is 720, which corresponds to the maximum shift time possible (720 minutes / 12 hours).\\n-> These correspond to the time frame between each state at 1 minute intervals (columns of matrix).\\n\\nThen, for each time frame there are 3508 possible cells to be in (rows of matrix)\\n'"
      ]
     },
     "execution_count": 1,
     "metadata": {},
     "output_type": "execute_result"
    }
   ],
   "source": [
    "%run ./Utility/akira.py\n",
    "\n",
    "import pickle as pkl\n",
    "import folium as f\n",
    "import json\n",
    "from pathlib import Path\n",
    "\n",
    "PATH = './provided_files/Players/Markov'\n",
    "X, Y = 87, 141\n",
    "\n",
    "# to change later\n",
    "INIT = \"outputs_start8010_res30.pkl\"\n",
    "\n",
    "with open(f'{PATH}/{INIT}', 'rb') as fp:\n",
    "    d = pkl.load(fp)\n",
    "    \n",
    "dest = d[0]\n",
    "# del d\n",
    "\"\"\"\n",
    "The length of dest, avail and reward is 720, which corresponds to the maximum shift time possible (720 minutes / 12 hours).\n",
    "-> These correspond to the time frame between each state at 1 minute intervals (columns of matrix).\n",
    "\n",
    "Then, for each time frame there are 3508 possible cells to be in (rows of matrix)\n",
    "\"\"\""
   ]
  },
  {
   "cell_type": "code",
   "execution_count": 2,
   "metadata": {
    "ExecuteTime": {
     "end_time": "2019-10-15T03:55:33.488821Z",
     "start_time": "2019-10-15T03:55:33.422912Z"
    }
   },
   "outputs": [],
   "source": [
    "board_df_file = Path(\"./data/shapefiles/game_board_2019.csv\")\n",
    "\n",
    "if not board_df_file.exists():\n",
    "    # Create a csv for board\n",
    "    if not board_df_file.parent.exists():\n",
    "        board_df_file.parent.mkdir()\n",
    "    with open(os.path.join(\".\", \"provided_files\", \"shapefiles\", \"game_board_2019.geojson\")) as fp:\n",
    "        board = json.load(fp)\n",
    "\n",
    "    board_df = pd.DataFrame(columns=(\"id\", \"coordinates\", \"neighbours\"))\n",
    "    for cell in board['features']:\n",
    "        coordinates = np.array(cell['geometry']['coordinates'][0]).reshape(-1, 2).T\n",
    "        cell_dict = dict(\n",
    "            id = cell['properties']['id'],\n",
    "            coordinates = coordinates,\n",
    "            neighbours = cell['properties']['neighbours'],\n",
    "            longitude_mean = np.mean(coordinates[0]),\n",
    "            latitude_mean = np.mean(coordinates[1]),\n",
    "        )\n",
    "        board_df = board_df.append(cell_dict, ignore_index=True)\n",
    "    board_df.set_index(\"id\", inplace=True)\n",
    "    board_df.to_csv(board_df_file)\n",
    "else:\n",
    "    board_df = pd.read_csv(board_df_file, index_col=0)\n",
    "\n",
    "# clean up column names and generate dictionary to map idx to coordinates\n",
    "board_df = board_df.reset_index()[['id','latitude_mean','longitude_mean']].rename({'latitude_mean': 'lat', 'longitude_mean': 'long'}, axis=1)\n",
    "board_df['coord'] = list(zip(board_df['lat'],board_df['long']))\n",
    "board_df.drop(['lat','long'], axis=1, inplace=True)\n",
    "\n",
    "MAP = dict(zip(board_df['id'], board_df['coord']))\n",
    "\n",
    "del board_df"
   ]
  },
  {
   "cell_type": "code",
   "execution_count": 3,
   "metadata": {
    "ExecuteTime": {
     "end_time": "2019-10-15T03:55:33.503776Z",
     "start_time": "2019-10-15T03:55:33.491806Z"
    }
   },
   "outputs": [],
   "source": [
    "def idx2int(t):\n",
    "    return t[0] * 141 + t[1]\n",
    "\n",
    "def int2idx(i):\n",
    "    global Y\n",
    "    return f\"{i//Y}:{i%Y}\"\n",
    "    \n",
    "def idx2coord(idx):\n",
    "    global MAP\n",
    "    return MAP[idx]\n",
    "\n",
    "def convert(digit):\n",
    "    global MAP\n",
    "    return idx2coord(int2idx(digit))\n",
    "\n",
    "def adjust(coord, gap=0.4):\n",
    "    coord = np.array(coord)\n",
    "    return tuple(coord[0]), tuple(coord[1] - gap * (coord[1] - coord[0]))"
   ]
  },
  {
   "cell_type": "code",
   "execution_count": 4,
   "metadata": {
    "ExecuteTime": {
     "end_time": "2019-10-15T03:55:38.955824Z",
     "start_time": "2019-10-15T03:55:33.508760Z"
    }
   },
   "outputs": [],
   "source": [
    "# (lat, long) for every destination if it is in a Manhattan cell\n",
    "idx = {convert(i[0]): convert(i[1]) for i in dest[600].items()} # if i[0] in [idx2int(j) for j in M]}\n",
    "\n",
    "def r(p1, p2):\n",
    "    long_diff = np.radians(p2[1] - p1[1])\n",
    "    \n",
    "    lat1 = np.radians(p1[0])\n",
    "    lat2 = np.radians(p2[0])\n",
    "    \n",
    "    x = np.sin(long_diff) * np.cos(lat2)\n",
    "    y = (np.cos(lat1) * np.sin(lat2) \n",
    "        - (np.sin(lat1) * np.cos(lat2) \n",
    "        * np.cos(long_diff)))\n",
    "    rotate = np.degrees(np.arctan2(x, y))\n",
    "    if rotate < 0:\n",
    "        return rotate + 360\n",
    "    return rotate\n",
    "\n",
    "m = f.Map(location=[40.783435, -73.96625], tiles=\"Stamen Terrain\", zoom_start=11)\n",
    "\n",
    "for coord in idx.items():\n",
    "    if coord[0] == coord[1]:\n",
    "        continue # no need to draw cell that corresponds to say\n",
    "    coord = adjust(coord)\n",
    "    f.PolyLine(locations=coord, weight=1, color = 'black').add_to(m)\n",
    "    \n",
    "    f.RegularPolygonMarker(location=coord[1], \n",
    "                          fill_color='black', number_of_sides=3, \n",
    "                          radius=3, rotation=r(coord[0], coord[1]) - 90, \n",
    "                           weight=0, fill=True, fill_opacity=1).add_to(m)\n",
    "\n",
    "m.save(\"arrowmaps/sat600.html\")"
   ]
  },
  {
   "cell_type": "code",
   "execution_count": 5,
   "metadata": {
    "ExecuteTime": {
     "end_time": "2019-10-15T03:55:38.969291Z",
     "start_time": "2019-10-15T03:55:38.957808Z"
    }
   },
   "outputs": [],
   "source": [
    "with open('provided_files/Players/Greedy/refinedManhattan.pickle', 'rb') as handle:\n",
    "    M = pkl.load(handle)\n",
    "\n",
    "with open('provided_files/Players/Greedy/refinedJFK.pickle', 'rb') as handle:\n",
    "    J = pkl.load(handle)\n",
    "\n",
    "with open('provided_files/Players/Greedy/refinedLaguardia.pickle', 'rb') as handle:\n",
    "    L = pkl.load(handle)"
   ]
  },
  {
   "cell_type": "code",
   "execution_count": 6,
   "metadata": {
    "ExecuteTime": {
     "end_time": "2019-10-15T03:55:39.188711Z",
     "start_time": "2019-10-15T03:55:38.978267Z"
    }
   },
   "outputs": [],
   "source": [
    "with open(os.path.join(\".\", \"provided_files\", \"shapefiles\", \"game_board_2019.geojson\")) as fp:\n",
    "    board = json.load(fp)\n",
    "idToX = {}\n",
    "idToY = {}\n",
    "nbs = {}\n",
    "for cell in board['features']:\n",
    "    cellID = cell['properties']['id']\n",
    "    cellTuple = tuple(map(int, cellID.split(':')))\n",
    "    idToX[cellID], idToY[cellID] = cellTuple\n",
    "    nbs[cellTuple] = [tuple(map(int, nb.split(':'))) for nb in cell['properties']['neighbours']]"
   ]
  },
  {
   "cell_type": "code",
   "execution_count": 7,
   "metadata": {
    "ExecuteTime": {
     "end_time": "2019-10-15T03:55:39.201670Z",
     "start_time": "2019-10-15T03:55:39.191698Z"
    }
   },
   "outputs": [],
   "source": [
    "cell = list(nbs.keys())[0]"
   ]
  },
  {
   "cell_type": "code",
   "execution_count": 8,
   "metadata": {
    "ExecuteTime": {
     "end_time": "2019-10-15T03:55:39.327334Z",
     "start_time": "2019-10-15T03:55:39.207654Z"
    }
   },
   "outputs": [],
   "source": [
    "greedy_dest = {}\n",
    "for c in nbs:\n",
    "    best = []\n",
    "    for cell in nbs[c]:\n",
    "        lowest_dist = (cell, min(M[cell], J[cell], L[cell]))\n",
    "        best.append(lowest_dist)\n",
    "    best = sorted(best, key=lambda x: x[1])[0][0]\n",
    "    greedy_dest[f'{c[0]}:{c[1]}'] = f'{best[0]}:{best[1]}'"
   ]
  },
  {
   "cell_type": "code",
   "execution_count": 9,
   "metadata": {
    "ExecuteTime": {
     "end_time": "2019-10-15T03:55:44.994830Z",
     "start_time": "2019-10-15T03:55:39.331323Z"
    }
   },
   "outputs": [],
   "source": [
    "# (lat, long) for every destination if it is in a Manhattan cell\n",
    "idx = {idx2coord(i[0]): idx2coord(i[1]) for i in greedy_dest.items()}\n",
    "\n",
    "def r(p1, p2):\n",
    "    long_diff = np.radians(p2[1] - p1[1])\n",
    "    \n",
    "    lat1 = np.radians(p1[0])\n",
    "    lat2 = np.radians(p2[0])\n",
    "    \n",
    "    x = np.sin(long_diff) * np.cos(lat2)\n",
    "    y = (np.cos(lat1) * np.sin(lat2) \n",
    "        - (np.sin(lat1) * np.cos(lat2) \n",
    "        * np.cos(long_diff)))\n",
    "    rotate = np.degrees(np.arctan2(x, y))\n",
    "    if rotate < 0:\n",
    "        return rotate + 360\n",
    "    return rotate\n",
    "\n",
    "m = f.Map(location=[40.783435, -73.96625], tiles=\"Stamen Terrain\", zoom_start=11)\n",
    "\n",
    "for coord in idx.items():\n",
    "    if coord[0] == coord[1]:\n",
    "        continue # no need to draw cell that corresponds to say\n",
    "    coord = adjust(coord)\n",
    "    f.PolyLine(locations=coord, weight=1, color = 'black').add_to(m)\n",
    "    \n",
    "    f.RegularPolygonMarker(location=coord[1], \n",
    "                          fill_color='black', number_of_sides=3, \n",
    "                          radius=3, rotation=r(coord[0], coord[1]) - 90, \n",
    "                           weight=0, fill=True, fill_opacity=1).add_to(m)\n",
    "\n",
    "m.save(\"arrowmaps/greedy.html\")"
   ]
  },
  {
   "cell_type": "code",
   "execution_count": null,
   "metadata": {},
   "outputs": [],
   "source": []
  }
 ],
 "metadata": {
  "kernelspec": {
   "display_name": "Python 3",
   "language": "python",
   "name": "python3"
  },
  "language_info": {
   "codemirror_mode": {
    "name": "ipython",
    "version": 3
   },
   "file_extension": ".py",
   "mimetype": "text/x-python",
   "name": "python",
   "nbconvert_exporter": "python",
   "pygments_lexer": "ipython3",
   "version": "3.7.4"
  },
  "latex_envs": {
   "LaTeX_envs_menu_present": true,
   "autoclose": true,
   "autocomplete": true,
   "bibliofile": "biblio.bib",
   "cite_by": "apalike",
   "current_citInitial": 1,
   "eqLabelWithNumbers": true,
   "eqNumInitial": 1,
   "hotkeys": {
    "equation": "Ctrl-E",
    "itemize": "Ctrl-I"
   },
   "labels_anchors": false,
   "latex_user_defs": false,
   "report_style_numbering": false,
   "user_envs_cfg": false
  }
 },
 "nbformat": 4,
 "nbformat_minor": 4
}
