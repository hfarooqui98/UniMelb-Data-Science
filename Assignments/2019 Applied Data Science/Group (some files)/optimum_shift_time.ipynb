{
 "cells": [
  {
   "cell_type": "markdown",
   "metadata": {
    "toc": true
   },
   "source": [
    "<h1>Table of Contents<span class=\"tocSkip\"></span></h1>\n",
    "<div class=\"toc\"><ul class=\"toc-item\"></ul></div>"
   ]
  },
  {
   "cell_type": "markdown",
   "metadata": {},
   "source": [
    "# Drop two unneeded columns"
   ]
  },
  {
   "cell_type": "code",
   "execution_count": 1,
   "metadata": {
    "ExecuteTime": {
     "end_time": "2019-10-03T13:04:31.299239Z",
     "start_time": "2019-10-03T13:04:30.963031Z"
    }
   },
   "outputs": [],
   "source": [
    "import pandas as pd\n",
    "import numpy as np\n",
    "# from tqdm.auto import tqdm"
   ]
  },
  {
   "cell_type": "code",
   "execution_count": 2,
   "metadata": {
    "ExecuteTime": {
     "end_time": "2019-10-03T13:04:31.303144Z",
     "start_time": "2019-10-03T13:04:31.300127Z"
    }
   },
   "outputs": [],
   "source": [
    "# tqdm.pandas(desc='df apply')"
   ]
  },
  {
   "cell_type": "code",
   "execution_count": 3,
   "metadata": {
    "ExecuteTime": {
     "end_time": "2019-10-03T13:04:31.309103Z",
     "start_time": "2019-10-03T13:04:31.304117Z"
    }
   },
   "outputs": [],
   "source": [
    "DROP_FLAG = False\n",
    "if DROP_FLAG:\n",
    "    data = pd.read_feather('data/all_raw.feather')\n",
    "    data.drop(['level_0', 'index'], axis=1, inplace=True)"
   ]
  },
  {
   "cell_type": "code",
   "execution_count": null,
   "metadata": {},
   "outputs": [],
   "source": []
  },
  {
   "cell_type": "code",
   "execution_count": 4,
   "metadata": {
    "ExecuteTime": {
     "end_time": "2019-10-03T13:04:41.949772Z",
     "start_time": "2019-10-03T13:04:31.310101Z"
    }
   },
   "outputs": [],
   "source": [
    "data = pd.read_feather('data/all.feather')"
   ]
  },
  {
   "cell_type": "code",
   "execution_count": 5,
   "metadata": {
    "ExecuteTime": {
     "end_time": "2019-10-03T13:04:41.972711Z",
     "start_time": "2019-10-03T13:04:41.950769Z"
    },
    "scrolled": true
   },
   "outputs": [
    {
     "data": {
      "text/html": [
       "<div>\n",
       "<style scoped>\n",
       "    .dataframe tbody tr th:only-of-type {\n",
       "        vertical-align: middle;\n",
       "    }\n",
       "\n",
       "    .dataframe tbody tr th {\n",
       "        vertical-align: top;\n",
       "    }\n",
       "\n",
       "    .dataframe thead th {\n",
       "        text-align: right;\n",
       "    }\n",
       "</style>\n",
       "<table border=\"1\" class=\"dataframe\">\n",
       "  <thead>\n",
       "    <tr style=\"text-align: right;\">\n",
       "      <th></th>\n",
       "      <th>doy</th>\n",
       "      <th>dropoffX</th>\n",
       "      <th>dropoffY</th>\n",
       "      <th>duration</th>\n",
       "      <th>fare_amount</th>\n",
       "      <th>mow</th>\n",
       "      <th>payment_type</th>\n",
       "      <th>pickupX</th>\n",
       "      <th>pickupY</th>\n",
       "      <th>tip_amount</th>\n",
       "      <th>woy</th>\n",
       "      <th>year</th>\n",
       "    </tr>\n",
       "  </thead>\n",
       "  <tbody>\n",
       "    <tr>\n",
       "      <td>0</td>\n",
       "      <td>182</td>\n",
       "      <td>36</td>\n",
       "      <td>57</td>\n",
       "      <td>17.0</td>\n",
       "      <td>15.5</td>\n",
       "      <td>2881</td>\n",
       "      <td>2</td>\n",
       "      <td>37</td>\n",
       "      <td>68</td>\n",
       "      <td>0.00</td>\n",
       "      <td>27</td>\n",
       "      <td>2015</td>\n",
       "    </tr>\n",
       "    <tr>\n",
       "      <td>1</td>\n",
       "      <td>182</td>\n",
       "      <td>36</td>\n",
       "      <td>42</td>\n",
       "      <td>12.0</td>\n",
       "      <td>18.0</td>\n",
       "      <td>2885</td>\n",
       "      <td>1</td>\n",
       "      <td>25</td>\n",
       "      <td>54</td>\n",
       "      <td>0.00</td>\n",
       "      <td>27</td>\n",
       "      <td>2015</td>\n",
       "    </tr>\n",
       "    <tr>\n",
       "      <td>2</td>\n",
       "      <td>182</td>\n",
       "      <td>42</td>\n",
       "      <td>58</td>\n",
       "      <td>3.0</td>\n",
       "      <td>5.0</td>\n",
       "      <td>2880</td>\n",
       "      <td>1</td>\n",
       "      <td>44</td>\n",
       "      <td>55</td>\n",
       "      <td>0.03</td>\n",
       "      <td>27</td>\n",
       "      <td>2015</td>\n",
       "    </tr>\n",
       "    <tr>\n",
       "      <td>3</td>\n",
       "      <td>182</td>\n",
       "      <td>40</td>\n",
       "      <td>60</td>\n",
       "      <td>5.0</td>\n",
       "      <td>5.5</td>\n",
       "      <td>2880</td>\n",
       "      <td>2</td>\n",
       "      <td>39</td>\n",
       "      <td>58</td>\n",
       "      <td>0.00</td>\n",
       "      <td>27</td>\n",
       "      <td>2015</td>\n",
       "    </tr>\n",
       "    <tr>\n",
       "      <td>4</td>\n",
       "      <td>182</td>\n",
       "      <td>59</td>\n",
       "      <td>54</td>\n",
       "      <td>10.0</td>\n",
       "      <td>10.5</td>\n",
       "      <td>2880</td>\n",
       "      <td>2</td>\n",
       "      <td>51</td>\n",
       "      <td>55</td>\n",
       "      <td>0.00</td>\n",
       "      <td>27</td>\n",
       "      <td>2015</td>\n",
       "    </tr>\n",
       "  </tbody>\n",
       "</table>\n",
       "</div>"
      ],
      "text/plain": [
       "   doy  dropoffX  dropoffY  duration  fare_amount   mow  payment_type  \\\n",
       "0  182        36        57      17.0         15.5  2881             2   \n",
       "1  182        36        42      12.0         18.0  2885             1   \n",
       "2  182        42        58       3.0          5.0  2880             1   \n",
       "3  182        40        60       5.0          5.5  2880             2   \n",
       "4  182        59        54      10.0         10.5  2880             2   \n",
       "\n",
       "   pickupX  pickupY  tip_amount  woy  year  \n",
       "0       37       68        0.00   27  2015  \n",
       "1       25       54        0.00   27  2015  \n",
       "2       44       55        0.03   27  2015  \n",
       "3       39       58        0.00   27  2015  \n",
       "4       51       55        0.00   27  2015  "
      ]
     },
     "execution_count": 5,
     "metadata": {},
     "output_type": "execute_result"
    }
   ],
   "source": [
    "data.head()"
   ]
  },
  {
   "cell_type": "code",
   "execution_count": 6,
   "metadata": {
    "ExecuteTime": {
     "end_time": "2019-10-03T13:04:41.976701Z",
     "start_time": "2019-10-03T13:04:41.973709Z"
    },
    "scrolled": true
   },
   "outputs": [],
   "source": [
    "# data[(data.year == 2016) & (data.doy == 366)]\n",
    "# data[(data.year == 2016) & (data.doy == 365)]\n",
    "# data[(data.year == 2016) & (data.doy == 364)]\n",
    "# data[(data.year == 2016) & (data.doy == 363)]\n",
    "# data[(data.year == 2016) & (data.woy == 53)]\n",
    "# data[(data.year == 2016) & (data.doy == 1)]\n",
    "\n",
    "# data[(data.year == 2015) & (data.doy == 365)].woy.value_counts()\n",
    "\n",
    "# data[(data.year == 2016) & (data.doy == 1)].woy.value_counts()\n",
    "\n",
    "# data[(data.year == 2016) & (data.doy == 2)].woy.value_counts()\n",
    "\n",
    "# data[(data.year == 2016) & (data.doy == 3)].woy.value_counts()\n",
    "\n",
    "# data[(data.year == 2016) & (data.doy == 4)].woy.value_counts()"
   ]
  },
  {
   "cell_type": "code",
   "execution_count": 7,
   "metadata": {
    "ExecuteTime": {
     "end_time": "2019-10-03T13:04:41.982684Z",
     "start_time": "2019-10-03T13:04:41.979424Z"
    }
   },
   "outputs": [],
   "source": [
    "# # Change wrong woy of 52 in 2017 to 1\n",
    "\n",
    "# data.loc[(data.year == 2017) & (data.woy == 52), \"woy\"] = 1\n"
   ]
  },
  {
   "cell_type": "markdown",
   "metadata": {},
   "source": [
    "# Count the time of trips at each hour (should not be used)"
   ]
  },
  {
   "cell_type": "markdown",
   "metadata": {},
   "source": [
    "**This is prone to simpson's paradox. Not recommended.** If there is a time constrain, this can be used as an approximation."
   ]
  },
  {
   "cell_type": "code",
   "execution_count": 8,
   "metadata": {
    "ExecuteTime": {
     "end_time": "2019-10-03T13:04:43.947722Z",
     "start_time": "2019-10-03T13:04:41.983682Z"
    }
   },
   "outputs": [],
   "source": [
    "mod = data.mow % (60*24)\n",
    "mod.rename('mod', inplace=True);\n",
    "dow = data.mow // (60*24)\n",
    "dow.rename('dow', inplace=True);\n",
    "hod = mod // 60\n",
    "hod.rename('hod', inplace=True);"
   ]
  },
  {
   "cell_type": "code",
   "execution_count": 9,
   "metadata": {
    "ExecuteTime": {
     "end_time": "2019-10-03T13:04:44.368093Z",
     "start_time": "2019-10-03T13:04:43.948692Z"
    }
   },
   "outputs": [],
   "source": [
    "time_df = pd.DataFrame({'dow': dow, 'hod': hod, 'woy': data.woy, 'year': data.year})"
   ]
  },
  {
   "cell_type": "code",
   "execution_count": 10,
   "metadata": {
    "ExecuteTime": {
     "end_time": "2019-10-03T13:04:47.510851Z",
     "start_time": "2019-10-03T13:04:44.369091Z"
    }
   },
   "outputs": [],
   "source": [
    "h_count = time_df.hod.value_counts()"
   ]
  },
  {
   "cell_type": "code",
   "execution_count": 11,
   "metadata": {
    "ExecuteTime": {
     "end_time": "2019-10-03T13:04:47.531796Z",
     "start_time": "2019-10-03T13:04:47.511849Z"
    }
   },
   "outputs": [],
   "source": [
    "# Count the amount of trips in 12 hrs with each hour as starting time\n",
    "start_h_count = []\n",
    "for i in h_count.index:\n",
    "    index = np.arange(i, i + 12) % 24\n",
    "    shift_total = h_count.loc[index].sum()\n",
    "    start_h_count.append([i, shift_total])"
   ]
  },
  {
   "cell_type": "code",
   "execution_count": 12,
   "metadata": {
    "ExecuteTime": {
     "end_time": "2019-10-03T13:04:47.545269Z",
     "start_time": "2019-10-03T13:04:47.533297Z"
    }
   },
   "outputs": [
    {
     "data": {
      "text/plain": [
       "[[12, 179482350],\n",
       " [11, 179108383],\n",
       " [13, 176280104],\n",
       " [10, 176234397],\n",
       " [9, 173004428],\n",
       " [14, 170308786],\n",
       " [8, 169392362],\n",
       " [7, 162128440],\n",
       " [15, 161647026],\n",
       " [16, 151750103],\n",
       " [6, 150817952],\n",
       " [17, 142023144],\n",
       " [5, 138739433],\n",
       " [18, 129944625],\n",
       " [4, 129012474],\n",
       " [3, 119115551],\n",
       " [19, 118634137],\n",
       " [20, 111370215],\n",
       " [2, 110453791],\n",
       " [21, 107758149],\n",
       " [22, 104528180],\n",
       " [1, 104482473],\n",
       " [23, 101654194],\n",
       " [0, 101280227]]"
      ]
     },
     "execution_count": 12,
     "metadata": {},
     "output_type": "execute_result"
    }
   ],
   "source": [
    "sorted(start_h_count, key=lambda x:x[1], reverse=True)"
   ]
  },
  {
   "cell_type": "code",
   "execution_count": 13,
   "metadata": {
    "ExecuteTime": {
     "end_time": "2019-10-03T13:04:47.551275Z",
     "start_time": "2019-10-03T13:04:47.546266Z"
    },
    "scrolled": true
   },
   "outputs": [],
   "source": [
    "# # Or use the following.\n",
    "# window_len = 12\n",
    "# hrs_in_day = 24\n",
    "\n",
    "# pd.concat(\n",
    "#     [\n",
    "#         h_count.sort_index(),\n",
    "#         h_count.sort_index(),\n",
    "#     ]\n",
    "# ).rolling(\n",
    "#     window_len\n",
    "# ).sum(\n",
    "# ).shift(\n",
    "#     - window_len + 1\n",
    "# ).iloc[\n",
    "#     : hrs_in_day\n",
    "# ].sort_values(\n",
    "#     ascending=False\n",
    "# )"
   ]
  },
  {
   "cell_type": "markdown",
   "metadata": {},
   "source": [
    "**Above shows 12 (noon) is the best hour to start.**"
   ]
  },
  {
   "cell_type": "markdown",
   "metadata": {},
   "source": [
    "# Get best starting time."
   ]
  },
  {
   "cell_type": "markdown",
   "metadata": {},
   "source": [
    "## (assume starting the same time everyday)"
   ]
  },
  {
   "cell_type": "code",
   "execution_count": 14,
   "metadata": {
    "ExecuteTime": {
     "end_time": "2019-10-03T13:04:51.121107Z",
     "start_time": "2019-10-03T13:04:47.552250Z"
    }
   },
   "outputs": [],
   "source": [
    "days_since_2015 = data.doy + (data.year - 2015) * 365\n",
    "\n",
    "# Add 1 day for 2017 ones as 2016 has 366 days.\n",
    "days_since_2015.loc[data.year == 2017] += 1\n",
    "\n",
    "days_since_2015.rename('days_since_2015', inplace=True);"
   ]
  },
  {
   "cell_type": "code",
   "execution_count": 15,
   "metadata": {
    "ExecuteTime": {
     "end_time": "2019-10-03T13:04:51.428245Z",
     "start_time": "2019-10-03T13:04:51.122078Z"
    }
   },
   "outputs": [],
   "source": [
    "day_df = pd.concat([days_since_2015, hod], axis=1)"
   ]
  },
  {
   "cell_type": "code",
   "execution_count": 16,
   "metadata": {
    "ExecuteTime": {
     "end_time": "2019-10-03T13:05:11.011145Z",
     "start_time": "2019-10-03T13:04:51.429243Z"
    },
    "scrolled": true
   },
   "outputs": [],
   "source": [
    "d_h_count = day_df.groupby(['days_since_2015', 'hod']).size()\n",
    "d_h_count = d_h_count.to_frame(name='counts')"
   ]
  },
  {
   "cell_type": "code",
   "execution_count": 17,
   "metadata": {
    "ExecuteTime": {
     "end_time": "2019-10-03T13:05:11.035327Z",
     "start_time": "2019-10-03T13:05:11.015136Z"
    },
    "scrolled": true
   },
   "outputs": [
    {
     "data": {
      "text/html": [
       "<div>\n",
       "<style scoped>\n",
       "    .dataframe tbody tr th:only-of-type {\n",
       "        vertical-align: middle;\n",
       "    }\n",
       "\n",
       "    .dataframe tbody tr th {\n",
       "        vertical-align: top;\n",
       "    }\n",
       "\n",
       "    .dataframe thead th {\n",
       "        text-align: right;\n",
       "    }\n",
       "</style>\n",
       "<table border=\"1\" class=\"dataframe\">\n",
       "  <thead>\n",
       "    <tr style=\"text-align: right;\">\n",
       "      <th></th>\n",
       "      <th></th>\n",
       "      <th>counts</th>\n",
       "    </tr>\n",
       "    <tr>\n",
       "      <th>days_since_2015</th>\n",
       "      <th>hod</th>\n",
       "      <th></th>\n",
       "    </tr>\n",
       "  </thead>\n",
       "  <tbody>\n",
       "    <tr>\n",
       "      <td rowspan=\"5\" valign=\"top\">182</td>\n",
       "      <td>0</td>\n",
       "      <td>15064</td>\n",
       "    </tr>\n",
       "    <tr>\n",
       "      <td>1</td>\n",
       "      <td>8638</td>\n",
       "    </tr>\n",
       "    <tr>\n",
       "      <td>2</td>\n",
       "      <td>5210</td>\n",
       "    </tr>\n",
       "    <tr>\n",
       "      <td>3</td>\n",
       "      <td>3489</td>\n",
       "    </tr>\n",
       "    <tr>\n",
       "      <td>4</td>\n",
       "      <td>3382</td>\n",
       "    </tr>\n",
       "  </tbody>\n",
       "</table>\n",
       "</div>"
      ],
      "text/plain": [
       "                     counts\n",
       "days_since_2015 hod        \n",
       "182             0     15064\n",
       "                1      8638\n",
       "                2      5210\n",
       "                3      3489\n",
       "                4      3382"
      ]
     },
     "execution_count": 17,
     "metadata": {},
     "output_type": "execute_result"
    }
   ],
   "source": [
    "d_h_count.head()"
   ]
  },
  {
   "cell_type": "code",
   "execution_count": 18,
   "metadata": {
    "ExecuteTime": {
     "end_time": "2019-10-03T13:05:11.050287Z",
     "start_time": "2019-10-03T13:05:11.036325Z"
    }
   },
   "outputs": [],
   "source": [
    "shift_window = 12\n",
    "rolling_sum = d_h_count['counts'].rolling(shift_window).sum().to_frame()\n",
    "rolling_sum = rolling_sum.shift(periods=- shift_window + 1)"
   ]
  },
  {
   "cell_type": "code",
   "execution_count": 19,
   "metadata": {
    "ExecuteTime": {
     "end_time": "2019-10-03T13:05:11.059262Z",
     "start_time": "2019-10-03T13:05:11.051284Z"
    },
    "scrolled": true
   },
   "outputs": [
    {
     "data": {
      "text/html": [
       "<div>\n",
       "<style scoped>\n",
       "    .dataframe tbody tr th:only-of-type {\n",
       "        vertical-align: middle;\n",
       "    }\n",
       "\n",
       "    .dataframe tbody tr th {\n",
       "        vertical-align: top;\n",
       "    }\n",
       "\n",
       "    .dataframe thead th {\n",
       "        text-align: right;\n",
       "    }\n",
       "</style>\n",
       "<table border=\"1\" class=\"dataframe\">\n",
       "  <thead>\n",
       "    <tr style=\"text-align: right;\">\n",
       "      <th></th>\n",
       "      <th></th>\n",
       "      <th>counts</th>\n",
       "    </tr>\n",
       "    <tr>\n",
       "      <th>days_since_2015</th>\n",
       "      <th>hod</th>\n",
       "      <th></th>\n",
       "    </tr>\n",
       "  </thead>\n",
       "  <tbody>\n",
       "    <tr>\n",
       "      <td rowspan=\"5\" valign=\"top\">182</td>\n",
       "      <td>0</td>\n",
       "      <td>153321.0</td>\n",
       "    </tr>\n",
       "    <tr>\n",
       "      <td>1</td>\n",
       "      <td>158377.0</td>\n",
       "    </tr>\n",
       "    <tr>\n",
       "      <td>2</td>\n",
       "      <td>169932.0</td>\n",
       "    </tr>\n",
       "    <tr>\n",
       "      <td>3</td>\n",
       "      <td>185039.0</td>\n",
       "    </tr>\n",
       "    <tr>\n",
       "      <td>4</td>\n",
       "      <td>201020.0</td>\n",
       "    </tr>\n",
       "  </tbody>\n",
       "</table>\n",
       "</div>"
      ],
      "text/plain": [
       "                       counts\n",
       "days_since_2015 hod          \n",
       "182             0    153321.0\n",
       "                1    158377.0\n",
       "                2    169932.0\n",
       "                3    185039.0\n",
       "                4    201020.0"
      ]
     },
     "execution_count": 19,
     "metadata": {},
     "output_type": "execute_result"
    }
   ],
   "source": [
    "rolling_sum.head()"
   ]
  },
  {
   "cell_type": "code",
   "execution_count": 20,
   "metadata": {
    "ExecuteTime": {
     "end_time": "2019-10-03T13:05:11.453209Z",
     "start_time": "2019-10-03T13:05:11.060260Z"
    }
   },
   "outputs": [],
   "source": [
    "best_hour = []\n",
    "# Note the [: -1]. As hour counts for the last day in the dataset is\n",
    "# incomplete, therfore, the last day is discarded.\n",
    "for i in rolling_sum.index.levels[0][: -1]:\n",
    "    best_hour.append(rolling_sum.loc[i].idxmax().iloc[0])"
   ]
  },
  {
   "cell_type": "code",
   "execution_count": 21,
   "metadata": {
    "ExecuteTime": {
     "end_time": "2019-10-03T13:05:11.457199Z",
     "start_time": "2019-10-03T13:05:11.454206Z"
    }
   },
   "outputs": [],
   "source": [
    "from collections import Counter"
   ]
  },
  {
   "cell_type": "code",
   "execution_count": 22,
   "metadata": {
    "ExecuteTime": {
     "end_time": "2019-10-03T13:05:11.466174Z",
     "start_time": "2019-10-03T13:05:11.458195Z"
    }
   },
   "outputs": [],
   "source": [
    "best_hour = sorted(Counter(best_hour).items(), key=lambda x: x[1], reverse=True)"
   ]
  },
  {
   "cell_type": "code",
   "execution_count": 23,
   "metadata": {
    "ExecuteTime": {
     "end_time": "2019-10-03T13:05:11.473156Z",
     "start_time": "2019-10-03T13:05:11.467172Z"
    }
   },
   "outputs": [
    {
     "data": {
      "text/plain": [
       "[(11, 248),\n",
       " (12, 187),\n",
       " (14, 107),\n",
       " (10, 77),\n",
       " (13, 74),\n",
       " (8, 18),\n",
       " (15, 8),\n",
       " (9, 5),\n",
       " (0, 3),\n",
       " (16, 2),\n",
       " (23, 1)]"
      ]
     },
     "execution_count": 23,
     "metadata": {},
     "output_type": "execute_result"
    }
   ],
   "source": [
    "best_hour"
   ]
  },
  {
   "cell_type": "code",
   "execution_count": 24,
   "metadata": {
    "ExecuteTime": {
     "end_time": "2019-10-03T13:05:11.481135Z",
     "start_time": "2019-10-03T13:05:11.474153Z"
    }
   },
   "outputs": [
    {
     "name": "stdout",
     "output_type": "stream",
     "text": [
      "Starting time: 11. Number of times being best: 248\n",
      "Starting time: 12. Number of times being best: 187\n",
      "Starting time: 14. Number of times being best: 107\n",
      "Starting time: 10. Number of times being best: 77\n",
      "Starting time: 13. Number of times being best: 74\n",
      "Starting time: 8. Number of times being best: 18\n",
      "Starting time: 15. Number of times being best: 8\n",
      "Starting time: 9. Number of times being best: 5\n",
      "Starting time: 0. Number of times being best: 3\n",
      "Starting time: 16. Number of times being best: 2\n",
      "Starting time: 23. Number of times being best: 1\n"
     ]
    }
   ],
   "source": [
    "for i in best_hour:\n",
    "    print(f'Starting time: {i[0]}. Number of times being best: {i[1]}')"
   ]
  },
  {
   "cell_type": "markdown",
   "metadata": {},
   "source": [
    "# Find optimum starting time for each day of week"
   ]
  },
  {
   "cell_type": "code",
   "execution_count": 25,
   "metadata": {
    "ExecuteTime": {
     "end_time": "2019-10-03T13:05:12.295833Z",
     "start_time": "2019-10-03T13:05:11.484127Z"
    }
   },
   "outputs": [],
   "source": [
    "dow_h_df = pd.concat([days_since_2015, dow, hod], axis=1)"
   ]
  },
  {
   "cell_type": "code",
   "execution_count": 26,
   "metadata": {
    "ExecuteTime": {
     "end_time": "2019-10-03T13:05:32.833773Z",
     "start_time": "2019-10-03T13:05:12.296827Z"
    }
   },
   "outputs": [],
   "source": [
    "dow_h_count = dow_h_df.groupby(['days_since_2015', 'dow', 'hod']).size()"
   ]
  },
  {
   "cell_type": "code",
   "execution_count": 27,
   "metadata": {
    "ExecuteTime": {
     "end_time": "2019-10-03T13:05:32.838760Z",
     "start_time": "2019-10-03T13:05:32.834770Z"
    }
   },
   "outputs": [],
   "source": [
    "dow_h_count = dow_h_count.to_frame(name='counts')"
   ]
  },
  {
   "cell_type": "code",
   "execution_count": null,
   "metadata": {},
   "outputs": [],
   "source": []
  },
  {
   "cell_type": "code",
   "execution_count": null,
   "metadata": {},
   "outputs": [],
   "source": []
  },
  {
   "cell_type": "code",
   "execution_count": 28,
   "metadata": {
    "ExecuteTime": {
     "end_time": "2019-10-03T13:05:32.850239Z",
     "start_time": "2019-10-03T13:05:32.840263Z"
    }
   },
   "outputs": [],
   "source": [
    "with_dow_rolling_sum = dow_h_count['counts'].rolling(12).sum().to_frame()\n",
    "with_dow_rolling_sum = with_dow_rolling_sum.shift(periods=-11)"
   ]
  },
  {
   "cell_type": "code",
   "execution_count": null,
   "metadata": {},
   "outputs": [],
   "source": []
  },
  {
   "cell_type": "code",
   "execution_count": 29,
   "metadata": {
    "ExecuteTime": {
     "end_time": "2019-10-03T13:05:32.856224Z",
     "start_time": "2019-10-03T13:05:32.852235Z"
    }
   },
   "outputs": [],
   "source": [
    "def get_best_hour(rolling_sum):\n",
    "    best_hour = []\n",
    "    for i in set(rolling_sum.index.get_level_values(0)):\n",
    "        best_hour.append(rolling_sum.loc[i].idxmax().iloc[0])\n",
    "    return sorted(Counter(best_hour).items(), key=lambda x: x[1], reverse=True)"
   ]
  },
  {
   "cell_type": "code",
   "execution_count": 30,
   "metadata": {
    "ExecuteTime": {
     "end_time": "2019-10-03T13:05:33.257806Z",
     "start_time": "2019-10-03T13:05:32.857220Z"
    },
    "scrolled": true
   },
   "outputs": [],
   "source": [
    "best_hour_dow = []\n",
    "for i in set(with_dow_rolling_sum.index.levels[1]):\n",
    "    # Get instances with i day of week.\n",
    "    best_hour_dow.append([i, get_best_hour(with_dow_rolling_sum.xs(i, level='dow'))])"
   ]
  },
  {
   "cell_type": "code",
   "execution_count": 31,
   "metadata": {
    "ExecuteTime": {
     "end_time": "2019-10-03T13:05:33.264798Z",
     "start_time": "2019-10-03T13:05:33.258780Z"
    }
   },
   "outputs": [
    {
     "data": {
      "text/plain": [
       "[[0, [(11, 82), (8, 12), (10, 6), (9, 2), (13, 1), (12, 1)]],\n",
       " [1, [(11, 81), (12, 14), (8, 4), (9, 3), (23, 1), (10, 1)]],\n",
       " [2, [(12, 54), (11, 49), (8, 2)]],\n",
       " [3, [(12, 93), (11, 6), (13, 5), (16, 1)]],\n",
       " [4, [(14, 64), (13, 27), (12, 8), (15, 4), (11, 1), (0, 1)]],\n",
       " [5,\n",
       "  [(14, 43), (13, 40), (12, 12), (15, 4), (10, 2), (16, 1), (11, 1), (0, 1)]],\n",
       " [6, [(10, 68), (11, 28), (12, 6), (13, 1), (0, 1)]]]"
      ]
     },
     "execution_count": 31,
     "metadata": {},
     "output_type": "execute_result"
    }
   ],
   "source": [
    "best_hour_dow"
   ]
  },
  {
   "cell_type": "code",
   "execution_count": 32,
   "metadata": {
    "ExecuteTime": {
     "end_time": "2019-10-03T13:05:33.273759Z",
     "start_time": "2019-10-03T13:05:33.265762Z"
    }
   },
   "outputs": [
    {
     "name": "stdout",
     "output_type": "stream",
     "text": [
      "Day of week: 0. Starting hour: 11\n",
      "Day of week: 1. Starting hour: 11\n",
      "Day of week: 2. Starting hour: 12\n",
      "Day of week: 3. Starting hour: 12\n",
      "Day of week: 4. Starting hour: 14\n",
      "Day of week: 5. Starting hour: 14\n",
      "Day of week: 6. Starting hour: 10\n"
     ]
    }
   ],
   "source": [
    "for i in best_hour_dow:\n",
    "    print(f'Day of week: {i[0]}. Starting hour: {i[1][0][0]}')"
   ]
  },
  {
   "cell_type": "code",
   "execution_count": null,
   "metadata": {},
   "outputs": [],
   "source": []
  },
  {
   "cell_type": "code",
   "execution_count": null,
   "metadata": {},
   "outputs": [],
   "source": []
  },
  {
   "cell_type": "code",
   "execution_count": null,
   "metadata": {},
   "outputs": [],
   "source": []
  },
  {
   "cell_type": "code",
   "execution_count": null,
   "metadata": {},
   "outputs": [],
   "source": []
  },
  {
   "cell_type": "code",
   "execution_count": null,
   "metadata": {},
   "outputs": [],
   "source": []
  },
  {
   "cell_type": "code",
   "execution_count": null,
   "metadata": {},
   "outputs": [],
   "source": []
  },
  {
   "cell_type": "code",
   "execution_count": null,
   "metadata": {},
   "outputs": [],
   "source": []
  },
  {
   "cell_type": "code",
   "execution_count": null,
   "metadata": {},
   "outputs": [],
   "source": []
  },
  {
   "cell_type": "code",
   "execution_count": null,
   "metadata": {},
   "outputs": [],
   "source": []
  },
  {
   "cell_type": "code",
   "execution_count": null,
   "metadata": {},
   "outputs": [],
   "source": []
  }
 ],
 "metadata": {
  "kernelspec": {
   "display_name": "Python 3",
   "language": "python",
   "name": "python3"
  },
  "language_info": {
   "codemirror_mode": {
    "name": "ipython",
    "version": 3
   },
   "file_extension": ".py",
   "mimetype": "text/x-python",
   "name": "python",
   "nbconvert_exporter": "python",
   "pygments_lexer": "ipython3",
   "version": "3.6.9"
  },
  "latex_envs": {
   "LaTeX_envs_menu_present": true,
   "autoclose": false,
   "autocomplete": true,
   "bibliofile": "biblio.bib",
   "cite_by": "apalike",
   "current_citInitial": 1,
   "eqLabelWithNumbers": true,
   "eqNumInitial": 1,
   "hotkeys": {
    "equation": "Ctrl-E",
    "itemize": "Ctrl-I"
   },
   "labels_anchors": false,
   "latex_user_defs": false,
   "report_style_numbering": false,
   "user_envs_cfg": false
  },
  "toc": {
   "base_numbering": 1,
   "nav_menu": {},
   "number_sections": true,
   "sideBar": true,
   "skip_h1_title": false,
   "title_cell": "Table of Contents",
   "title_sidebar": "Contents",
   "toc_cell": true,
   "toc_position": {},
   "toc_section_display": true,
   "toc_window_display": false
  }
 },
 "nbformat": 4,
 "nbformat_minor": 2
}
